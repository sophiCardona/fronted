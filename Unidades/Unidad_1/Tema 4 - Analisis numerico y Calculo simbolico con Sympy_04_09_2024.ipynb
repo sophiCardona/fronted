{
  "cells": [
    {
      "cell_type": "markdown",
      "metadata": {
        "id": "ZT4WJgHHzVU5"
      },
      "source": [
        "# Algebra computacional con `Sympy`\n",
        "\n",
        "Basado en [Taming math and physics using SymPy](https://minireference.com/static/tutorials/sympy_tutorial.pdf) y [Sympy : Symbolic Mathematics in Python](https://scipy-lectures.org/packages/sympy.html)"
      ]
    },
    {
      "cell_type": "markdown",
      "metadata": {
        "id": "RAIRwyChzVU6"
      },
      "source": [
        "## Conceptos básicos de `Sympy`"
      ]
    },
    {
      "cell_type": "code",
      "execution_count": null,
      "metadata": {
        "id": "SxlO-4lzzVU7"
      },
      "outputs": [],
      "source": [
        "# Importar librerias de cálculo matemático\n",
        "from sympy import *\n",
        "import numpy as np\n",
        "\n",
        "# Importar libreria para gráficos\n",
        "import matplotlib.pyplot as plt\n",
        "%matplotlib inline"
      ]
    },
    {
      "cell_type": "code",
      "execution_count": null,
      "metadata": {
        "colab": {
          "base_uri": "https://localhost:8080/"
        },
        "id": "QLehVBBezVU_",
        "outputId": "347d9368-6ea5-4dd8-d08b-6dc329325279"
      },
      "outputs": [
        {
          "name": "stdout",
          "output_type": "stream",
          "text": [
            "Tipo expresión:  1/7 <class 'sympy.core.numbers.Rational'>\n",
            "Tipo numérico:  0.142857142857143 <class 'sympy.core.numbers.Float'>\n",
            "8/7\n",
            "1.14285714285714\n"
          ]
        }
      ],
      "source": [
        "# Forzar una expresión como simbólica\n",
        "expr = S(\"1/7\")\n",
        "print (\"Tipo expresión: \", expr, type(expr))\n",
        "\n",
        "# Obtener su valor numérico\n",
        "num = N(\"1/7\")\n",
        "print (\"Tipo numérico: \", num, type(num))\n",
        "\n",
        "# Operaciones para Racional y Flotante de sympy\n",
        "print (expr+1)\n",
        "print (num+1)"
      ]
    },
    {
      "cell_type": "code",
      "execution_count": null,
      "metadata": {
        "colab": {
          "base_uri": "https://localhost:8080/"
        },
        "id": "cbQqs9yKbEIs",
        "outputId": "75ccbb4a-edb1-4ad2-8f28-fc3bb36b2fe1"
      },
      "outputs": [
        {
          "name": "stdout",
          "output_type": "stream",
          "text": [
            "<class 'str'>\n",
            "<class 'sympy.core.numbers.Rational'>\n"
          ]
        }
      ],
      "source": [
        "# Cadena de texto sencilla\n",
        "x='1/7'\n",
        "print(type(x))\n",
        "\n",
        "# Expresión simbólica de Sympy, usando comando S(\"expresion\")\n",
        "y=S('1/7')\n",
        "print(type(y))"
      ]
    },
    {
      "cell_type": "code",
      "execution_count": null,
      "metadata": {
        "colab": {
          "base_uri": "https://localhost:8080/"
        },
        "id": "TA8u6U4zveI6",
        "outputId": "0670a60a-4798-4fbb-bba4-58a1cb6fe6ec"
      },
      "outputs": [
        {
          "name": "stdout",
          "output_type": "stream",
          "text": [
            "1/7\n",
            "0.142857142857143\n",
            "8/7\n",
            "1.14285714285714\n",
            "<class 'sympy.core.numbers.Rational'> <class 'sympy.core.numbers.Float'>\n"
          ]
        }
      ],
      "source": [
        "# Ejemplos de expresiones y operaciones con las mismas\n",
        "## Como racional\n",
        "print(S('1/7'))\n",
        "\n",
        "## Como numérico\n",
        "print(N('1/7'))\n",
        "\n",
        "## Operación como racional\n",
        "print(S('1/7')+1)\n",
        "\n",
        "## Operación como numérico\n",
        "print(N('1/7')+1)\n",
        "\n",
        "## Tipos racional y flotante\n",
        "print(type(S('1/7')),type(N('1/7')))"
      ]
    },
    {
      "cell_type": "code",
      "execution_count": null,
      "metadata": {
        "colab": {
          "base_uri": "https://localhost:8080/"
        },
        "id": "WqVavz8-zVVD",
        "outputId": "685b01ba-abd0-4e9f-d8b5-2da32e3ef644"
      },
      "outputs": [
        {
          "name": "stdout",
          "output_type": "stream",
          "text": [
            "pi \t <class 'sympy.core.numbers.Pi'>\n",
            "1 + pi \t <class 'sympy.core.add.Add'>\n",
            "4.14159265358979 \t <class 'sympy.core.numbers.Float'>\n",
            "3.141592653589793 \t <class 'float'>\n",
            "4.141592653589793 \t <class 'float'>\n"
          ]
        }
      ],
      "source": [
        "# pi es la expresión de Sympy, mientras que np.pi es la de Numpy\n",
        "\n",
        "print (pi, \"\\t\", type(pi))\n",
        "print (pi + 1, \"\\t\", type(pi+1))\n",
        "print (N(pi+1), \"\\t\", type(N(pi+1)))\n",
        "print (np.pi, \"\\t\", type(np.pi))\n",
        "print (np.pi+1, \"\\t\", type(np.pi+1))"
      ]
    },
    {
      "cell_type": "code",
      "execution_count": null,
      "metadata": {
        "colab": {
          "base_uri": "https://localhost:8080/",
          "height": 58
        },
        "id": "VyefTEOIzVVF",
        "outputId": "9f9949c0-b8df-447c-f5fb-0910b637daa9"
      },
      "outputs": [
        {
          "data": {
            "image/png": "[encoded data removed]",
            "text/latex": [
              "$\\displaystyle \\left( \\pi, \\  \\frac{1}{7}\\right)$"
            ],
            "text/plain": [
              "(π, 1/7)"
            ]
          },
          "execution_count": 44,
          "metadata": {},
          "output_type": "execute_result"
        }
      ],
      "source": [
        "# Poniendo a Sympy a que imprima resultados bonitos\n",
        "init_printing(use_latex=True)\n",
        "pi, expr"
      ]
    },
    {
      "cell_type": "code",
      "execution_count": null,
      "metadata": {
        "colab": {
          "base_uri": "https://localhost:8080/"
        },
        "id": "fg7kNmvMzVVL",
        "outputId": "e6fe1a6d-7889-4615-cd3a-238e5f95999e"
      },
      "outputs": [
        {
          "data": {
            "text/plain": [
              "(π, 1/7)"
            ]
          },
          "execution_count": 45,
          "metadata": {},
          "output_type": "execute_result"
        }
      ],
      "source": [
        "# Poniendo a Sympy a que imprima resultados NO bonitos\n",
        "init_printing(use_latex=False)\n",
        "pi, expr"
      ]
    },
    {
      "cell_type": "markdown",
      "metadata": {
        "id": "9OgNKb2mzVVN"
      },
      "source": [
        "## Expresiones"
      ]
    },
    {
      "cell_type": "code",
      "execution_count": null,
      "metadata": {
        "colab": {
          "base_uri": "https://localhost:8080/"
        },
        "id": "i2aG5s2Y6Ybz",
        "outputId": "b0434e78-2583-49fc-9553-b1e34dad89aa"
      },
      "outputs": [
        {
          "data": {
            "text/plain": [
              "6"
            ]
          },
          "execution_count": 46,
          "metadata": {},
          "output_type": "execute_result"
        }
      ],
      "source": [
        "# Usando variables regulares de Python\n",
        "t=2\n",
        "y=3*t\n",
        "y"
      ]
    },
    {
      "cell_type": "code",
      "execution_count": null,
      "metadata": {
        "colab": {
          "base_uri": "https://localhost:8080/",
          "height": 205
        },
        "id": "OjnlOih-zVVO",
        "outputId": "5cdcbf2d-507e-4eb6-9307-53d994cf7896",
        "tags": [
          "raises-exception"
        ]
      },
      "outputs": [
        {
          "ename": "TypeError",
          "evalue": "ignored",
          "output_type": "error",
          "traceback": [
            "\u001b[0;31m---------------------------------------------------------------------------\u001b[0m",
            "\u001b[0;31mTypeError\u001b[0m                                 Traceback (most recent call last)",
            "\u001b[0;32m<ipython-input-47-519f78f4039f>\u001b[0m in \u001b[0;36m<module>\u001b[0;34m\u001b[0m\n\u001b[1;32m      3\u001b[0m \u001b[0;31m# Usando variables simbólicas sin Sympy\u001b[0m\u001b[0;34m\u001b[0m\u001b[0;34m\u001b[0m\u001b[0;34m\u001b[0m\u001b[0m\n\u001b[1;32m      4\u001b[0m \u001b[0;34m\u001b[0m\u001b[0m\n\u001b[0;32m----> 5\u001b[0;31m \u001b[0mexpr\u001b[0m \u001b[0;34m=\u001b[0m \u001b[0;36m2\u001b[0m\u001b[0;34m*\u001b[0m\u001b[0mx\u001b[0m \u001b[0;34m+\u001b[0m \u001b[0;36m3\u001b[0m\u001b[0;34m*\u001b[0m\u001b[0mx\u001b[0m \u001b[0;34m-\u001b[0m \u001b[0msin\u001b[0m\u001b[0;34m(\u001b[0m\u001b[0mx\u001b[0m\u001b[0;34m)\u001b[0m \u001b[0;34m-\u001b[0m \u001b[0;36m3\u001b[0m\u001b[0;34m*\u001b[0m\u001b[0mx\u001b[0m \u001b[0;34m+\u001b[0m \u001b[0;36m42\u001b[0m\u001b[0;34m\u001b[0m\u001b[0;34m\u001b[0m\u001b[0m\n\u001b[0m",
            "\u001b[0;31mTypeError\u001b[0m: unsupported operand type(s) for -: 'str' and 'sin'"
          ]
        }
      ],
      "source": [
        "# Tiene el tag: raises-exception, para que aunque tiene error continue compilando el notebook (View,Cell Toolbar,Tags)\n",
        "\n",
        "# Usando variables simbólicas sin Sympy\n",
        "\n",
        "expr = 2*x + 3*x - sin(x) - 3*x + 42"
      ]
    },
    {
      "cell_type": "markdown",
      "metadata": {
        "id": "LgUe3_n4bEIx"
      },
      "source": [
        "### Definir variables"
      ]
    },
    {
      "cell_type": "code",
      "execution_count": null,
      "metadata": {
        "colab": {
          "base_uri": "https://localhost:8080/"
        },
        "id": "DfjXxutbbEIy",
        "outputId": "03172f66-061f-48dd-b3a0-811128e4e14d"
      },
      "outputs": [
        {
          "data": {
            "text/plain": [
              "2⋅x - sin(x) + 42"
            ]
          },
          "execution_count": 48,
          "metadata": {},
          "output_type": "execute_result"
        }
      ],
      "source": [
        "# Definir variables simbólicas con Sympy\n",
        "\n",
        "## Definir las variables\n",
        "x,y,z  = symbols(\"x y z\")\n",
        "\n",
        "## Ahora sí, escribir la expresión\n",
        "expr = 2*x + 3*x - sin(x) - 3*x + 42\n",
        "expr"
      ]
    },
    {
      "cell_type": "code",
      "execution_count": null,
      "metadata": {
        "colab": {
          "base_uri": "https://localhost:8080/"
        },
        "id": "89WCOZigbEIy",
        "outputId": "afcfa0c1-9bee-43b8-8ec1-70f9350f3766"
      },
      "outputs": [
        {
          "data": {
            "text/plain": [
              "m + 2⋅n"
            ]
          },
          "execution_count": 49,
          "metadata": {},
          "output_type": "execute_result"
        }
      ],
      "source": [
        "nu,mu = symbols(\"n,m\")\n",
        "nu*2+mu"
      ]
    },
    {
      "cell_type": "code",
      "execution_count": null,
      "metadata": {
        "colab": {
          "base_uri": "https://localhost:8080/"
        },
        "id": "dZKAK3FobEIy",
        "outputId": "3490ca98-8096-47d0-fa94-383ec2fbfa16"
      },
      "outputs": [
        {
          "data": {
            "text/plain": [
              "\\alpha + 2⋅\\gamma"
            ]
          },
          "execution_count": 50,
          "metadata": {},
          "output_type": "execute_result"
        }
      ],
      "source": [
        "g,a = symbols(\"\\\\gamma \\\\alpha\")\n",
        "g*2+a"
      ]
    },
    {
      "cell_type": "code",
      "execution_count": null,
      "metadata": {
        "colab": {
          "base_uri": "https://localhost:8080/"
        },
        "id": "oiGOND5ObEIz",
        "outputId": "a23496f1-9f26-462f-c7eb-88db1ea85552"
      },
      "outputs": [
        {
          "data": {
            "text/plain": [
              "3⋅\\phi + 5⋅\\theta + 2⋅r"
            ]
          },
          "execution_count": 51,
          "metadata": {},
          "output_type": "execute_result"
        }
      ],
      "source": [
        "r, p, t = symbols(\"r, \\\\phi, \\\\theta\")\n",
        "2*r+3*p+5*t"
      ]
    },
    {
      "cell_type": "code",
      "execution_count": null,
      "metadata": {
        "colab": {
          "base_uri": "https://localhost:8080/"
        },
        "id": "BS9A4BtbzVVT",
        "outputId": "3da6c7f7-d54f-4117-b704-112f34a8fe24"
      },
      "outputs": [
        {
          "name": "stdout",
          "output_type": "stream",
          "text": [
            "<class 'int'>\n",
            "<class 'sympy.core.symbol.Symbol'>\n"
          ]
        }
      ],
      "source": [
        "## Revisión de tipos luego de Definir las variables x,y,z\n",
        "\n",
        "w=3\n",
        "print(type(w))\n",
        "print(type(x))"
      ]
    },
    {
      "cell_type": "code",
      "execution_count": null,
      "metadata": {
        "id": "RbBxXtyvwtqE"
      },
      "outputs": [],
      "source": [
        "# Poniendo a Sympy a que imprima resultados bonitos, de esta celda en adelante\n",
        "\n",
        "init_printing(use_latex=True)"
      ]
    },
    {
      "cell_type": "markdown",
      "metadata": {
        "id": "hvGFEbshbEIz"
      },
      "source": [
        "### Expandir y factorizar"
      ]
    },
    {
      "cell_type": "code",
      "execution_count": null,
      "metadata": {
        "colab": {
          "base_uri": "https://localhost:8080/",
          "height": 38
        },
        "id": "kVpZG8cgzVVV",
        "outputId": "debac300-3ca5-40c4-b5e8-6185848c1427"
      },
      "outputs": [
        {
          "data": {
            "image/png": "[encoded data removed]",
            "text/latex": [
              "$\\displaystyle x^{2} + 6 x + 9$"
            ],
            "text/plain": [
              " 2          \n",
              "x  + 6⋅x + 9"
            ]
          },
          "execution_count": 54,
          "metadata": {},
          "output_type": "execute_result"
        }
      ],
      "source": [
        "# Expandir\n",
        "\n",
        "expand( (x+3)**2 )"
      ]
    },
    {
      "cell_type": "code",
      "execution_count": null,
      "metadata": {
        "colab": {
          "base_uri": "https://localhost:8080/",
          "height": 38
        },
        "id": "ro9Nvcn9zVVY",
        "outputId": "f1fe7860-31e5-4f47-c8ef-fdba76782739"
      },
      "outputs": [
        {
          "data": {
            "image/png": "[encoded data removed]",
            "text/latex": [
              "$\\displaystyle \\left(x + 2\\right) \\left(x + 3\\right)$"
            ],
            "text/plain": [
              "(x + 2)⋅(x + 3)"
            ]
          },
          "execution_count": 55,
          "metadata": {},
          "output_type": "execute_result"
        }
      ],
      "source": [
        "# Factorizar\n",
        "\n",
        "factor( x**2 + 5*x + 6 )"
      ]
    },
    {
      "cell_type": "markdown",
      "metadata": {
        "id": "Yf7Rm53VzVVd"
      },
      "source": [
        "### Sustituciones"
      ]
    },
    {
      "cell_type": "code",
      "execution_count": null,
      "metadata": {
        "colab": {
          "base_uri": "https://localhost:8080/",
          "height": 53
        },
        "id": "NwLFe-r3zVVd",
        "outputId": "af48737d-7dff-4450-dd57-024634c97b2f"
      },
      "outputs": [
        {
          "data": {
            "image/png": "[encoded data removed]",
            "text/latex": [
              "$\\displaystyle \\frac{\\sin{\\left(x \\right)}}{2} + \\frac{\\cos{\\left(y \\right)}}{2}$"
            ],
            "text/plain": [
              "sin(x)   cos(y)\n",
              "────── + ──────\n",
              "  2        2   "
            ]
          },
          "execution_count": 56,
          "metadata": {},
          "output_type": "execute_result"
        }
      ],
      "source": [
        "# Definir la expresión\n",
        "\n",
        "expr = (sin(x) + cos(y)) / 2\n",
        "expr"
      ]
    },
    {
      "cell_type": "code",
      "execution_count": null,
      "metadata": {
        "colab": {
          "base_uri": "https://localhost:8080/",
          "height": 53
        },
        "id": "EgMnNC9kzVVf",
        "outputId": "d96e7987-79f1-4bdc-fe43-87efc6911e1d"
      },
      "outputs": [
        {
          "data": {
            "image/png": "[encoded data removed]",
            "text/latex": [
              "$\\displaystyle \\frac{\\cos{\\left(2 \\right)}}{2} + \\frac{\\sin{\\left(1 \\right)}}{2}$"
            ],
            "text/plain": [
              "cos(2)   sin(1)\n",
              "────── + ──────\n",
              "  2        2   "
            ]
          },
          "execution_count": 57,
          "metadata": {},
          "output_type": "execute_result"
        }
      ],
      "source": [
        "# Sustituir \"x\" por 1, e \"y\" por 2\n",
        "\n",
        "expr.subs({x: 1, y:2})"
      ]
    },
    {
      "cell_type": "code",
      "execution_count": null,
      "metadata": {
        "colab": {
          "base_uri": "https://localhost:8080/",
          "height": 37
        },
        "id": "xoAR8kWGzVVi",
        "outputId": "914f50eb-31ff-42ba-fb8b-cb7a4047207d"
      },
      "outputs": [
        {
          "data": {
            "image/png": "[encoded data removed]",
            "text/latex": [
              "$\\displaystyle 0.212662074130377$"
            ],
            "text/plain": [
              "0.212662074130377"
            ]
          },
          "execution_count": 58,
          "metadata": {},
          "output_type": "execute_result"
        }
      ],
      "source": [
        "# Obtener el valor numérico flotante\n",
        "\n",
        "N(expr.subs({x: 1, y:2}))"
      ]
    },
    {
      "cell_type": "code",
      "execution_count": null,
      "metadata": {
        "colab": {
          "base_uri": "https://localhost:8080/",
          "height": 56
        },
        "id": "GpV8F3kuzVVk",
        "outputId": "167a3f93-0102-4a89-8a9c-b817b621bac6"
      },
      "outputs": [
        {
          "data": {
            "image/png": "[encoded data removed]",
            "text/latex": [
              "$\\displaystyle \\frac{\\sin{\\left(y^{2} + 1 \\right)}}{2} + \\frac{\\cos{\\left(y \\right)}}{2}$"
            ],
            "text/plain": [
              "   ⎛ 2    ⎞         \n",
              "sin⎝y  + 1⎠   cos(y)\n",
              "─────────── + ──────\n",
              "     2          2   "
            ]
          },
          "execution_count": 59,
          "metadata": {},
          "output_type": "execute_result"
        }
      ],
      "source": [
        "# Sustituir \"x\" por otra expresión\n",
        "\n",
        "expr.subs({x: y**2+1})"
      ]
    },
    {
      "cell_type": "code",
      "execution_count": null,
      "metadata": {
        "colab": {
          "base_uri": "https://localhost:8080/",
          "height": 53
        },
        "id": "6Q411JgozVVm",
        "outputId": "13f1a0c5-ddef-4dc9-ecdf-5efbaf235655"
      },
      "outputs": [
        {
          "data": {
            "image/png": "[encoded data removed]",
            "text/latex": [
              "$\\displaystyle \\frac{\\sin{\\left(5 \\right)}}{2} + \\frac{\\cos{\\left(2 \\right)}}{2}$"
            ],
            "text/plain": [
              "sin(5)   cos(2)\n",
              "────── + ──────\n",
              "  2        2   "
            ]
          },
          "execution_count": 60,
          "metadata": {},
          "output_type": "execute_result"
        }
      ],
      "source": [
        "# Sustituir por otra expresión, y la única variable \"y\", sustituirla por el número 2\n",
        "\n",
        "expr.subs({x: y**2+1}).subs({y: 2})"
      ]
    },
    {
      "cell_type": "code",
      "execution_count": null,
      "metadata": {
        "colab": {
          "base_uri": "https://localhost:8080/"
        },
        "id": "5APKW3BczVVp",
        "outputId": "f5d7e40e-1d4b-433a-81c5-1130f13521ec"
      },
      "outputs": [
        {
          "name": "stdout",
          "output_type": "stream",
          "text": [
            "-0.687535555605140\n",
            "-0.687535555605140\n"
          ]
        }
      ],
      "source": [
        "# Obtener el valor numérico flotante, dos opciones\n",
        "\n",
        "print(N(expr.subs({x: y**2+1}).subs({y: 2})))\n",
        "print(expr.subs({x: y**2+1}).subs({y: 2}).n())"
      ]
    },
    {
      "cell_type": "markdown",
      "metadata": {
        "id": "x8MLu7H9bEI1"
      },
      "source": [
        "### Prueba de igualdad"
      ]
    },
    {
      "cell_type": "code",
      "execution_count": null,
      "metadata": {
        "id": "23YKe0WGzVVr"
      },
      "outputs": [],
      "source": [
        "# Definimos algunas expresiones\n",
        "\n",
        "p = (x-5)*(x+5)\n",
        "q = x**2 - 25\n",
        "z = (x**2-9)/(x-3)\n",
        "w = x+3\n"
      ]
    },
    {
      "cell_type": "code",
      "execution_count": null,
      "metadata": {
        "colab": {
          "base_uri": "https://localhost:8080/"
        },
        "id": "VqnWwu3QbEI1",
        "outputId": "138b5531-4ed7-45e2-b57e-138dd8c8c022"
      },
      "outputs": [
        {
          "name": "stdout",
          "output_type": "stream",
          "text": [
            "False\n",
            "False\n"
          ]
        }
      ],
      "source": [
        "# No se puede comparar directamente usando el ==\n",
        "\n",
        "print(p == q)\n",
        "print(p - q == 0 )"
      ]
    },
    {
      "cell_type": "code",
      "execution_count": null,
      "metadata": {
        "colab": {
          "base_uri": "https://localhost:8080/"
        },
        "id": "51oQnRPRrx9N",
        "outputId": "4669c6b5-5554-4163-905a-36e5ca0bc60e"
      },
      "outputs": [
        {
          "name": "stdout",
          "output_type": "stream",
          "text": [
            "False\n",
            "False\n"
          ]
        }
      ],
      "source": [
        "print(z == w)\n",
        "print(z - w == 0 )"
      ]
    },
    {
      "cell_type": "code",
      "execution_count": null,
      "metadata": {
        "colab": {
          "base_uri": "https://localhost:8080/",
          "height": 38
        },
        "id": "k2G5v3VwtAxz",
        "outputId": "ffd35cfa-71c8-425c-81ee-0db47ff56767"
      },
      "outputs": [
        {
          "data": {
            "image/png": "[encoded data removed]",
            "text/latex": [
              "$\\displaystyle x + 3$"
            ],
            "text/plain": [
              "x + 3"
            ]
          },
          "execution_count": 65,
          "metadata": {},
          "output_type": "execute_result"
        }
      ],
      "source": [
        "simplify(z)"
      ]
    },
    {
      "cell_type": "code",
      "execution_count": null,
      "metadata": {
        "colab": {
          "base_uri": "https://localhost:8080/"
        },
        "id": "PsubE9GjbEI2",
        "outputId": "70cab594-3a6e-40fe-d097-5424732e48d1"
      },
      "outputs": [
        {
          "name": "stdout",
          "output_type": "stream",
          "text": [
            "0\n",
            "True\n"
          ]
        }
      ],
      "source": [
        "# Ejemplo 1\n",
        "\n",
        "print(simplify(p - q))\n",
        "print(simplify(p - q) == 0)"
      ]
    },
    {
      "cell_type": "code",
      "execution_count": null,
      "metadata": {
        "colab": {
          "base_uri": "https://localhost:8080/"
        },
        "id": "JCHNEEC4bEI2",
        "outputId": "79558be2-e7e0-4144-a2d9-1bc2836e42e9"
      },
      "outputs": [
        {
          "name": "stdout",
          "output_type": "stream",
          "text": [
            "x + 3\n",
            "True\n"
          ]
        }
      ],
      "source": [
        "# Ejemplo 2\n",
        "\n",
        "print(simplify(z))\n",
        "print(simplify(z)==w)"
      ]
    },
    {
      "cell_type": "code",
      "execution_count": null,
      "metadata": {
        "colab": {
          "base_uri": "https://localhost:8080/"
        },
        "id": "ee0jEaQCbEI2",
        "outputId": "dd35cd7f-3865-4eb1-cffd-988b3fd5557d"
      },
      "outputs": [
        {
          "data": {
            "text/plain": [
              "True"
            ]
          },
          "execution_count": 68,
          "metadata": {},
          "output_type": "execute_result"
        }
      ],
      "source": [
        "# Ejemplo 3\n",
        "\n",
        "expr1 = (x**2-9)/(x-3)\n",
        "expr2 = (x+3)\n",
        "\n",
        "expr1.equals(expr2)"
      ]
    },
    {
      "cell_type": "code",
      "execution_count": null,
      "metadata": {
        "colab": {
          "base_uri": "https://localhost:8080/",
          "height": 38
        },
        "id": "BoW-VOnqzVVt",
        "outputId": "fd873777-39ec-4fdb-839f-8d0a104f43f8"
      },
      "outputs": [
        {
          "data": {
            "image/png": "[encoded data removed]",
            "text/latex": [
              "$\\displaystyle x + 3$"
            ],
            "text/plain": [
              "x + 3"
            ]
          },
          "execution_count": 69,
          "metadata": {},
          "output_type": "execute_result"
        }
      ],
      "source": [
        "# Verificación del ejemplo 3\n",
        "\n",
        "simplify(expr1)"
      ]
    },
    {
      "cell_type": "markdown",
      "metadata": {
        "id": "uy-5TNvkzVV2"
      },
      "source": [
        "## Solucionadores"
      ]
    },
    {
      "cell_type": "code",
      "execution_count": null,
      "metadata": {
        "colab": {
          "base_uri": "https://localhost:8080/",
          "height": 37
        },
        "id": "wNGnBekKzVV4",
        "outputId": "423accf8-2877-41d7-9998-2c738a3fe616"
      },
      "outputs": [
        {
          "data": {
            "image/png": "[encoded data removed]",
            "text/latex": [
              "$\\displaystyle \\left[ 2\\right]$"
            ],
            "text/plain": [
              "[2]"
            ]
          },
          "execution_count": 70,
          "metadata": {},
          "output_type": "execute_result"
        }
      ],
      "source": [
        "# Encontrar el valor de X\n",
        "solve(5*x-10)"
      ]
    },
    {
      "cell_type": "code",
      "execution_count": null,
      "metadata": {
        "colab": {
          "base_uri": "https://localhost:8080/",
          "height": 38
        },
        "id": "mWwudYxVzVV6",
        "outputId": "247f2348-aee5-41be-ffbc-51e6e777adeb"
      },
      "outputs": [
        {
          "data": {
            "image/png": "[encoded data removed]",
            "text/latex": [
              "$\\displaystyle \\left[ x \\left(5 - x\\right)\\right]$"
            ],
            "text/plain": [
              "[x⋅(5 - x)]"
            ]
          },
          "execution_count": 71,
          "metadata": {},
          "output_type": "execute_result"
        }
      ],
      "source": [
        "# Encontrar el valor de y\n",
        "solve(5*x-x**2-y,y)"
      ]
    },
    {
      "cell_type": "code",
      "execution_count": null,
      "metadata": {
        "colab": {
          "base_uri": "https://localhost:8080/",
          "height": 37
        },
        "id": "D1xhFsu7zVV8",
        "outputId": "782e3345-8ff1-411c-a31b-6dea6a08db02"
      },
      "outputs": [
        {
          "data": {
            "image/png": "[encoded data removed]",
            "text/latex": [
              "$\\displaystyle \\left( -3, \\  -2\\right)$"
            ],
            "text/plain": [
              "(-3, -2)"
            ]
          },
          "execution_count": 72,
          "metadata": {},
          "output_type": "execute_result"
        }
      ],
      "source": [
        "# Encontrar valores de x\n",
        "s=solve(x**2 + 5*x +6)\n",
        "s[0],s[1]"
      ]
    },
    {
      "cell_type": "code",
      "execution_count": null,
      "metadata": {
        "colab": {
          "base_uri": "https://localhost:8080/"
        },
        "id": "HaPhOvKCzVV-",
        "outputId": "e4c19b81-6732-4795-9694-df31c1442426"
      },
      "outputs": [
        {
          "data": {
            "text/plain": [
              "(list, sympy.core.numbers.Integer)"
            ]
          },
          "execution_count": 73,
          "metadata": {},
          "output_type": "execute_result"
        }
      ],
      "source": [
        "# Tipo para lista y los elementos\n",
        "type(s),type(s[0])"
      ]
    },
    {
      "cell_type": "code",
      "execution_count": null,
      "metadata": {
        "colab": {
          "base_uri": "https://localhost:8080/",
          "height": 37
        },
        "id": "Ew-oF_2nzVWA",
        "outputId": "026a2cc1-38aa-48dc-e99d-42b45c51d163"
      },
      "outputs": [
        {
          "data": {
            "image/png": "[encoded data removed]",
            "text/latex": [
              "$\\displaystyle \\left[ -3, \\  -2\\right]$"
            ],
            "text/plain": [
              "[-3, -2]"
            ]
          },
          "execution_count": 74,
          "metadata": {},
          "output_type": "execute_result"
        }
      ],
      "source": [
        "# Encontrar valores de x y mostrarlos\n",
        "solve(x**2+5*x+6)"
      ]
    },
    {
      "cell_type": "code",
      "execution_count": null,
      "metadata": {
        "colab": {
          "base_uri": "https://localhost:8080/"
        },
        "id": "t3deUstmzVWB",
        "outputId": "0736e5ce-ee69-4284-9dbb-fcaebd4d32c9"
      },
      "outputs": [
        {
          "data": {
            "text/plain": [
              "(-4, 2, sympy.core.numbers.Integer, sympy.core.numbers.Integer)"
            ]
          },
          "execution_count": 75,
          "metadata": {},
          "output_type": "execute_result"
        }
      ],
      "source": [
        "# Encontrar valores de x y mostrarlos además del tipo de datos\n",
        "sol = solve( x**2 + 2*x - 8, x)\n",
        "sol[0], sol[1], type(sol[0]), type(sol[1])"
      ]
    },
    {
      "cell_type": "code",
      "execution_count": null,
      "metadata": {
        "colab": {
          "base_uri": "https://localhost:8080/",
          "height": 38
        },
        "id": "FYA1MjWvzVWE",
        "outputId": "4995e5c9-9bc4-45b8-edac-b1f4069ee6fa"
      },
      "outputs": [
        {
          "data": {
            "image/png": "[encoded data removed]",
            "text/latex": [
              "$\\displaystyle x - 4$"
            ],
            "text/plain": [
              "x - 4"
            ]
          },
          "execution_count": 76,
          "metadata": {},
          "output_type": "execute_result"
        }
      ],
      "source": [
        "# Generar una expresión usando un valor de la solución\n",
        "sol[0]+x"
      ]
    },
    {
      "cell_type": "code",
      "execution_count": null,
      "metadata": {
        "colab": {
          "base_uri": "https://localhost:8080/"
        },
        "id": "4Ci8FYiCzVWF",
        "outputId": "b829bebe-80c8-4783-c8bd-2195f9345fe5"
      },
      "outputs": [
        {
          "name": "stdout",
          "output_type": "stream",
          "text": [
            "-3.00000000000000\n"
          ]
        },
        {
          "data": {
            "text/plain": [
              "sympy.core.numbers.Float"
            ]
          },
          "execution_count": 77,
          "metadata": {},
          "output_type": "execute_result"
        }
      ],
      "source": [
        "# Al agregarse un flotante a la suma se vuelve flotante el resultado\n",
        "print(sol[0]+1.)\n",
        "type(sol[0]+1.)"
      ]
    },
    {
      "cell_type": "code",
      "execution_count": null,
      "metadata": {
        "colab": {
          "base_uri": "https://localhost:8080/",
          "height": 68
        },
        "id": "2uP9hW5zzVWH",
        "outputId": "17344355-f9ab-49ee-f5a8-e8738eb482d6"
      },
      "outputs": [
        {
          "data": {
            "image/png": "[encoded data removed]",
            "text/latex": [
              "$\\displaystyle \\left[ \\frac{- b + \\sqrt{- 4 a c + b^{2}}}{2 a}, \\  - \\frac{b + \\sqrt{- 4 a c + b^{2}}}{2 a}\\right]$"
            ],
            "text/plain": [
              "⎡        _____________   ⎛       _____________⎞ ⎤\n",
              "⎢       ╱           2    ⎜      ╱           2 ⎟ ⎥\n",
              "⎢-b + ╲╱  -4⋅a⋅c + b    -⎝b + ╲╱  -4⋅a⋅c + b  ⎠ ⎥\n",
              "⎢─────────────────────, ────────────────────────⎥\n",
              "⎣         2⋅a                     2⋅a           ⎦"
            ]
          },
          "execution_count": 78,
          "metadata": {},
          "output_type": "execute_result"
        }
      ],
      "source": [
        "# Encontrando las famosas raices de la ecuación cuadrática\n",
        "a, b, c = symbols('a b c')\n",
        "solve( a*x**2 + b*x + c, x)"
      ]
    },
    {
      "cell_type": "code",
      "execution_count": null,
      "metadata": {
        "colab": {
          "base_uri": "https://localhost:8080/",
          "height": 56
        },
        "id": "dYpVYsimzVWJ",
        "outputId": "f2a221aa-e8f0-4b75-ff7b-7f4af82c183f"
      },
      "outputs": [
        {
          "data": {
            "image/png": "[encoded data removed]",
            "text/latex": [
              "$\\displaystyle \\frac{- b + \\sqrt{- 4 a c + b^{2}}}{2 a}$"
            ],
            "text/plain": [
              "        _____________\n",
              "       ╱           2 \n",
              "-b + ╲╱  -4⋅a⋅c + b  \n",
              "─────────────────────\n",
              "         2⋅a         "
            ]
          },
          "execution_count": 79,
          "metadata": {},
          "output_type": "execute_result"
        }
      ],
      "source": [
        "# Encontrando sólo una de las raices la ecuación cuadrática\n",
        "sol = solve( a*x**2 + b*x + c, x)[0]\n",
        "sol"
      ]
    },
    {
      "cell_type": "code",
      "execution_count": null,
      "metadata": {
        "colab": {
          "base_uri": "https://localhost:8080/",
          "height": 39
        },
        "id": "Lv1YijhJzVWL",
        "outputId": "db3003fd-ff17-4ab2-ad66-c4d18cf2aa7b"
      },
      "outputs": [
        {
          "data": {
            "image/png": "[encoded data removed]",
            "text/latex": [
              "$\\displaystyle -1 + \\sqrt{2} i$"
            ],
            "text/plain": [
              "-1 + √2⋅ⅈ"
            ]
          },
          "execution_count": 80,
          "metadata": {},
          "output_type": "execute_result"
        }
      ],
      "source": [
        "# Substituyento por valores y obteniendo una raiz o número complejo\n",
        "sol.subs({a:1, b:2, c:3})"
      ]
    },
    {
      "cell_type": "code",
      "execution_count": null,
      "metadata": {
        "colab": {
          "base_uri": "https://localhost:8080/",
          "height": 37
        },
        "id": "QJRGEFuPzVWM",
        "outputId": "07e8e337-1f74-4aec-f958-2ed644e3a51f"
      },
      "outputs": [
        {
          "data": {
            "image/png": "[encoded data removed]",
            "text/latex": [
              "$\\displaystyle -2$"
            ],
            "text/plain": [
              "-2"
            ]
          },
          "execution_count": 81,
          "metadata": {},
          "output_type": "execute_result"
        }
      ],
      "source": [
        "# Substituyento por valores y obteniendo un número real\n",
        "sol.subs({a:1, b:5, c:6})"
      ]
    },
    {
      "cell_type": "markdown",
      "metadata": {
        "id": "g_vfmOTizVWP"
      },
      "source": [
        "Completar el cuadrado de modo que: $x^2-4x+7=(x-h)^2+k$ para algunas constantes $h$ y $k$.\n",
        "\n",
        "Resolvemos $(x-h)^2+k-(x^2-4x+7)=0$"
      ]
    },
    {
      "cell_type": "code",
      "execution_count": null,
      "metadata": {
        "colab": {
          "base_uri": "https://localhost:8080/",
          "height": 37
        },
        "id": "2T2RcDDvzVWQ",
        "outputId": "1261183b-8a01-400e-e8e7-47468d853074"
      },
      "outputs": [
        {
          "data": {
            "image/png": "[encoded data removed]",
            "text/latex": [
              "$\\displaystyle \\left[ \\left( 2, \\  3\\right)\\right]$"
            ],
            "text/plain": [
              "[(2, 3)]"
            ]
          },
          "execution_count": 82,
          "metadata": {},
          "output_type": "execute_result"
        }
      ],
      "source": [
        "# Resolver\n",
        "h, k = symbols('h k')\n",
        "\n",
        "# Encontrar valores de \"h\" y de \"k\"\n",
        "solve( (x-h)**2 + k - (x**2-4*x+7), [h,k] )"
      ]
    },
    {
      "cell_type": "code",
      "execution_count": null,
      "metadata": {
        "colab": {
          "base_uri": "https://localhost:8080/",
          "height": 38
        },
        "id": "E-I81pH1zVWS",
        "outputId": "ce0b7ce4-7634-4c21-8558-cc2cdfc7e527"
      },
      "outputs": [
        {
          "data": {
            "image/png": "[encoded data removed]",
            "text/latex": [
              "$\\displaystyle x^{2} - 4 x + 7$"
            ],
            "text/plain": [
              " 2          \n",
              "x  - 4⋅x + 7"
            ]
          },
          "execution_count": 83,
          "metadata": {},
          "output_type": "execute_result"
        }
      ],
      "source": [
        "# Verificar que efectivamente h==2 y que k==3\n",
        "((x-2)**2 + 3).expand()"
      ]
    },
    {
      "cell_type": "markdown",
      "metadata": {
        "id": "fqi_UoiizVWV"
      },
      "source": [
        "Solucionar el sistema de ecuaciones:\n",
        "\n",
        "$$ x^2+y=0$$\n",
        "$$ 3y-x=0$$"
      ]
    },
    {
      "cell_type": "code",
      "execution_count": null,
      "metadata": {
        "colab": {
          "base_uri": "https://localhost:8080/",
          "height": 58
        },
        "id": "7qMXghZgbEI5",
        "outputId": "419f457a-8521-4b7d-df27-23ed8cb73c9f"
      },
      "outputs": [
        {
          "data": {
            "image/png": "[encoded data removed]",
            "text/latex": [
              "$\\displaystyle \\left[ \\left\\{ x : - \\frac{1}{3}, \\  y : - \\frac{1}{9}\\right\\}, \\  \\left\\{ x : 0, \\  y : 0\\right\\}\\right]$"
            ],
            "text/plain": [
              "[{x: -1/3, y: -1/9}, {x: 0, y: 0}]"
            ]
          },
          "execution_count": 84,
          "metadata": {},
          "output_type": "execute_result"
        }
      ],
      "source": [
        "# Se resuelve indicandole las dos ecuaciones\n",
        "solve([x**2+y, 3*y-x])"
      ]
    },
    {
      "cell_type": "code",
      "execution_count": null,
      "metadata": {
        "colab": {
          "base_uri": "https://localhost:8080/"
        },
        "id": "NzPdyhlhbEI5",
        "outputId": "50aa3040-b211-46b0-eb55-b73baa5aa5fe"
      },
      "outputs": [
        {
          "name": "stdout",
          "output_type": "stream",
          "text": [
            "{x: 4, y: 2}\n"
          ]
        }
      ],
      "source": [
        "# Otro ejemplo de un sistema de ecuaciones\n",
        "print(solve([x+y-6, x-y-2]))"
      ]
    },
    {
      "cell_type": "code",
      "execution_count": null,
      "metadata": {
        "colab": {
          "base_uri": "https://localhost:8080/"
        },
        "id": "hAbY6d0NzVWW",
        "outputId": "ca0885db-01e1-4791-8230-96b67a98af64"
      },
      "outputs": [
        {
          "name": "stdout",
          "output_type": "stream",
          "text": [
            "(5 < x) & (x < oo)\n"
          ]
        }
      ],
      "source": [
        "# Ejemplo de solución de una inecuación\n",
        "print(solve(x-2>3))"
      ]
    },
    {
      "cell_type": "code",
      "execution_count": null,
      "metadata": {
        "colab": {
          "base_uri": "https://localhost:8080/"
        },
        "id": "i6L1nei8zVWY",
        "outputId": "0435c8c4-6817-49bf-c301-78e15f3da783"
      },
      "outputs": [
        {
          "name": "stdout",
          "output_type": "stream",
          "text": [
            "Help on function solve in module sympy.solvers.solvers:\n",
            "\n",
            "solve(f, *symbols, **flags)\n",
            "    Algebraically solves equations and systems of equations.\n",
            "    \n",
            "    Explanation\n",
            "    ===========\n",
            "    \n",
            "    Currently supported:\n",
            "        - polynomial\n",
            "        - transcendental\n",
            "        - piecewise combinations of the above\n",
            "        - systems of linear and polynomial equations\n",
            "        - systems containing relational expressions\n",
            "    \n",
            "    Examples\n",
            "    ========\n",
            "    \n",
            "    The output varies according to the input and can be seen by example:\n",
            "    \n",
            "        >>> from sympy import solve, Poly, Eq, Function, exp\n",
            "        >>> from sympy.abc import x, y, z, a, b\n",
            "        >>> f = Function('f')\n",
            "    \n",
            "    Boolean or univariate Relational:\n",
            "    \n",
            "        >>> solve(x < 3)\n",
            "        (-oo < x) & (x < 3)\n",
            "    \n",
            "    \n",
            "    To always get a list of solution mappings, use flag dict=True:\n",
            "    \n",
            "        >>> solve(x - 3, dict=True)\n",
            "        [{x: 3}]\n",
            "        >>> sol = solve([x - 3, y - 1], dict=True)\n",
            "        >>> sol\n",
            "        [{x: 3, y: 1}]\n",
            "        >>> sol[0][x]\n",
            "        3\n",
            "        >>> sol[0][y]\n",
            "        1\n",
            "    \n",
            "    \n",
            "    To get a list of *symbols* and set of solution(s) use flag set=True:\n",
            "    \n",
            "        >>> solve([x**2 - 3, y - 1], set=True)\n",
            "        ([x, y], {(-sqrt(3), 1), (sqrt(3), 1)})\n",
            "    \n",
            "    \n",
            "    Single expression and single symbol that is in the expression:\n",
            "    \n",
            "        >>> solve(x - y, x)\n",
            "        [y]\n",
            "        >>> solve(x - 3, x)\n",
            "        [3]\n",
            "        >>> solve(Eq(x, 3), x)\n",
            "        [3]\n",
            "        >>> solve(Poly(x - 3), x)\n",
            "        [3]\n",
            "        >>> solve(x**2 - y**2, x, set=True)\n",
            "        ([x], {(-y,), (y,)})\n",
            "        >>> solve(x**4 - 1, x, set=True)\n",
            "        ([x], {(-1,), (1,), (-I,), (I,)})\n",
            "    \n",
            "    Single expression with no symbol that is in the expression:\n",
            "    \n",
            "        >>> solve(3, x)\n",
            "        []\n",
            "        >>> solve(x - 3, y)\n",
            "        []\n",
            "    \n",
            "    Single expression with no symbol given. In this case, all free *symbols*\n",
            "    will be selected as potential *symbols* to solve for. If the equation is\n",
            "    univariate then a list of solutions is returned; otherwise - as is the case\n",
            "    when *symbols* are given as an iterable of length greater than 1 - a list of\n",
            "    mappings will be returned:\n",
            "    \n",
            "        >>> solve(x - 3)\n",
            "        [3]\n",
            "        >>> solve(x**2 - y**2)\n",
            "        [{x: -y}, {x: y}]\n",
            "        >>> solve(z**2*x**2 - z**2*y**2)\n",
            "        [{x: -y}, {x: y}, {z: 0}]\n",
            "        >>> solve(z**2*x - z**2*y**2)\n",
            "        [{x: y**2}, {z: 0}]\n",
            "    \n",
            "    When an object other than a Symbol is given as a symbol, it is\n",
            "    isolated algebraically and an implicit solution may be obtained.\n",
            "    This is mostly provided as a convenience to save you from replacing\n",
            "    the object with a Symbol and solving for that Symbol. It will only\n",
            "    work if the specified object can be replaced with a Symbol using the\n",
            "    subs method:\n",
            "    \n",
            "    >>> solve(f(x) - x, f(x))\n",
            "    [x]\n",
            "    >>> solve(f(x).diff(x) - f(x) - x, f(x).diff(x))\n",
            "    [x + f(x)]\n",
            "    >>> solve(f(x).diff(x) - f(x) - x, f(x))\n",
            "    [-x + Derivative(f(x), x)]\n",
            "    >>> solve(x + exp(x)**2, exp(x), set=True)\n",
            "    ([exp(x)], {(-sqrt(-x),), (sqrt(-x),)})\n",
            "    \n",
            "    >>> from sympy import Indexed, IndexedBase, Tuple, sqrt\n",
            "    >>> A = IndexedBase('A')\n",
            "    >>> eqs = Tuple(A[1] + A[2] - 3, A[1] - A[2] + 1)\n",
            "    >>> solve(eqs, eqs.atoms(Indexed))\n",
            "    {A[1]: 1, A[2]: 2}\n",
            "    \n",
            "        * To solve for a symbol implicitly, use implicit=True:\n",
            "    \n",
            "            >>> solve(x + exp(x), x)\n",
            "            [-LambertW(1)]\n",
            "            >>> solve(x + exp(x), x, implicit=True)\n",
            "            [-exp(x)]\n",
            "    \n",
            "        * It is possible to solve for anything that can be targeted with\n",
            "          subs:\n",
            "    \n",
            "            >>> solve(x + 2 + sqrt(3), x + 2)\n",
            "            [-sqrt(3)]\n",
            "            >>> solve((x + 2 + sqrt(3), x + 4 + y), y, x + 2)\n",
            "            {y: -2 + sqrt(3), x + 2: -sqrt(3)}\n",
            "    \n",
            "        * Nothing heroic is done in this implicit solving so you may end up\n",
            "          with a symbol still in the solution:\n",
            "    \n",
            "            >>> eqs = (x*y + 3*y + sqrt(3), x + 4 + y)\n",
            "            >>> solve(eqs, y, x + 2)\n",
            "            {y: -sqrt(3)/(x + 3), x + 2: -2*x/(x + 3) - 6/(x + 3) + sqrt(3)/(x + 3)}\n",
            "            >>> solve(eqs, y*x, x)\n",
            "            {x: -y - 4, x*y: -3*y - sqrt(3)}\n",
            "    \n",
            "        * If you attempt to solve for a number remember that the number\n",
            "          you have obtained does not necessarily mean that the value is\n",
            "          equivalent to the expression obtained:\n",
            "    \n",
            "            >>> solve(sqrt(2) - 1, 1)\n",
            "            [sqrt(2)]\n",
            "            >>> solve(x - y + 1, 1)  # /!\\ -1 is targeted, too\n",
            "            [x/(y - 1)]\n",
            "            >>> [_.subs(z, -1) for _ in solve((x - y + 1).subs(-1, z), 1)]\n",
            "            [-x + y]\n",
            "    \n",
            "        * To solve for a function within a derivative, use ``dsolve``.\n",
            "    \n",
            "    Single expression and more than one symbol:\n",
            "    \n",
            "        * When there is a linear solution:\n",
            "    \n",
            "            >>> solve(x - y**2, x, y)\n",
            "            [(y**2, y)]\n",
            "            >>> solve(x**2 - y, x, y)\n",
            "            [(x, x**2)]\n",
            "            >>> solve(x**2 - y, x, y, dict=True)\n",
            "            [{y: x**2}]\n",
            "    \n",
            "        * When undetermined coefficients are identified:\n",
            "    \n",
            "            * That are linear:\n",
            "    \n",
            "                >>> solve((a + b)*x - b + 2, a, b)\n",
            "                {a: -2, b: 2}\n",
            "    \n",
            "            * That are nonlinear:\n",
            "    \n",
            "                >>> solve((a + b)*x - b**2 + 2, a, b, set=True)\n",
            "                ([a, b], {(-sqrt(2), sqrt(2)), (sqrt(2), -sqrt(2))})\n",
            "    \n",
            "        * If there is no linear solution, then the first successful\n",
            "          attempt for a nonlinear solution will be returned:\n",
            "    \n",
            "            >>> solve(x**2 - y**2, x, y, dict=True)\n",
            "            [{x: -y}, {x: y}]\n",
            "            >>> solve(x**2 - y**2/exp(x), x, y, dict=True)\n",
            "            [{x: 2*LambertW(-y/2)}, {x: 2*LambertW(y/2)}]\n",
            "            >>> solve(x**2 - y**2/exp(x), y, x)\n",
            "            [(-x*sqrt(exp(x)), x), (x*sqrt(exp(x)), x)]\n",
            "    \n",
            "    Iterable of one or more of the above:\n",
            "    \n",
            "        * Involving relationals or bools:\n",
            "    \n",
            "            >>> solve([x < 3, x - 2])\n",
            "            Eq(x, 2)\n",
            "            >>> solve([x > 3, x - 2])\n",
            "            False\n",
            "    \n",
            "        * When the system is linear:\n",
            "    \n",
            "            * With a solution:\n",
            "    \n",
            "                >>> solve([x - 3], x)\n",
            "                {x: 3}\n",
            "                >>> solve((x + 5*y - 2, -3*x + 6*y - 15), x, y)\n",
            "                {x: -3, y: 1}\n",
            "                >>> solve((x + 5*y - 2, -3*x + 6*y - 15), x, y, z)\n",
            "                {x: -3, y: 1}\n",
            "                >>> solve((x + 5*y - 2, -3*x + 6*y - z), z, x, y)\n",
            "                {x: 2 - 5*y, z: 21*y - 6}\n",
            "    \n",
            "            * Without a solution:\n",
            "    \n",
            "                >>> solve([x + 3, x - 3])\n",
            "                []\n",
            "    \n",
            "        * When the system is not linear:\n",
            "    \n",
            "            >>> solve([x**2 + y -2, y**2 - 4], x, y, set=True)\n",
            "            ([x, y], {(-2, -2), (0, 2), (2, -2)})\n",
            "    \n",
            "        * If no *symbols* are given, all free *symbols* will be selected and a\n",
            "          list of mappings returned:\n",
            "    \n",
            "            >>> solve([x - 2, x**2 + y])\n",
            "            [{x: 2, y: -4}]\n",
            "            >>> solve([x - 2, x**2 + f(x)], {f(x), x})\n",
            "            [{x: 2, f(x): -4}]\n",
            "    \n",
            "        * If any equation does not depend on the symbol(s) given, it will be\n",
            "          eliminated from the equation set and an answer may be given\n",
            "          implicitly in terms of variables that were not of interest:\n",
            "    \n",
            "            >>> solve([x - y, y - 3], x)\n",
            "            {x: y}\n",
            "    \n",
            "    **Additional Examples**\n",
            "    \n",
            "    ``solve()`` with check=True (default) will run through the symbol tags to\n",
            "    elimate unwanted solutions. If no assumptions are included, all possible\n",
            "    solutions will be returned:\n",
            "    \n",
            "        >>> from sympy import Symbol, solve\n",
            "        >>> x = Symbol(\"x\")\n",
            "        >>> solve(x**2 - 1)\n",
            "        [-1, 1]\n",
            "    \n",
            "    By using the positive tag, only one solution will be returned:\n",
            "    \n",
            "        >>> pos = Symbol(\"pos\", positive=True)\n",
            "        >>> solve(pos**2 - 1)\n",
            "        [1]\n",
            "    \n",
            "    Assumptions are not checked when ``solve()`` input involves\n",
            "    relationals or bools.\n",
            "    \n",
            "    When the solutions are checked, those that make any denominator zero\n",
            "    are automatically excluded. If you do not want to exclude such solutions,\n",
            "    then use the check=False option:\n",
            "    \n",
            "        >>> from sympy import sin, limit\n",
            "        >>> solve(sin(x)/x)  # 0 is excluded\n",
            "        [pi]\n",
            "    \n",
            "    If check=False, then a solution to the numerator being zero is found: x = 0.\n",
            "    In this case, this is a spurious solution since $\\sin(x)/x$ has the well\n",
            "    known limit (without dicontinuity) of 1 at x = 0:\n",
            "    \n",
            "        >>> solve(sin(x)/x, check=False)\n",
            "        [0, pi]\n",
            "    \n",
            "    In the following case, however, the limit exists and is equal to the\n",
            "    value of x = 0 that is excluded when check=True:\n",
            "    \n",
            "        >>> eq = x**2*(1/x - z**2/x)\n",
            "        >>> solve(eq, x)\n",
            "        []\n",
            "        >>> solve(eq, x, check=False)\n",
            "        [0]\n",
            "        >>> limit(eq, x, 0, '-')\n",
            "        0\n",
            "        >>> limit(eq, x, 0, '+')\n",
            "        0\n",
            "    \n",
            "    **Disabling High-Order Explicit Solutions**\n",
            "    \n",
            "    When solving polynomial expressions, you might not want explicit solutions\n",
            "    (which can be quite long). If the expression is univariate, ``CRootOf``\n",
            "    instances will be returned instead:\n",
            "    \n",
            "        >>> solve(x**3 - x + 1)\n",
            "        [-1/((-1/2 - sqrt(3)*I/2)*(3*sqrt(69)/2 + 27/2)**(1/3)) - (-1/2 -\n",
            "        sqrt(3)*I/2)*(3*sqrt(69)/2 + 27/2)**(1/3)/3, -(-1/2 +\n",
            "        sqrt(3)*I/2)*(3*sqrt(69)/2 + 27/2)**(1/3)/3 - 1/((-1/2 +\n",
            "        sqrt(3)*I/2)*(3*sqrt(69)/2 + 27/2)**(1/3)), -(3*sqrt(69)/2 +\n",
            "        27/2)**(1/3)/3 - 1/(3*sqrt(69)/2 + 27/2)**(1/3)]\n",
            "        >>> solve(x**3 - x + 1, cubics=False)\n",
            "        [CRootOf(x**3 - x + 1, 0),\n",
            "         CRootOf(x**3 - x + 1, 1),\n",
            "         CRootOf(x**3 - x + 1, 2)]\n",
            "    \n",
            "    If the expression is multivariate, no solution might be returned:\n",
            "    \n",
            "        >>> solve(x**3 - x + a, x, cubics=False)\n",
            "        []\n",
            "    \n",
            "    Sometimes solutions will be obtained even when a flag is False because the\n",
            "    expression could be factored. In the following example, the equation can\n",
            "    be factored as the product of a linear and a quadratic factor so explicit\n",
            "    solutions (which did not require solving a cubic expression) are obtained:\n",
            "    \n",
            "        >>> eq = x**3 + 3*x**2 + x - 1\n",
            "        >>> solve(eq, cubics=False)\n",
            "        [-1, -1 + sqrt(2), -sqrt(2) - 1]\n",
            "    \n",
            "    **Solving Equations Involving Radicals**\n",
            "    \n",
            "    Because of SymPy's use of the principle root, some solutions\n",
            "    to radical equations will be missed unless check=False:\n",
            "    \n",
            "        >>> from sympy import root\n",
            "        >>> eq = root(x**3 - 3*x**2, 3) + 1 - x\n",
            "        >>> solve(eq)\n",
            "        []\n",
            "        >>> solve(eq, check=False)\n",
            "        [1/3]\n",
            "    \n",
            "    In the above example, there is only a single solution to the\n",
            "    equation. Other expressions will yield spurious roots which\n",
            "    must be checked manually; roots which give a negative argument\n",
            "    to odd-powered radicals will also need special checking:\n",
            "    \n",
            "        >>> from sympy import real_root, S\n",
            "        >>> eq = root(x, 3) - root(x, 5) + S(1)/7\n",
            "        >>> solve(eq)  # this gives 2 solutions but misses a 3rd\n",
            "        [CRootOf(7*x**5 - 7*x**3 + 1, 1)**15,\n",
            "        CRootOf(7*x**5 - 7*x**3 + 1, 2)**15]\n",
            "        >>> sol = solve(eq, check=False)\n",
            "        >>> [abs(eq.subs(x,i).n(2)) for i in sol]\n",
            "        [0.48, 0.e-110, 0.e-110, 0.052, 0.052]\n",
            "    \n",
            "    The first solution is negative so ``real_root`` must be used to see that it\n",
            "    satisfies the expression:\n",
            "    \n",
            "        >>> abs(real_root(eq.subs(x, sol[0])).n(2))\n",
            "        0.e-110\n",
            "    \n",
            "    If the roots of the equation are not real then more care will be\n",
            "    necessary to find the roots, especially for higher order equations.\n",
            "    Consider the following expression:\n",
            "    \n",
            "        >>> expr = root(x, 3) - root(x, 5)\n",
            "    \n",
            "    We will construct a known value for this expression at x = 3 by selecting\n",
            "    the 1-th root for each radical:\n",
            "    \n",
            "        >>> expr1 = root(x, 3, 1) - root(x, 5, 1)\n",
            "        >>> v = expr1.subs(x, -3)\n",
            "    \n",
            "    The ``solve`` function is unable to find any exact roots to this equation:\n",
            "    \n",
            "        >>> eq = Eq(expr, v); eq1 = Eq(expr1, v)\n",
            "        >>> solve(eq, check=False), solve(eq1, check=False)\n",
            "        ([], [])\n",
            "    \n",
            "    The function ``unrad``, however, can be used to get a form of the equation\n",
            "    for which numerical roots can be found:\n",
            "    \n",
            "        >>> from sympy.solvers.solvers import unrad\n",
            "        >>> from sympy import nroots\n",
            "        >>> e, (p, cov) = unrad(eq)\n",
            "        >>> pvals = nroots(e)\n",
            "        >>> inversion = solve(cov, x)[0]\n",
            "        >>> xvals = [inversion.subs(p, i) for i in pvals]\n",
            "    \n",
            "    Although ``eq`` or ``eq1`` could have been used to find ``xvals``, the\n",
            "    solution can only be verified with ``expr1``:\n",
            "    \n",
            "        >>> z = expr - v\n",
            "        >>> [xi.n(chop=1e-9) for xi in xvals if abs(z.subs(x, xi).n()) < 1e-9]\n",
            "        []\n",
            "        >>> z1 = expr1 - v\n",
            "        >>> [xi.n(chop=1e-9) for xi in xvals if abs(z1.subs(x, xi).n()) < 1e-9]\n",
            "        [-3.0]\n",
            "    \n",
            "    Parameters\n",
            "    ==========\n",
            "    \n",
            "    f :\n",
            "        - a single Expr or Poly that must be zero\n",
            "        - an Equality\n",
            "        - a Relational expression\n",
            "        - a Boolean\n",
            "        - iterable of one or more of the above\n",
            "    \n",
            "    symbols : (object(s) to solve for) specified as\n",
            "        - none given (other non-numeric objects will be used)\n",
            "        - single symbol\n",
            "        - denested list of symbols\n",
            "          (e.g., ``solve(f, x, y)``)\n",
            "        - ordered iterable of symbols\n",
            "          (e.g., ``solve(f, [x, y])``)\n",
            "    \n",
            "    flags :\n",
            "        dict=True (default is False)\n",
            "            Return list (perhaps empty) of solution mappings.\n",
            "        set=True (default is False)\n",
            "            Return list of symbols and set of tuple(s) of solution(s).\n",
            "        exclude=[] (default)\n",
            "            Do not try to solve for any of the free symbols in exclude;\n",
            "            if expressions are given, the free symbols in them will\n",
            "            be extracted automatically.\n",
            "        check=True (default)\n",
            "            If False, do not do any testing of solutions. This can be\n",
            "            useful if you want to include solutions that make any\n",
            "            denominator zero.\n",
            "        numerical=True (default)\n",
            "            Do a fast numerical check if *f* has only one symbol.\n",
            "        minimal=True (default is False)\n",
            "            A very fast, minimal testing.\n",
            "        warn=True (default is False)\n",
            "            Show a warning if ``checksol()`` could not conclude.\n",
            "        simplify=True (default)\n",
            "            Simplify all but polynomials of order 3 or greater before\n",
            "            returning them and (if check is not False) use the\n",
            "            general simplify function on the solutions and the\n",
            "            expression obtained when they are substituted into the\n",
            "            function which should be zero.\n",
            "        force=True (default is False)\n",
            "            Make positive all symbols without assumptions regarding sign.\n",
            "        rational=True (default)\n",
            "            Recast Floats as Rational; if this option is not used, the\n",
            "            system containing Floats may fail to solve because of issues\n",
            "            with polys. If rational=None, Floats will be recast as\n",
            "            rationals but the answer will be recast as Floats. If the\n",
            "            flag is False then nothing will be done to the Floats.\n",
            "        manual=True (default is False)\n",
            "            Do not use the polys/matrix method to solve a system of\n",
            "            equations, solve them one at a time as you might \"manually.\"\n",
            "        implicit=True (default is False)\n",
            "            Allows ``solve`` to return a solution for a pattern in terms of\n",
            "            other functions that contain that pattern; this is only\n",
            "            needed if the pattern is inside of some invertible function\n",
            "            like cos, exp, ect.\n",
            "        particular=True (default is False)\n",
            "            Instructs ``solve`` to try to find a particular solution to a linear\n",
            "            system with as many zeros as possible; this is very expensive.\n",
            "        quick=True (default is False)\n",
            "            When using particular=True, use a fast heuristic to find a\n",
            "            solution with many zeros (instead of using the very slow method\n",
            "            guaranteed to find the largest number of zeros possible).\n",
            "        cubics=True (default)\n",
            "            Return explicit solutions when cubic expressions are encountered.\n",
            "        quartics=True (default)\n",
            "            Return explicit solutions when quartic expressions are encountered.\n",
            "        quintics=True (default)\n",
            "            Return explicit solutions (if possible) when quintic expressions\n",
            "            are encountered.\n",
            "    \n",
            "    See Also\n",
            "    ========\n",
            "    \n",
            "    rsolve: For solving recurrence relationships\n",
            "    dsolve: For solving differential equations\n",
            "\n"
          ]
        }
      ],
      "source": [
        "# Explorar más a profundidad la documentación\n",
        "help (solve)"
      ]
    },
    {
      "cell_type": "markdown",
      "metadata": {
        "id": "lPC6s7GRzVWa"
      },
      "source": [
        "### `Sympy` a `Python` y `Numpy`\n",
        "\n",
        "Ver [Sympy Numeric Computation](http://docs.sympy.org/latest/modules/numeric-computation.html)\n"
      ]
    },
    {
      "cell_type": "code",
      "execution_count": null,
      "metadata": {
        "colab": {
          "base_uri": "https://localhost:8080/"
        },
        "id": "4-Sxbl48zVWb",
        "outputId": "ad001b68-f08e-4499-c810-79e015a08fd1"
      },
      "outputs": [
        {
          "name": "stdout",
          "output_type": "stream",
          "text": [
            "Solución 1 simbólica (-b + sqrt(-4*a*c + b**2))/(2*a)\n",
            "Solución 1 caso particular:  0.541381265149110\n",
            "0.735786154496746 <class 'sympy.core.numbers.Float'>\n",
            "(0.7357861544967463+0j) <class 'numpy.complex128'>\n"
          ]
        }
      ],
      "source": [
        "# Definir las variables simbólicas\n",
        "x,y,z  = symbols(\"x y z\")\n",
        "\n",
        "# Tomar la primera solución\n",
        "sol = solve( a*x**2 + b*x + c, x)[0]\n",
        "print(\"Solución 1 simbólica\",sol)\n",
        "\n",
        "# Evaluar para un caso particular\n",
        "s1 = N(sol.subs({a:1, b:5, c:-3}))\n",
        "print(\"Solución 1 caso particular: \",s1)\n",
        "\n",
        "# Obtener la raiz cuadrada con sympy\n",
        "ss1 = sqrt(s1)\n",
        "print (ss1, type(ss1))\n",
        "\n",
        "# Obtener la raiz cuadrada con numpy\n",
        "ns1 = np.sqrt(float(s1), dtype=complex) # Se le debe indicar para complejo\n",
        "print (ns1, type(ns1))"
      ]
    },
    {
      "cell_type": "code",
      "execution_count": null,
      "metadata": {
        "colab": {
          "base_uri": "https://localhost:8080/"
        },
        "id": "4zb0tqJpzVWd",
        "outputId": "1adb4d20-f3b1-4361-9a00-6713b21dacf3"
      },
      "outputs": [
        {
          "name": "stdout",
          "output_type": "stream",
          "text": [
            "2\n",
            "49.72798944455531\n",
            "[12 20 30]\n",
            "[0.9207354924039483, 2.454648713412841, 4.570560004029933]\n"
          ]
        }
      ],
      "source": [
        "# Uso de Lambdify\n",
        "# Este módulo proporciona funciones convenientes para transformar expresiones SymPy\n",
        "# en funciones lambda que se pueden usar para calcular valores numéricos muy rápidamente.\n",
        "\n",
        "# Ejemplo 1\n",
        "exp1 = x**2+5*x+6\n",
        "f1 = lambdify(x,exp1)\n",
        "print(f1(-1))\n",
        "\n",
        "# Ejemplo 2\n",
        "exp2 = (sin(x) + x**2)/2\n",
        "f2 = lambdify(x, exp2)\n",
        "print(f2(10))\n",
        "\n",
        "# Ejemplo 3\n",
        "print(f1(np.array([1,2,3])))\n",
        "print([f2(i) for i in [1,2,3]])"
      ]
    },
    {
      "cell_type": "code",
      "execution_count": null,
      "metadata": {
        "colab": {
          "base_uri": "https://localhost:8080/"
        },
        "id": "R4bXkWlo-iyx",
        "outputId": "985406b3-7316-4487-ab6f-e6cb8c26059f"
      },
      "outputs": [
        {
          "name": "stdout",
          "output_type": "stream",
          "text": [
            "46.1 µs ± 1.18 µs per loop (mean ± std. dev. of 7 runs, 10000 loops each)\n",
            "8.58 µs ± 509 ns per loop (mean ± std. dev. of 7 runs, 100000 loops each)\n"
          ]
        }
      ],
      "source": [
        "# Comparar tiempos\n",
        "exp2 = (sin(x) + x**2)/2\n",
        "f1 = lambdify(x,exp2, \"math\")\n",
        "f2 = lambdify(x, exp2, \"numpy\")\n",
        "\n",
        "%timeit [f1(i) for i in range(100)]\n",
        "%timeit f2(np.arange(100))"
      ]
    },
    {
      "cell_type": "code",
      "execution_count": null,
      "metadata": {
        "colab": {
          "base_uri": "https://localhost:8080/"
        },
        "id": "IUChjR47-pWh",
        "outputId": "2415ef58-8a72-4016-e71e-e3767c77a7c4"
      },
      "outputs": [
        {
          "name": "stdout",
          "output_type": "stream",
          "text": [
            "46.3 µs ± 503 ns per loop (mean ± std. dev. of 7 runs, 10000 loops each)\n",
            "321 µs ± 124 µs per loop (mean ± std. dev. of 7 runs, 1000 loops each)\n"
          ]
        }
      ],
      "source": [
        "# Comparar tiempos\n",
        "exp2 = (sin(x) + x**2)/2\n",
        "f1 = lambdify(x,exp2, \"math\")\n",
        "f2 = lambdify(x, exp2, \"numpy\")\n",
        "\n",
        "%timeit [f1(i) for i in range(100)]\n",
        "%timeit [f2(i) for i in range(100)]"
      ]
    },
    {
      "cell_type": "code",
      "execution_count": null,
      "metadata": {
        "colab": {
          "base_uri": "https://localhost:8080/"
        },
        "id": "KfMoHfLH-tFj",
        "outputId": "c815561c-8515-4d63-b1ab-ac7184e0f899"
      },
      "outputs": [
        {
          "name": "stdout",
          "output_type": "stream",
          "text": [
            "9.49 µs ± 1.35 µs per loop (mean ± std. dev. of 7 runs, 100000 loops each)\n"
          ]
        }
      ],
      "source": [
        "# Comparar tiempos\n",
        "exp2 = (sin(x) + x**2)/2\n",
        "f1 = lambdify(x,exp2, \"math\")\n",
        "f2 = lambdify(x, exp2, \"numpy\")\n",
        "\n",
        "#%timeit f1(np.arange(100)) # No funciona pues no usa \"Numpy\"\n",
        "%timeit f2(np.arange(100))"
      ]
    },
    {
      "cell_type": "code",
      "execution_count": null,
      "metadata": {
        "colab": {
          "base_uri": "https://localhost:8080/"
        },
        "id": "HQ_PF5chbEI6",
        "outputId": "afa55471-a963-4ad4-95b1-b1ef30d47ac1"
      },
      "outputs": [
        {
          "name": "stdout",
          "output_type": "stream",
          "text": [
            "-0.0018594025106150047\n",
            "[-0.0018594 -0.0018594]\n"
          ]
        }
      ],
      "source": [
        "# Uso de Lambdify para una FUNCIÓN DE DOS (2) ARGUMENTOS\n",
        "# Este módulo proporciona funciones convenientes para transformar expresiones SymPy\n",
        "# en funciones lambda que se pueden usar para calcular valores numéricos muy rápidamente.\n",
        "\n",
        "# Definir la expresión\n",
        "expr = (sin(x) + cos(y))/2\n",
        "\n",
        "# Conversión la función con lambdify\n",
        "f = lambdify([x, y], expr, \"numpy\")\n",
        "\n",
        "# Evaluar de a un valor\n",
        "print(f(10,1))\n",
        "\n",
        "# Conjunto de valores\n",
        "print(f([10,10],[1,1]))"
      ]
    },
    {
      "cell_type": "markdown",
      "metadata": {
        "id": "7JnBJNXpzVXA"
      },
      "source": [
        "# Cálculo"
      ]
    },
    {
      "cell_type": "markdown",
      "metadata": {
        "id": "OwAfMOI-g5EF"
      },
      "source": [
        "### Sumatoria"
      ]
    },
    {
      "cell_type": "markdown",
      "metadata": {
        "id": "tNewSSdNhjTI"
      },
      "source": [
        "Resolver la si siguente sumatoria\n",
        "$sum=\\sum\\limits_{i = 1}^n i $"
      ]
    },
    {
      "cell_type": "code",
      "execution_count": null,
      "metadata": {
        "colab": {
          "base_uri": "https://localhost:8080/"
        },
        "id": "dZ8RXzmIhiz0",
        "outputId": "ffd3f416-2f75-433f-af10-22012e0bfc49"
      },
      "outputs": [
        {
          "name": "stdout",
          "output_type": "stream",
          "text": [
            "n*(n + 1)/2\n"
          ]
        }
      ],
      "source": [
        "# Definimos los símbolos que vamos a usar\n",
        "n, i = symbols('n i')\n",
        "\n",
        "# Definimos la sumatoria\n",
        "S = summation(i, (i, 1, n))\n",
        "\n",
        "# Mostramos el resultado\n",
        "print(factor(S))"
      ]
    },
    {
      "cell_type": "code",
      "execution_count": null,
      "metadata": {
        "colab": {
          "base_uri": "https://localhost:8080/"
        },
        "id": "9w8KRWLviZP9",
        "outputId": "bfd67e9a-e535-44cb-913c-1d845b863f4a"
      },
      "outputs": [
        {
          "name": "stdout",
          "output_type": "stream",
          "text": [
            "6\n"
          ]
        }
      ],
      "source": [
        "# Evaluamos la sumatoria para n = 3\n",
        "print(S.subs(n, 3))"
      ]
    },
    {
      "cell_type": "markdown",
      "metadata": {
        "id": "x-CMZzuazVXA"
      },
      "source": [
        "### Derivar"
      ]
    },
    {
      "cell_type": "code",
      "execution_count": null,
      "metadata": {
        "colab": {
          "base_uri": "https://localhost:8080/",
          "height": 38
        },
        "id": "NpikPPogzVXB",
        "outputId": "bb69c2d0-2e81-4bb1-e301-c8c9d5d8ed0c"
      },
      "outputs": [
        {
          "data": {
            "image/png": "[encoded data removed]",
            "text/latex": [
              "$\\displaystyle 2 x$"
            ],
            "text/plain": [
              "2⋅x"
            ]
          },
          "execution_count": 103,
          "metadata": {},
          "output_type": "execute_result"
        }
      ],
      "source": [
        "diff(x**2)"
      ]
    },
    {
      "cell_type": "code",
      "execution_count": null,
      "metadata": {
        "colab": {
          "base_uri": "https://localhost:8080/",
          "height": 38
        },
        "id": "VpywXYl2zVXC",
        "outputId": "4d82b7a6-d454-4de0-e08d-be5aebe82a9c"
      },
      "outputs": [
        {
          "data": {
            "image/png": "[encoded data removed]",
            "text/latex": [
              "$\\displaystyle 2 x + y$"
            ],
            "text/plain": [
              "2⋅x + y"
            ]
          },
          "execution_count": 107,
          "metadata": {},
          "output_type": "execute_result"
        }
      ],
      "source": [
        "diff(x**2+x*y, x)"
      ]
    },
    {
      "cell_type": "code",
      "execution_count": null,
      "metadata": {
        "colab": {
          "base_uri": "https://localhost:8080/",
          "height": 38
        },
        "id": "kRzXHQuikq76",
        "outputId": "977549d6-dd64-45e0-eed6-8aac8003e005"
      },
      "outputs": [
        {
          "data": {
            "image/png": "[encoded data removed]",
            "text/latex": [
              "$\\displaystyle x$"
            ],
            "text/plain": [
              "x"
            ]
          },
          "execution_count": 128,
          "metadata": {},
          "output_type": "execute_result"
        }
      ],
      "source": [
        "diff(x**2+x*y, y)"
      ]
    },
    {
      "cell_type": "code",
      "execution_count": null,
      "metadata": {
        "colab": {
          "base_uri": "https://localhost:8080/",
          "height": 38
        },
        "id": "kG8JNlLFzVXG",
        "outputId": "69aef291-934f-487e-b5b6-86a5f94d3c83"
      },
      "outputs": [
        {
          "data": {
            "image/png": "[encoded data removed]",
            "text/latex": [
              "$\\displaystyle e^{x}$"
            ],
            "text/plain": [
              " x\n",
              "ℯ "
            ]
          },
          "execution_count": 108,
          "metadata": {},
          "output_type": "execute_result"
        }
      ],
      "source": [
        "diff(exp(x))"
      ]
    },
    {
      "cell_type": "code",
      "execution_count": null,
      "metadata": {
        "colab": {
          "base_uri": "https://localhost:8080/",
          "height": 38
        },
        "id": "rWrL07--zVXI",
        "outputId": "1acb9e47-4286-4d3c-91d8-b9398d480869"
      },
      "outputs": [
        {
          "data": {
            "image/png": "[encoded data removed]",
            "text/latex": [
              "$\\displaystyle x^{2} \\cos{\\left(x \\right)} + 2 x \\sin{\\left(x \\right)}$"
            ],
            "text/plain": [
              " 2                    \n",
              "x ⋅cos(x) + 2⋅x⋅sin(x)"
            ]
          },
          "execution_count": 109,
          "metadata": {},
          "output_type": "execute_result"
        }
      ],
      "source": [
        "# La diferenciación conoce algunas reglas (por ejemplo, la regla del producto)\n",
        "diff(x**2*sin(x))"
      ]
    },
    {
      "cell_type": "markdown",
      "metadata": {
        "id": "ekePdvnmbEI7"
      },
      "source": [
        "### Integrar"
      ]
    },
    {
      "cell_type": "code",
      "execution_count": null,
      "metadata": {
        "colab": {
          "base_uri": "https://localhost:8080/",
          "height": 54
        },
        "id": "bmN2uQN2zVXL",
        "outputId": "42b15947-0fd7-4308-935c-4fa0517eea93"
      },
      "outputs": [
        {
          "data": {
            "image/png": "[encoded data removed]",
            "text/latex": [
              "$\\displaystyle \\frac{x^{3}}{3}$"
            ],
            "text/plain": [
              " 3\n",
              "x \n",
              "──\n",
              "3 "
            ]
          },
          "execution_count": 110,
          "metadata": {},
          "output_type": "execute_result"
        }
      ],
      "source": [
        "# Integral indefinida\n",
        "integrate(x**2)"
      ]
    },
    {
      "cell_type": "code",
      "execution_count": null,
      "metadata": {
        "colab": {
          "base_uri": "https://localhost:8080/",
          "height": 51
        },
        "id": "0y1UbCwSzVXM",
        "outputId": "2e22cc31-5f4c-4b56-89ff-3046b8b33e60"
      },
      "outputs": [
        {
          "data": {
            "image/png": "[encoded data removed]",
            "text/latex": [
              "$\\displaystyle \\frac{1}{3}$"
            ],
            "text/plain": [
              "1/3"
            ]
          },
          "execution_count": 112,
          "metadata": {},
          "output_type": "execute_result"
        }
      ],
      "source": [
        "# Ejemplo 1 Integral definida\n",
        "#integrate(expr, (variable,desde,hasta))\n",
        "integrate(x**2, (x,0,1))"
      ]
    },
    {
      "cell_type": "code",
      "execution_count": null,
      "metadata": {
        "colab": {
          "base_uri": "https://localhost:8080/",
          "height": 51
        },
        "id": "40RBIC-tObbF",
        "outputId": "737c08b3-db97-48a6-da68-71d5123227e0"
      },
      "outputs": [
        {
          "data": {
            "image/png": "[encoded data removed]",
            "text/latex": [
              "$\\displaystyle \\frac{28}{3}$"
            ],
            "text/plain": [
              "28/3"
            ]
          },
          "execution_count": 113,
          "metadata": {},
          "output_type": "execute_result"
        }
      ],
      "source": [
        "# Ejemplo 2 Integral definida\n",
        "integrate(x**2, (x,-1,3))"
      ]
    },
    {
      "cell_type": "markdown",
      "metadata": {
        "id": "1QnMqGgMzVXv"
      },
      "source": [
        "### Recta tangente a una función\n",
        "\n",
        "La recta tangente a la función $f(x)$ en $x = x_0$ es la linea que pasa\n",
        "a través del punto $(x_0, f(x_0))$ y tiene la misma pendiente que la función\n",
        "en ese punto. La recta tangente a la función $f(x)$ en el punto\n",
        "$x = x_0$ está descrita por la ecuación\n",
        "$$T_1(x) = f(x_0) + f'(x_0)(x − x_0)$$\n",
        "\n",
        "¿Cuál es la ecuación de la recta tangente a $f(x) = \\frac{1}{2}x^2$\n",
        "en $x_0 = 1$?"
      ]
    },
    {
      "cell_type": "code",
      "execution_count": null,
      "metadata": {
        "id": "yoMzNcnHzVXv"
      },
      "outputs": [],
      "source": [
        "# Crear las variables\n",
        "x, f = symbols(\"x f\")"
      ]
    },
    {
      "cell_type": "code",
      "execution_count": null,
      "metadata": {
        "colab": {
          "base_uri": "https://localhost:8080/"
        },
        "id": "5KZBdXtxqQlt",
        "outputId": "8c95f5bc-86de-45db-c645-9f85067f532c"
      },
      "outputs": [
        {
          "name": "stdout",
          "output_type": "stream",
          "text": [
            "f(x)\t= 0.5*x**2\n"
          ]
        }
      ],
      "source": [
        "# Crear la función\n",
        "f = 1./2*x**2\n",
        "print ('f(x)\\t=', f)"
      ]
    },
    {
      "cell_type": "code",
      "execution_count": null,
      "metadata": {
        "colab": {
          "base_uri": "https://localhost:8080/"
        },
        "id": "IHfR3hzRqSz1",
        "outputId": "2ddb3d12-4277-427b-ae7e-eb238235d0f6"
      },
      "outputs": [
        {
          "name": "stdout",
          "output_type": "stream",
          "text": [
            "f'(x)\t= 1.0*x\n"
          ]
        }
      ],
      "source": [
        "# Encontrar la derivada\n",
        "df = diff(f,x)\n",
        "print (\"f'(x)\\t=\", df)"
      ]
    },
    {
      "cell_type": "code",
      "execution_count": null,
      "metadata": {
        "colab": {
          "base_uri": "https://localhost:8080/"
        },
        "id": "MMIvIYuGqUVP",
        "outputId": "09455208-4e5f-4995-d327-9571d6139f2a"
      },
      "outputs": [
        {
          "name": "stdout",
          "output_type": "stream",
          "text": [
            "T1(x)\t= 1.0*x - 0.5\n"
          ]
        }
      ],
      "source": [
        "# Encontrar la recta tangente a la función\n",
        "x0 = 1\n",
        "T_1 = f.subs({x:x0}) + df.subs({x:x0}) * (x - x0)\n",
        "print (\"T1(x)\\t=\", T_1)"
      ]
    },
    {
      "cell_type": "code",
      "execution_count": null,
      "metadata": {
        "colab": {
          "base_uri": "https://localhost:8080/",
          "height": 55
        },
        "id": "Wz7UOLiLzVXx",
        "outputId": "de3c6b0b-d885-4e1d-a522-e305c65236b2"
      },
      "outputs": [
        {
          "name": "stdout",
          "output_type": "stream",
          "text": [
            "0.500000000000000\n"
          ]
        },
        {
          "data": {
            "image/png": "[encoded data removed]",
            "text/latex": [
              "$\\displaystyle 0$"
            ],
            "text/plain": [
              "0"
            ]
          },
          "execution_count": 121,
          "metadata": {},
          "output_type": "execute_result"
        }
      ],
      "source": [
        "# Comprobar que el valor en el eje \"y\" de la función y la recta tangente son iguales\n",
        "print(f.subs({x:1}))\n",
        "T_1.subs({x:1})- f.subs({x:1})"
      ]
    },
    {
      "cell_type": "code",
      "execution_count": null,
      "metadata": {
        "colab": {
          "base_uri": "https://localhost:8080/",
          "height": 55
        },
        "id": "-yNpdjBJzVXy",
        "outputId": "8abfaebc-7382-4322-d4b0-78ce05746177"
      },
      "outputs": [
        {
          "name": "stdout",
          "output_type": "stream",
          "text": [
            "1.00000000000000\n"
          ]
        },
        {
          "data": {
            "image/png": "[encoded data removed]",
            "text/latex": [
              "$\\displaystyle 0$"
            ],
            "text/plain": [
              "0"
            ]
          },
          "execution_count": 143,
          "metadata": {},
          "output_type": "execute_result"
        }
      ],
      "source": [
        "# Comprobar que el valor de la pendiente de la función y la recta tangente son iguales\n",
        "print(diff(f,x).subs({x:1}))\n",
        "diff(T_1,x).subs({x:1}) - diff(f,x).subs({x:1})"
      ]
    },
    {
      "cell_type": "code",
      "execution_count": null,
      "metadata": {
        "id": "yG8NBvqUzVXz"
      },
      "outputs": [],
      "source": [
        "# Obtener funciones de Python a partir de expresiones\n",
        "fp = lambdify(x, f,   \"numpy\")\n",
        "tp = lambdify(x, T_1, \"numpy\")"
      ]
    },
    {
      "cell_type": "code",
      "execution_count": null,
      "metadata": {
        "colab": {
          "base_uri": "https://localhost:8080/",
          "height": 299
        },
        "id": "2BGiWXY_zVX0",
        "outputId": "0aa86b5e-2b13-4909-9a40-b4c6b8b7ad39"
      },
      "outputs": [
        {
          "data": {
            "text/plain": [
              "Text(0.5, 1.0, 'Función, recta tangente y punto de cruce')"
            ]
          },
          "execution_count": 123,
          "metadata": {},
          "output_type": "execute_result"
        },
        {
          "data": {
            "image/png": "[encoded data removed]",
            "text/plain": [
              "<Figure size 432x288 with 1 Axes>"
            ]
          },
          "metadata": {
            "needs_background": "light"
          },
          "output_type": "display_data"
        }
      ],
      "source": [
        "# Graficar\n",
        "xr = np.linspace(0,2,20)\n",
        "plt.plot(xr, fp(xr), color=\"blue\") # función\n",
        "plt.plot(xr, tp(xr), color=\"red\")  # recta tangente\n",
        "plt.scatter(x0, fp(x0)) #punto de cruce, x0 == 1\n",
        "plt.title(\"Función, recta tangente y punto de cruce\")"
      ]
    },
    {
      "cell_type": "markdown",
      "metadata": {
        "id": "MWEEVYj7bEI8"
      },
      "source": [
        "### Ecuaciones diferenciales"
      ]
    },
    {
      "cell_type": "markdown",
      "metadata": {
        "id": "2kM2ujutzVXO"
      },
      "source": [
        "Resolver $\\frac{dy}{dt}=y(t)+t$"
      ]
    },
    {
      "cell_type": "code",
      "execution_count": null,
      "metadata": {
        "colab": {
          "base_uri": "https://localhost:8080/",
          "height": 52
        },
        "id": "vq5pjyAGzVXO",
        "outputId": "c45e1d7c-31a4-4c5a-ab7c-c0809502fdf8"
      },
      "outputs": [
        {
          "data": {
            "image/png": "[encoded data removed]",
            "text/latex": [
              "$\\displaystyle t + y{\\left(t \\right)} - \\frac{d}{d t} y{\\left(t \\right)}$"
            ],
            "text/plain": [
              "           d       \n",
              "t + y(t) - ──(y(t))\n",
              "           dt      "
            ]
          },
          "execution_count": 134,
          "metadata": {},
          "output_type": "execute_result"
        }
      ],
      "source": [
        "# Crear variables\n",
        "t, C1 = symbols(\"t C1\")\n",
        "\n",
        "# Crear una función no definida con el parámetro cls=Function\n",
        "y = symbols(\"y\", cls=Function)\n",
        "\n",
        "# Crear una expresión con la función no definida y la variable\n",
        "dydt = y(t)+t\n",
        "\n",
        "# Crear la ecuación a resolver\n",
        "eq = dydt-diff(y(t),t)\n",
        "eq"
      ]
    },
    {
      "cell_type": "code",
      "execution_count": null,
      "metadata": {
        "colab": {
          "base_uri": "https://localhost:8080/",
          "height": 38
        },
        "id": "WxjbGAgibEI8",
        "outputId": "aef85d48-b8aa-41c9-cbef-b1b5be0f86f3"
      },
      "outputs": [
        {
          "data": {
            "image/png": "[encoded data removed]",
            "text/latex": [
              "$\\displaystyle y{\\left(t \\right)} = \\left(C_{1} + \\left(- t - 1\\right) e^{- t}\\right) e^{t}$"
            ],
            "text/plain": [
              "       ⎛               -t⎞  t\n",
              "y(t) = ⎝C₁ + (-t - 1)⋅ℯ  ⎠⋅ℯ "
            ]
          },
          "execution_count": 135,
          "metadata": {},
          "output_type": "execute_result"
        }
      ],
      "source": [
        "# Resolver. Con dsolve se resuelven ecuaciones diferenciales\n",
        "yt = dsolve(eq, y(t))\n",
        "yt"
      ]
    },
    {
      "cell_type": "code",
      "execution_count": null,
      "metadata": {
        "colab": {
          "base_uri": "https://localhost:8080/",
          "height": 38
        },
        "id": "3c1geX0vzVXR",
        "outputId": "b1fd5c87-64fa-491f-fecb-61fe83895b62"
      },
      "outputs": [
        {
          "data": {
            "image/png": "[encoded data removed]",
            "text/latex": [
              "$\\displaystyle \\left(C_{1} + \\left(- t - 1\\right) e^{- t}\\right) e^{t}$"
            ],
            "text/plain": [
              "⎛               -t⎞  t\n",
              "⎝C₁ + (-t - 1)⋅ℯ  ⎠⋅ℯ "
            ]
          },
          "execution_count": 136,
          "metadata": {},
          "output_type": "execute_result"
        }
      ],
      "source": [
        "# Obtener el resultado\n",
        "yt.rhs"
      ]
    },
    {
      "cell_type": "code",
      "execution_count": null,
      "metadata": {
        "colab": {
          "base_uri": "https://localhost:8080/",
          "height": 37
        },
        "id": "q6151WN1zVXU",
        "outputId": "bb532a79-b2a7-4a6a-dd2f-f4e176b74942"
      },
      "outputs": [
        {
          "data": {
            "image/png": "[encoded data removed]",
            "text/latex": [
              "$\\displaystyle 0$"
            ],
            "text/plain": [
              "0"
            ]
          },
          "execution_count": 137,
          "metadata": {},
          "output_type": "execute_result"
        }
      ],
      "source": [
        "# Verificar la solución, forma 1\n",
        "simplify(dydt.subs({y(t): yt.rhs}) - diff(yt.rhs,t))"
      ]
    },
    {
      "cell_type": "code",
      "execution_count": null,
      "metadata": {
        "colab": {
          "base_uri": "https://localhost:8080/"
        },
        "id": "LpGxeDQtbEI9",
        "outputId": "9c08bdc3-4385-4a9d-bb2a-6f5f63948bb8"
      },
      "outputs": [
        {
          "data": {
            "text/plain": [
              "True"
            ]
          },
          "execution_count": 138,
          "metadata": {},
          "output_type": "execute_result"
        }
      ],
      "source": [
        "# Verificar la solución, forma 2\n",
        "expr1 = dydt.subs({y(t): yt.rhs})\n",
        "expr2 = diff(yt.rhs,t)\n",
        "\n",
        "expr1.equals(expr2)"
      ]
    },
    {
      "cell_type": "code",
      "execution_count": null,
      "metadata": {
        "colab": {
          "base_uri": "https://localhost:8080/",
          "height": 38
        },
        "id": "5moFkl2jzVXW",
        "outputId": "a24da613-8563-42f1-ac18-00e2a66c5370"
      },
      "outputs": [
        {
          "data": {
            "image/png": "[encoded data removed]",
            "text/latex": [
              "$\\displaystyle \\left\\{ C_{1} : 3.0\\right\\}$"
            ],
            "text/plain": [
              "{C₁: 3.0}"
            ]
          },
          "execution_count": 139,
          "metadata": {},
          "output_type": "execute_result"
        }
      ],
      "source": [
        "# Usando condición inicial y(0) = 2, obtener C1\n",
        "eq1 = Eq(yt.rhs.subs({t:0}).evalf(), 2.) # Eq(f,g) -> f=g\n",
        "sol = solve([eq1], [C1])\n",
        "sol"
      ]
    },
    {
      "cell_type": "code",
      "execution_count": null,
      "metadata": {
        "colab": {
          "base_uri": "https://localhost:8080/",
          "height": 300
        },
        "id": "acOhq6L7zVXX",
        "outputId": "56312cf6-e95d-409c-b816-26abe3177004"
      },
      "outputs": [
        {
          "name": "stdout",
          "output_type": "stream",
          "text": [
            "((-t - 1)*exp(-t) + 3)*exp(t)\n",
            "2.0\n"
          ]
        },
        {
          "data": {
            "image/png": "[encoded data removed]",
            "text/plain": [
              "<Figure size 432x288 with 1 Axes>"
            ]
          },
          "metadata": {
            "needs_background": "light"
          },
          "output_type": "display_data"
        }
      ],
      "source": [
        "# Definir función para C1=3, con la variable \"t\"\n",
        "C1_val = 3\n",
        "fY = lambdify(t, yt.rhs.subs({C1: C1_val}), \"numpy\") # C1_val == 3\n",
        "print(yt.rhs.subs({C1: C1_val}))\n",
        "\n",
        "# Evaluar en un sólo valor de tiempo\n",
        "print(fY(0))\n",
        "\n",
        "# Evaluar en varios valores de tiempo y graficar\n",
        "t_vals = np.linspace(-50,5,100)\n",
        "plt.figure()\n",
        "plt.plot(t_vals, fY(t_vals))\n",
        "plt.show()"
      ]
    },
    {
      "cell_type": "markdown",
      "metadata": {
        "id": "q3qkPJy7zVXc"
      },
      "source": [
        "### Circuito RLC\n",
        "\n",
        "Modelo:\n",
        "\n",
        "$\\begin{array}{l}\n",
        "\\frac{{di}}{{dt}} =  - \\frac{R}{L}i(t) - \\frac{1}{L}v(t) + \\frac{1}{L}vi\\\\\n",
        "\\frac{{dv}}{{dt}} = \\frac{1}{C}i(t)\n",
        "\\end{array}$"
      ]
    },
    {
      "cell_type": "markdown",
      "metadata": {
        "id": "t0Bmb2C9ovk1"
      },
      "source": [
        "![image.png](data:image/png;base64,iVBORw0KGgoAAAANSUhEUgAAA1IAAAF9CAIAAACBIc6aAAAgAElEQVR4nOzdfXQU9b0/8E/nTOfM2e7Z7tm7d29umqY5NI1pmqbcXIop5UakiIgppkAjRYUCIiAoUrSIXMrhcJHDpSnNVUREqiCPIlYetAgpTyIqYooBAVOMMcYIaViWdVmWYTLz++Pz22+H3WTJw+Zhs+/XHzlhmZ2Zfcq89/N9+pppmgQAAAAAvZ3U3ScAAAAAAF0BsQ8AAAAgKSD2AQAAACQFxD4AAACApIDYBwAAAJAUEPsAAAAAkgJiHwAAAEBSQOwDAAAASAqIfQAAAABJAbEPAAAAICkg9gEAAAAkBcQ+AAAAgKSA2AcAAACQFBD7AAAAAJICYh8AAABAUkDsAwAAAEgKiH0AAAAASQGxDwAAACApIPYBAAAAJAXEPgAAAICkgNgHAAAAkBQQ+wAAAACSAmIfAAAAQFJA7AMAAABICoh9AAAAAEkBsQ8AAAAgKSD2AQAAACQFxD4AAACApIDYBwAAAJAUEPsAAAAAkgJiHwAAAEBSQOwDAAAASAqIfQAAAABJAbEPAAAAICkg9gEAAAAkBcQ+AAAAgKSA2AcAAACQFBD7AAAAAJICYh8AAABAUkDsAwAAAEgKiH0AAAAASQGxDwAAACApIPYBAAAAJAXEPgAAAICkgNgHAAAAkBQQ+wAAAACSAmIfAAAAQFJA7AMAAABICoh9AAAAAEkBsQ8AAAAgKSD2AQAAACQFxD4AAACApIDYBwAAAJAUEPsAAAAAkgJiHwAAAEBSQOwDAAAASAqIfQAAAABJAbEPAAAAICkg9gEAAAAkBcQ+AAAAgKSA2AcAAACQFBD7AAAAAJICYh8AAABAUkDsAwAAAEgKiH0AAAAASQGxD+AGDMOI+N0wDOuN0bdH/G8cD9ERLZ1b9LHavf+W9hOX/QMAQAd9zTTN7j4HgB4tIrLouk5EkiQZhiHLsmEY/DtvKcsybyZJrf1OZRiGrut8R05O1h0SkaIouq7zDsX+2/EoeG/RJyYeIP9Xm86cz9Z6wpIk8VPETw7/bNNuAQCgk7TzEgKQJDjHUDjtiVs0TeN8Y81MfLssyxyD2hR0NE0jS5DitCSOxfuMS3ISD4SjpMhtIp9R2yMa31E8G/zMiAO1Y4cAANAZUO0DiCWi+dUwDEVRrLeIQKNpmq7rqqpGb9aaQ3BOUlVV7NC6c96npmnWDVpP1/UY9+VyI1ccuZrYykOIwiSHYM6mzW4ZDAYVRWl3qRIAAOICsQ/gBkSrriRJwWDw+PHjhw4dunDhwrlz5zRNS0tL++Y3v1lQUDBgwAC73c5Fu7aGJ45ckiSdOXNmz549X3zxRWNjYyAQSElJUVX1e9/7XnFxsdvtpnBGbFM7LP8iSZLX6y0vL//www8bGhp8Pp/dbvd4PN/+9rcLCwvz8vLEmXCAa+X+Q6GQJEmKogSDwWPHjh06dOjy5cvV1dWSJLnd7n/9138dMGDAwIEDRRpG8gMA6EaIfQDXsY5L4KJdKBRSVTUYDO7evXvlypUHDhywNl8yWZZzcnLuueeeiRMnut1ua+c2sY01q1m77nGgPHTo0OrVq3fs2OH3+6PPKi0tbezYsb/61a/69u0rGn8pKv9xaOMbrRnu7Nmza9euXb9+fU1NTfTObTbb0KFDJ0yYMGzYMO5HaN1zS4fg/SuK0tjY+Oqrr27atOnIkSOceq0kScrPz58wYUJJSYnb7eYGa+vzIHpJRp8YdJkYb6oO7tb6z3bvWXxSoruodmSf3BsB70BIKoh9ANcRHdQ0TVMUxTAMVVWPHTv22GOPcayRZTkjI8Pj8eTl5TkcjnfffbehoaG2tjYYDBJRVlbW3Llzf/3rXweDQZGNZFm22WzWo2iaxhcwm81WXV29YMGCV155hStnaWlpTqczLy8vIyOjsrKypqamtrbW5/MRkdvtHjdu3Lx581wuVyAQsNlsEVEyotFZlmVN0/7v//5v2bJlXq+XiFwuV3p6empqat++fRsbGysqKnw+X3V1Nd+xuLh40aJFOTk5Pp+PW4Sj2215t9xoqyjKjh075s6de+rUKSJSVTU1NdXtdvfv31+W5Xfffdfr9dbU1HAWzM3NXbRo0YgRI6yXbW4gRvtvt+OXVST+uLwc/OLybvkbVPt2K6Ke9af4TtX63hTR+BPH4U9RFPRAhaRgAoBFU1PTtWvXmpqarly5cunSJdM0X3rpJYfDwZeHwYMHb9q06erVq01NTU1NTeIue/fuHTdunN1uJyJJkmbMmMHbfPXVV1euXLl8+XLEUa5evXrx4kXTNN98882UlBS+V05OzvLly7/88kvrnk3TPHHixBNPPJGRkcFXzfz8/I8++sg0zStXrkTs9tq1a1euXGlqarp69appml988cXQoUP5k56WlvbEE098+OGHYrf888svv1y9enXfvn15M6fTuWnTJj7DprCIQ7CrV68+8cQTfC+bzTZy5MidO3dGPNIrV67s3Lnz3nvvdTgcRCTL8m9+8xtxhpcvX+af165di8MrBx3Q1NR0+fLlpqamEydORL9d273Pa9euvfnmm/xyR7yR2uTq1av8Jrl06dJf/vIXvuXKlSsdeefwe/vTTz99++23TdPEmxCSBGIfwHXE5YQvfi+99BKHrbS0tK1bt3LS4g04Y12+fFnErw8//FDErOLiYg52ly5dirjmcaY0TXPTpk2qqhKRy+V66qmnOGVyohKpSFyNvvzyywcffJALEmlpaRzg+H9557wxZ82mpqbTp09zjz1ZlidOnPjpp5/yNuzKlStfffWV2P+VK1deeOGF9PR0IlJVdeXKlWZzsZLPnDPluHHj+JH269fv7bffFmfCO+enSGTH9957r7CwkJ/JMWPGmKbJR2cdCQQQF/yqXbhwIS8vb+vWrWaHYxC/pu+//35GRgZ/S2n3DvnDyJ/HTZs2ZWZm/uMf/zBNk3Nqu988/DZevHhxQUFBR/YDkFgQ+wCuc+3ata+++urSpUtNTU1//vOfOdmIApsop1mLXhzRLl68yKnrwQcf5HuNGzfOtBQqBL7ebN++nWNQZmbm/v37TdO8fPkyH1fkIWu45J288MIL3F6cnp7+8ccfm+HrqxkurvCW58+f5wKeoihPPfWUeFx88vxTPAqR5ERSlCRpy5Yt4lQFEVjFYywuLuZz5pPkX0S5VERAfnT33nsvN8mNGTOGz0dEw05+VeEG+DV69NFHiWj48OHWenD78H2nTp1KRFOnTjVNsyNFxGvXrl26dOnatWvDhg0jIn5Li3dau0/v/PnzWVlZRLR9+3YTBT9IDoh9ANfh1q5r16598sknHo+HiHJzcz/55BMzfN3iK40obolGYVHoMk3zkUce4VS0aNEi03J9sgas1NRUIsrKyjpx4oRpqdWJK5loY+VjcT4zTXPLli1cIxw0aBDXGkV+EtsUFRVxnW/Dhg2mafIG1n1a8RnyHf/xj39w8vN4PH/729/EifFZ8ck/9dRT/OjGjh1rWpp9zeszqBWnWNM0H3jgAb5vaWmp2bErN3SQyNz8xt67d68sy9xRQTSkile2lcR3CdM0P/roI4fDYbPZHA7H3//+dzP82eFPQet3K9544mtYZmbmhQsXxO1tPT3xkFesWME7HDx4sBn1iQPolRD7AK4jLlqjR48mIrfb/cEHH5imefHiRS6Sxbgjxz5unC0pKeFi286dO81waLt69SonsCFDhnBHurfeestsS5nhwoULpmmuWrWKL1ePP/44n5v1+r1w4UL+3yVLlpjh5tTYu7VerU+cOJGWlsY1Tj5bceamab799tsul4uvlJwUWxnaRE8+bge32+0HDx7k23GV7XpcPxN9K7/66qv8/HwKzz00bNgw0zT5dW9TtBLFb9M077//fiLibp0PPPCAGf52wR+TNmV9fqfxp4aD6fLly03T5P4MbTo9PoGmpqYLFy5kZmaKHXLBj/8LX0WgF0PsA7gOX2A2bNjAyWnZsmVmuH8eN2K2dEeuE4g+befPn+fraH5+Pt9RJKeysjLeeUtd6GIc4vLly7yTX//61zyWgjuki+7tH374Ic/wV1JSYoav3De8jEXUObZu3cqtsVyt5IPyNZsvvRkZGZ999pnZ6szHzwxf7D///HNuWRs8eLC4DLfyGYB4Ea8Iv51++9vf8peciRMnWmNQW/OZ6AbwwQcf2Gw2RVFyc3NlWXY6ndwngd+NbXrF+T35l7/8RZIku92ek5NDRNnZ2RcuXGhT1dD6qM1wqc/tdvO7sbCw0Ax/GJH5oBdD7AO4ztWrVy9cuMAd44YOHcq95VqZTkTm44uH6L0nsmNTU9Nnn33GIydGjBjRFB4+2abT47ucP3+er3+8H9G8O2bMGO75xw3T1hbYloimXt4P5wDuleVyuU6fPi0GuKxevZp7/q1Zs8ZsY28t60lu2rSJg+/q1avNtgRfiBd+TfmZf/PNNznl//rXvzZNc+DAgURUVFRkWr5OtFJTUxO/f7j3Z9++fU+fPp2dnU1EjzzyiNmuZn0+Ve7VV1xc/MEHH3C9mQt+rU+Q/D7nj8/Fixdzc3P5rPbv388jpXgsS1uTLkBiQewD+CdR6+L22b1795qmyX3JeSxh7EZebi9rCg+tME2Tm3pFVyQz3ALrdDq5S9+lS5faFJ44w/GV9YUXXuAQ9vrrr/P/Hjx4kAd8cM85PvNmZ5CJYO2HxwH3k08+4Xj64IMPmuEZZ7jbHweCtjbOcvMfVw1N0xwxYgTHAh6/jAttFxPfZEQAyszM/Pzzz03T3LJlC7f2vvnmm2YbYxC/uCdOnOCS89KlS03TXLRoEX+F4OHnbWrk5ffY66+/zsmMRxpx83FOTs758+fNtpScRaGRK+4Oh4O7cAwePJi/5omCfSsfL0DCQewDMM3rK16FhYXcvSlipEIr20mtraVvvfUW921atWqVaZrnz5/n7kTc1akdnZysO798+XK/fv146CX/L5fosrKyeO4Y68nc8ChiA5FZueEvIyODC4dcolMU5a9//avZlipLxPPDJ79//36uMPGgE9ESjfzXZayjd0Wti7/bcMFvxIgRZhtfaN54xowZRNSnTx/+tiMGzD766KN83BsWucUoIsalvsGDB4ueDPz1hof0ik4UN4xrvM2FCxc46U6cOJFv58Eisiz/+c9/NjGkF3o1xD6Af3bLM03z/fffdzqdIo60+wIgGjSLi4uJqKCgwAwPxXA4HO+//75p6T/evv2LHcqy/N5773311Vc89Hjx4sVm22NZxJlzwY+fihUrVpimyZfeoqIiUTVp35k3hWcZHD58OI9HNi1jSpD8uga/Pd58800eFc6Dsrk8bJrm9u3buZAsBiS1Zp/8wn3wwQf8VaesrMw0Tf4GsnTpUtFngBuXY78/rd8Qdu7cycGUuxvydxL+hpObm8uDnFoze7NogOah6Ha7nWdl4hu54Ddo0KC2jmIBSCyIfZDsRODgv/Vc4uIO4x0Z0NcUnl3iL3/5i0hmEydOFMMkRebrSHgS5cPVq1dzm6/H4/nkk0/anSbN6zvh8cV16NChn332GXeoeumll8wOz5RrbUx3OBzc3n0tPE8Nai2djV87MVlPnz59PvvsMx7xLfreiZq3aamFx8YvHM/Rk5WVxYGMP1lffvllnz59iGjGjBlmK0bg8v9ywuNANmTIEO6Zxx+riB5+HCVvuM9r166JR83TaoratgiXPHkNvntAb4XYB8nOWle4dOlSQUEBEf32t781296f3Uokp/Pnz/MFr7i4mDs8cf8kTk4dSZZ8btyglp2dPWjQICIaOXKk2bFBEta+iZzMUlJShg8fLklSSkoK96Zqzejg2GfObX8ZGRlEtHDhQtPyhLT7zKGV+En+zW9+w0GHo7yYzZurX9ymL0kS93BtZSeB06dPc4WYe/XxdxsOalzwczqdp0+fNm9UQWwKz0bEaYybX/lGMfqYR43k5uZevHhRNPLGOE/rrJMul0tMS8lR8urVqzxKfciQITc8PYDEhdgHyc6ack6fPs09x8V0te3eLcc+jl98feWubCkpKTx1bSunVomBT2/btm08Xpjn3di2bZvZsdGITZYF1r766iuxYhsRjR492gyHtg4WFPkJ52loRowYcS28/ElPGEcpupSZnVz1aepaZvjdbprm/v37+Q3Do3c5/Yg57TgGcZlNFPxaejb4RmupLycnh9dPs9bRv/zyS65MP/zww6blw2U9Pes++bPDszwOGzasKbwSjPhC9be//c1a8GtpjLD1zC9cuMC9DLlz7bXwJOScI3ksS0TTdow3gNhzxDPc8dcoxkGTR8Tz2d2n03sg9gH8szLH7aTZ2dlffvml2bHwdC28IIFpmmvXrhXJiWsJcfkrJq5kvOAHz44mBkt2fM/8kxf84IjAZaGOF0KaLKsSc+mFlwzuIS28PInPxYsXefi2GPQaL7w33nNXXtWuhdcSvHr1Kle1MzMzrYNhxZnwq7Nt2zaOQfwtqNnVNcSMRU1NTSKH8UBy67gNvhcX/BwOB1faOKhx43LEM3A1vCwHf6URX2auhJdG5A14SG9eXt758+evNTcdoOiEyl8zRK8+HsBrPSifIafMIUOGiJ6m0e/Ja5YVccTC2UIH/2KIrg5xf9clCjGnN3/6Ll68yBM0tu9ZhWiIfZDs+FLHf1ZGjhwpalpi9fd27/Zq+GL26aefOp1OvoCJMkO8ztw0zQEDBnBrXUFBwVXLWmod3D+fJM9qyyfPU0PH5eQ5WLz33nuSJEmSxJfhaz1jid4uOwEOPfxOu9LJ+BDcY5U7sEqSJGaqiz6xK5aFMUSxLfrVabIUy0Wpj4eGRF+qL1y4wB0exKxAosTb7AlwCBMTKVtzGB/xxIkTHDR5SG90l8Emy4qIFy5c4F59999/vxn11YjPIWL4SEtjjERxmj9u/CJeunTp0qVLHXmBmFhKEYRu/5vQm8gEkPQMw+C23XPnzhERT4PMcaQju+W767ru8XgcDofP5yOin/70p3E44/D+Q6GQqqoDBgw4cuQIEXk8HkVR+MZ4HYWv07quZ2Zmcle8Dj4tZHnCMzIycnJyTp48WVVVZV0crLvwidXW1s6dO5cLnIZhdNKxFEWpq6vzer12uz0YDHbSUQR+wvlnZWUlEY0dO3b06NGapum6Hr09P/BJkyaVl5fv2bPnjTfeKCoqCgaD0S+Qpmk2m62iouLll18movvuu8/hcIRCoYgtdV13uVzTp0+fPXv2xo0bZ86cmZWVxUfn/g/WQ8uyvG/fvvLyciKaNWsWnzmfknggoVAoNzd35MiRzz///KpVq0pKSrjvbDQ+xMaNG0+ePOl0OqdPn05Rb2NFUQKBQFFR0ZAhQ8rLy8vKyoYNG6brOs8UE3F6uq7zCciyvHnz5rKyMpvNxk+jLMvte8/wA1RVNRQKpaamOp3OZl+XpMLPiWEYpaWlLpdL/N2ADunu3AnQ/fi79SeffMIRR/Rh78hXzKbweFjeOVdNFEWJbl3qCK55cCMyET3xxBNmuIjS8Z03hefj4E768W2eFoU9nheGFxe+2t5JYeKFH93f/vY3ike67cmysrK++OIL7ioXXcMTzcHXrl3jIb08VCh6ju6mcDdN7sCalZX1j3/8o6m5SY/5A/XFF1/wlwcu+PFm0Vua4fZWMaMKbylqbOJN/uGHH1qnGbLuyvo2u3TpEpf6uNweXVG7Gl4ve+fOnfzScw+/GBXEpqYmMYQFOo8kSV988YWJml+coNoH8P8LGzU1NdXV1Yqi8GWJv2pH1CHatE8uWvDOc3NzuXTRUkGiffj6xNOkEdGPfvQjChdL4nWItLS0tLQ0n8/HZY+4fOGWJEnXdd4VFyarqqqISNO0dj/hcSTLslgTon///oFAIO41SH6Nzp49W1tba7PZuqCMIaplqqr6fL6+ffumpqaGQqHYx5VleebMmYcOHXr11Vf37NkzdOjQiDIe18NOnTr1/PPPE9G0adPcbrfYJuJx6bqempo6ZcqUuXPnrl+/ftasWZmZmZqmiU8KvzFkWd69ezd/XqZNm6YoCr8xNE2z7lOW5WAwmJeXN2bMmGeffXb58uVjx451OBzWYhvvUJKkdevWVVZWOhyOadOmkeUltm7JT1FRUdGwYcPeeOONsrKyoqKi6DekaAeQJGnevHk+n8/j8cydO9flcvHJt+v1If5EcNExOzs7LS2Nz7x9e0t0uq47nc4dO3ZMnz7dbrcn7fPQKbo7dwJ0M9Gxj8fxuVyu8+fPN1lmD+74/k3L7BU8WCReX1uvhNdUJctcG1dbMXVta4je/Vzv4SGf8arGNV0/mFfMZRiXnXfkrEzT/Oijj/jPYxz7MiaipvDE2jw3EC8GE10kM8PzO2ZnZ8deLY1rdV9++SUPp+VVei9evHjFMqqdd8jVcV4UO8bzH1GQ5gmieW/WuqBYZVv06ov+aIuNTdPctm2bdZXeiLdlU3iOGx4BRkRLliyJ8aihHfhF50FFdru9TavwQWxI0AD/n9/vJ6L09HRrb5649GOjcJEvLS0tuqtQR/Ysds4VIx7SGy+isxEX5Hgml7jggg3XUb773e8SUSgUIktXnngdqIP4TIzOpHc5PmhrnmQulSmK8tBDDxHRnj17du3aJcuy6HPG1anjx49zr77Jkyd7PJ4YNSqu2KWkpNxzzz1EtH79+pMnT/InQpIk3rOiKDt27BClPuvhmj1DTdPy8/NHjx5NRKtWrWpsbOS3K58Dlwk3b958/Phx0atP0zRR+7TuimmaVlxczEl39erV0QVR3mdtbe28efOIqLCwcMaMGZqmcT/FOL5MSc76AbzhexVaD7EPkp34m97Y2EhE6enpollH/PXp+P5TU1NzcnL69+8f+zLWPg6Ho3///vn5+cb1fd7jtf/s7OzMzMx/+7d/i9durTuxjpyI+5l3kDifziN3OT5oK59kbnsdMWLEwIEDdV1fvXo1RY1aWL16tdfr7dOnz7hx4+hGL5+iKIZhPPjggxkZGY2NjS+88IKiKLqu8z4NwwgGgzx4fNCgQcXFxYFAoDXt/jNnznQ4HKdOndq8eTMRieZgm83W0NDAaxgWFxf37dtX0zRuh5WjRpyQ5X3IAZGHlUR8ZmVZVhRl9uzZ9fX1Lpdr6dKldrtdDw9MiePLlORu+F6C9sFzCr1cK79WEtGlS5eIyOVy8ZUpXl8x+S/XkCFDPvroo5UrVxrhYYBx2bmqqpqmZWRk7N279/3338/MzOQ6Qeuv67FJkqRp2tKlSz/++OOpU6ca8euCxs8Dha/Q4kZqy0sGXYDfThyDdu3axXU4fhUkSTp16tTGjRuJaMqUKW63mwtpLe2HXzhN09xu95QpU4joxRdfrKqq4tjEI9APHTrEh5g9ezbfMfbXJEmSgsFgbm7u2LFjiWjVqlU+n098l5Ak6dVXX62srHQ6nTwimMLv6uj98AfTMAwu+BUWFuq6zlP9SeHqICfUjRs3vvLKK0T04IMPFhQUhEIh7pMnRRURAXoaDOmID3E14j8ocrdOQgFk+TPdmgDEW/LsLXzBoHBJIy5Bh/fPrUWKosTr7cGPUXwzJsuXYyncNT4uR7E+mR3fIRMh4Pz58xQ1dCb2c8731cODQuJ1SrxnVVXjXo5NaPw3raSkZMWKFYcPHy4tLeWOd1zfKisr8/l8mZmZDzzwQOy3nHgX8Wt9//33r1mz5uzZs2VlZVze49tLS0sNwxg8eHBRURGHyNgvsdhg2rRp3Gq8bt26hx9+2DAMRVH8fv/y5cuJaOTIkXl5ecFgUFXVZt824isHVx8lSeKxLOXl5bt37x42bBiPU5Ekqa6u7rHHHiOiwsLCuXPn8knKsszvHPzxhx4Ob9C44U8+dffEY2Cl6zp/BaeWkwT/uQ8Gg/X19UTEs79GxKkO4l11xhvDepJ8xbL+V1wO0XnvZ94zp22+GPOLJYKmZJmqTRRROPA5HI7OGPNrzSUg8GsxZ86cw4cP7969m4f0EpFoVJ01a5bT6eSiV4z9iPeSrutut3vy5Mlz5sxZt27d9OnTs7KyZFnes2cPl/q4NyG14u3HxUhN0/Ly8saOHfvcc8+tWbPm3nvvVRRFVdXNmzdXVVU5HA7eoaqqLX2uuWlV/K7renFx8dChQ/fs2VNaWsqPV9M0VVVnzpxZX19vt9tLS0t5uj6+I942kBAQUOKAP/Z/+MMf9u7dy2P4u/uM4J8Xg9raWorZKVgKd3Wqrq6mcIuSdP3csAkhgU6VLNU+Hsxx7Nixn/zkJ6JSbn29Ih6XJEkOh0OSJP6sxb3aJ8tyIBCw2WzBYBANdmSZdXzo0KGDBg06cODAihUrhgwZIknSihUr/H5/dnY2j6igVr8JebNx48atWbOmqqqqrKxs1apVhmGUlpYS0ZAhQ4qKisSLGzv58TacOKdNm8ZNuuvWrXvkkUcaGhq41Dd69Gju1dfKZCZJUigUstlsDz30UHl5+b59+3bs2FFUVCTL8ubNm3fs2EFEDz/8cL9+/cTERgAJo7uHEvcGPLy/pKSEUOpLZPza8YzH8Zq9BVrCE/9eunSpf//+1JYPjizLHo+nE98H4aMQ0TvvvGP2gGllup1YDG3Dhg38/Ozfv/+TTz7hHhE8fUn0TM433KdpmkuWLCEil8v12Wef7d+/n3fOK/CK+aJvuFuextk6lUxmZua1a9dWrlxJRE6nUywB3Mpz4/mbeLHgwYMHE1FRUZFpmp9//jlP6llYWMhHxEJqncQ6gYvNZsMELnGEjBIH/HWTZw0YOnTomjVr/H4/8l/34o5HXq/35MmT/BW/pX5gRnhyY13Xg8Fgv379YmwMcSEGnciyvGDBAp50Q/SkFJ3reWPRy1505pMkKTs7OyUlpfP60fKbISMjo4fMIN2N+HWRZTkUCpWUlKxaterQoUMrV670eDyBQMDaq69NfWF5s3vvvXflypW1tbWlpaXc3F9YWFhcXMxzOHO3whs+/9Z3y5QpU9avX1z/6SoAACAASURBVF9dXf3kk0++/vrrRFRSUtK3b99gMNim15EfC4/Y3bdv3+7du3fv3r19+/aamhpVVRcuXKgoSjAYjGNXEIAu0t25szfg7yU8ecHQoUPNJJ7ftRcQa7J1cHE2uKGe/wz3/DPsGvw8iKmMiUhRFDECwzRNXqmsTU8XL3FmmuaiRYvI0rWOS338J5QPesM/p+LQvMOJEydSeCyXqqq8HGL0AnSx8YTPvEOew8/tdvPsm4sXL27HDqFNUO3rPKhIxYEY2G+9Bb2Ceo4bvhb8fV105sOUUV3D+rRHiN0XsxPPqbsP1zNZ+9gVFxcPGDDgyJEjRJSRkcGLrLRjwiDx6k+dOnXVqlUNDQ2apg0cOHD48OGieieF5/Ruza4oPKhi9uzZmzdvNgwjFAqNHTs2Pz8/YlW3Vp6e6OA7c+bMAwcOBAKBUCg0cODARx99tH0PGaAnQOyLG+ufAFT+e5Q2tTpBF2v2acdr0QOJWYGmT5/OsW/y5MkdWYhWVdVQKMRz+M2fP19RlLlz5/KN3GemHTRNy8nJGTt27PPPP+9wOMSyHG0deCEyn2EYRUVFPKSXR++K+aXbd4YA3Qt/W+MG5T0A6N24A19JSUn//v1TU1N5/ET7MrroMkhE999/v8fj6d+//+DBgzvSmVKcCae9kSNHcqlPTMXX+l2J7bn/KM//8thjj/Xv358n8GvfGQJ0O7x3AQCgtTirTZkyhZcm60jdi1tdQ6FQSkrK9OnTMzMzedWZDg6o0jStb9++jzzyyF133RV9uFaeGBGJ+ZkNwygsLPzd7373wAMPYDZ+SHR4+wIAQGtxwY+79HUkn4neezyI+7//+7+leCwtI+Z9LC0t5cQmdtimjn1ipDnvzeFwLFy40DqFOECCQuwDAIA2sC4M05GynHWOHv6l44W06Mm9272fiNMTaQ8dTyGh4e0LAADt0ZMDUNxrchioB70D3sQAANDbIKIBNAsfDIAEhm5GAADQeoh9AInNMAxd10OhECIgAADEhiEdAImKA59Ypra7TwcAAHo6xD6ABIbABwAArYcLBkCi4inEuG2XJ7nt7jMCAIAeDbEPICHpuk5Ezz777L/8y7/s2rXLZrMh9gEAQGyIfQAJ7MKFC4FAgAMfWnsBACA2XCcAEtjXv/51QuADAIDWwdUCAAAAICkg9gEAAAAkBcQ+AAAAgKSA2AcAAACQFBD7AAAAAJICYh8AAABAUkDsA0hgmKIZAABaD2vyAiS8UChE4XU7BF6u1zAM/kmY3g+6m67r1vekLMv8O/+veJfyO5m30XVdlmVZxqUKID7wWQJIYHzJtNlsRKQoSkSw46umoijdc3IAFiLhie8hHO+sFWtxOydC640AEBeIfQAJ7OrVq0S0du3akydPkqVecuXKlbvvvjs3N1cUV7r5RAEs708iil3A03VdVVVN0xRF0TSti84PIAkg9gEksG984xsej+fw4cP79u3jpl4ikmU5EAj853/+Z25uLoVrJ0h+0HPIslxeXn7y5ElFUazFvNTU1PT09MzMTKfTGQgEFEXhd283nipAL4OPE0BC4mvh/fffX1JSYrfbub1MXCANw3A6nfw7XzsJffugW/HbT7wV16xZs3nz5oiOp/x7dnb23Llz7733Xu4L2K1nDdDbIPYBJDC32+12u2NswEEQ9RLoIUSnPe6QumbNmtGjR3u9Xh6BVFlZuWnTppdffnnChAkZGRmFhYW6rqNvH0Ac4WIAkMBiXxFRKYGeRpT3+KfL5bLb7aqq8gDeoUOHDhs2zDCM9evXv/766xz78KUFII5wVQBIYFJM3X12ADfA4U/TNF3XNU3zer2GYfzsZz8jorq6OsJXF4B4wycKAAC6mrUzH39LUVXV4XBIkvTxxx8TUWpqKhGFQiEkP4A4QvEcAAC6Ggc+a99Trvbt27fv6aefJqI777yTiHgCF1VVu/VkAXoPxD4AAOhqPKR3/vz5K1as0HW9sbFRVVWfz1dVVSXL8uLFiwcNGsTz9mFIB0AcIfYBAEBX46Zbp9PpcDh0Xc/IyDh27FhVVdXw4cNXrFiRnp6uaZpY1aO7Txag90DsAwCALiJKdxzmZs2aVVxczFW9qqqqm2++uaKiQmyM5aQB4g6fJQAA6CIiwFlnb9Z1PRgMZmVlLVmy5Ny5czNnzuQNeLpmZD6AOMLHCQAAOp0RFjGGl3/KshwMBqdOnTp8+PAdO3b86U9/4hUFeW6Xbj51gF4EsQ8AALoCF/CsSwUqikJEXNXj8bwLFiyQZXnu3Llnz56VZRmrdADEF2IfAAB0BcMwuIZnGAaHP03TiEhRFE6BwWCwf//+TzzxRGNj4+zZs4PBoFjMDQDiAkM64gYdUAAAYuCOetzOe+edd6qqmpmZyfW8YDBot9s1TTMMY/r06YZhhEKhxsZGHtLb3ScO0Hsg9sUNvpICALSEW3jFgryjR48uKSnRNE3TNFmWVVXVdZ0nZ3Y6nYsWLSIiTdMCgQDmagaII8S+WJpNcqKqZ+2eTOFOKtF7EOPRxD+tu8JC4wCQJMSwXP7TGgqFZFm22WziL6SoBXKFj/82oiEFII4QOGLhv0H8Z4h/ER1NuG+KmINAZD7+O8Xdlvl3sda46L9Cli+++IsGAEkiYvYWUcazfvW1DvWgFr5OA0C7IfbdgAh2IqWJv1DibxYHO+ssA7IsW/+QGYbBSwzxvPOcHXmQWtc9EgAAAEhuiH0tstbzZFnmL52GYXi9Xp/P5/f76+vr6+rqGhoaPv/8c5/PV1FRIUnSmTNnRo0a5Xa7v/vd7zocjvT0dI/H4wyz2Wxi56FQiPeMgh8AAAB0AcS+SKIN1xr1ampqjhw58vHHH1dXVx87dqympqalwWXV1dXV1dURNyqKkpGRUVBQkJKS8sMf/jA/Pz87O1sUC8UsVtb8h/ZfAAAAiC/EPuJOeDyaLBQKcRqTZfncuXPHjh177733du3aVVdX19jYaL2XLMtut9tut6uqqigKD0MTrcCapoVCIU3T/H5/Y2OjpmlVVVVVVVV8X7fb7fF4hg8ffuutt+bl5aWlpfFphEIh0ZFFxD4M+AAAAIC4SPZIwbU9nhSUiGw2WygUqqio2LBhwxtvvFFTU8ObSZLkcrmcTmdOTk6fPn3sdvu///u/2+12Efsi+h1zhuOFJhsbGy9cuNDY2FhTU1NTU1NfX+/1ehsbG0+dOvX73/8+PT192LBhP//5zwcOHOh0OkX/P0mSRAYFAAAA6LivmabZ3efQnQzDCAQCNpuNy3t/+tOftm/ffvToUf5fWZYzMjL69u3bp0+fm266yePxSJKkqirXBbnnn1hryLpPseKQNRFypPP5fNXV1adPnz558uSZM2fEffv163fXXXeNHDkyJyeHC4e8HzT1AgBAUuFWuFdffXXUqFE2m+3TTz/1eDzo+xQXyRv7xMwskiSdPHly1apVr732Wl1dHRHJspyZmZmXl3fLLbekpqY6HA5eDlx0++Oef2RpiuUZXnjP4ncx7Ys4KB+OC4Rer7e+vv6dd96prKw8efIkb5aSkjJmzJjJkyfn5OTwmBLMXwAAAEkFsa/zJEvsE2+XiBBWW1tbWlq6ceNG7rrncDgKCwt/8pOf5OTk2O12Xdd5sSAx5TLjEh3Pw2INedbDWY8ifue3Muc5rhrKshwIBE6dOvX2228fOXLE6/USkcvlKikpmT59em5ubku76kriHPiB82Q0ZJlbVWwmkjQ+nwAA0D6IfZ0nKWKfaIflqfI4bPl8vuXLlz/77LMNDQ1ElJKSMnjw4J/97Gfp6encGityXnRkFDda009bz0qkSV6YiIgaGhr27t17+PDhmpoawzBsNtsDDzwwZ86clJSUYDDIZT9+COJRxO9JavEkRVu2mLOQRzFLkiTyn3g4vCXPTY3BKAAA0A6IfZ0nWWKfNZ/Jsrx58+aFCxfy0FqXyzV8+PA77rgjNTWVR+De8L0Vo0m3pZ/WjaN/ij3YbDafz7d3797XXnuN82ifPn3mzp07btw47lBI4eRHRGIWwM7DaU/TNFVVd+/e/frrr99+++1FRUV+v5+7LVrXLzl8+PCWLVv+4z/+Y+LEiZz8Ovv0AACg90Hs6zxJ8QxycOEpWhoaGu67777JkydXVVXZbLaioqJly5ZNmjTJ5XL5fL5AIEBRKwhF/7S26kbUAlv6GWMb/oVDUiAQkGX57rvvXrJkyb333muz2aqrq6dMmfKLX/yiurraZrNx+U0UCLvgqRPnabfbn3766blz5/JYE5H5xMZLlix5+umn8bEEAADomZLiCs3zs9jt9t27d99+++0bN24MhULZ2dkLFy6cNWtWamqq3+/n6hRnr4hRGrEzXETfvtYkxYifvFBHKBQSt/h8vtTU1AkTJixbtiwvL88wjDfeeOOWW2557rnnOPl15ZceMa/hwIEDi4qKTp48uWPHDlVVudejKPUdO3asvLw8MzOzpKSEV1jvmtMDAACAVuqdsc+w0HXdbrcbhjF37tw77rjj1KlTiqLce++9paWlubm5fr+f85YYqEGWhNc11T5uSBVd9/hnKBQKBAJ9+vRZvnz5Aw884HA46uvrp0yZMnnyZG5ytaYusbe4EyfG5z958mQi2r9/vzhVcdxDhw5pmnbfffdx0zOWGwYAAOhpem3fPh52YBiGqqq1tbWTJk0qLy+XJCkrK2vKlCl9+/b1+XyKoohVd1sartGsuPfta3bn3DYty7LT6Tx16tTq1asrKiqIKD8/f8OGDdnZ2byqhwhYndqXjk/V5/PdfPPN586d+/vf/+7xeHhwCbf5/vCHP6yrq/vggw+ysrL4xNDaCwAA7YC+fZ2ndz6DHJt4kpTjx4/feuut5eXlRDRkyJBly5ZlZ2d7vV5FUUS7aksFua6p9kXvXPzCSc7r9fbp02fhwoXFxcWyLFdUVPAjUlWVB3l0UqnPiquhTqezuLjY7/e/+uqrFP5k2my23bt3nzlzZtiwYVlZWbzKSGefDwAAALRVr708G4Zhs9n27Nlz55138mCIiRMnPvbYY9yLTszkQjG76HVN377onUeUD4mIxxdPnz59xowZDofj3Llzo0aNWr9+vc1m67LmVD6TKVOmENG2bduIiPv8EdHOnTuJaNKkSRQe/Ns1pwQAAACt1zsvz9z7bePGjaNGjaqvr3c6nXPmzBk/frzf7xcz3kW07TZbtOv2ah//FPE0GAz+/Oc/nz9/flpamt/vHz9+/DPPPMPJr2uSVjAY7NOnz9ixY8vLyysrK3lAcV1d3csvv9yvX7+BAwfyyBh07AMAAOiBeknsE6M3eKIWVVU3b948adKkQCDg8XgWLFgwYMCAhoYGbjM1DIMbIiPyXA+s9lG4dZXCC7v5fL68vLyFCxdmZGRw/e/pp5+22+1i+Th+dJ3R7CuesbvuuouItm7dyjfu27fP5/ONGjXKbrcTEWdBFPwAAAB6ml5ybeamW447iqJs3LhxypQpoVAoLS2NO/MFAgFVVUUhjRt5I/Jcz6z20fX5T1XVQCCQlpa2ePHizMxMIpo9ezZP7ML9/DRNCwaDnVRvkyQpEAgMHz48Ozt73bp1Pp+PiFatWiXL8sSJEyk8vBcAAAB6oF4S+zgqhUIhVVUPHTo0bdo0v9+flpY2f/58XnuDV8KlmKmuZ1b7rDdyqFIUxe/3ezyehQsXZmdn67o+ffr0V155xW63c/LrvIXRuHHcbrdPmjSptrb26NGjZ8+ePXLkyNixYzHMCgAAoIfrJRdproS5XK6zZ89yH76UlJT58+dnZmZyRcpobhK+uFf7WPSeWzpisweKOJPoPoiaptlstmAw6Ha7582bl5qaquv6tGnTKioqbDZbpw6kFZ0Ihw8fTkSbNm166aWXiOi+++7rpCMCAABAvPSS2MfjdhsaGu6+++6amhqn0zl79uyMjAyenE9sQzFTXQerfYqi2O32iHU+ojeO8b+xq30UXlxYURTOl4FAwO12z507Nz09vbGx8c477zx79qzD4ei851mSJJ5KOicnZ/To0evXr//f//3fgoKCwYMHY94WAACAHi6Br9M8gINHcnCFbObMmRUVFbIsP/jgg3l5ecFgkBNSa8JWR6p9RCTLcnV19f79+8+cOSMGYcS32seRy3q7oiiapmVnZ0+ZMsVut587d+6hhx7iocqi9MgzKsfrOecT4FOaMGGCruuhUOi+++4Toz0AAACgx0rgSzXPGMfhT5bl3//+95s3byai0aNH33bbbbwOL/eHa03Y6mC1z263b9269cknn9ywYYPdbheNoTF23o6+fdamXik8q5/P5xswYMCYMWMkSdqzZ8+CBQvEQ+aniOK3VBpnSj6xgQMHrl27dvXq1aNHjw4Gg+LcAAAAoGdK4NjH88Ppum6z2Q4fPrxw4UIiKiwsnDBhgt/vF+GpC6p9ouBHluLfDXfejr59EZuJG/1+/9133z1s2DDDMP7whz/s3r2b1yBRVZUsE690nNgPJ91x48bdf//9DocDA3gBAAB6vgSOfRTu0uf1eh966KFAIJCenj5t2jSu8/EGrQ9bHan2iVZdCk8l05qdt6NvX8RmYq0RwzBCodDkyZMzMzNDodD06dN5ksJgMMjnFscWWN4b79Dv9/OzLRqgAQAAoMdK4NgnwkdZWdnx48dlWZ40aZLb7SaiZhfbjW+1T/wiehbyXXhqPWvXupZ23sFqn3gSxE9VVadPn26326urq+fMmcNpzNo0HEf8uGw2Gw9hEdVNAAAA6LESNfZxfctmsx06dOiPf/wjEY0YMaKgoCAQCHAcbOtAitZU+yIqZ6qq2mw2m83Gv/DtvPKb3W7nnzabTcSv6CM2e6BWVvtEnhM/A4FAfn7+iBEjiOjFF1/csWOHmKE6Xn37uKonhVnrfKj2AQAA9HCJeqkWTauLFi3y+/19+vT55S9/aW1ptRa6xOiHiJ/Rqc56Y/T2FC5rKYpy7ty5JUuWcAo0DEOWZa/XS0SnTp2aNGmSER54q2nahAkT+vXrxy2/MQKo9QSiT77Z87H+5BNrbGz81a9+xbMoz58/f+DAgZxH49jIK57hiF8AAACgh0vU2MdtqevWrSsvL5ckafTo0ampqQ0NDaIWJdaxjY531FzYstbYrP+M+Mnd6bgDX01NjRgqy2RZDgaDVVVV1hsvXbok7hsjt1Fz1b6I8NfsoxCNy3wIRVHGjx+/YMGCysrK559//re//W0gEBCTFwIAAEDSSsjYx/kmEAgsW7aMiHJzc2+55Rav18vhRow5iHu1TzTy6rrucDh45Cz/l6qqFRUV1dXVHo9nwIABojSo6/q3v/3tGDky+lgtVftiPBDRvmwYhqZp/fv3Hzhw4KFDh8rKysaNG+fxeHjkR3e8VgAAANBTJFgUMMLT0amqunnz5pMnT8qyfM899/B8JSLZ6LouVsuIY7WPwolT0zSHwzF79mxxOJfLNWfOnOrq6oyMjHnz5gWDQZG0gsGgKAq2JoDGqPbFCI5iVG8oFFIU5a677qqoqKivr3/uued+97vfieZvsbdOfJEAAACgR0qkyz/nHl4ELBQKLV++nIgGDx6cn58fCATE0hQUNW1eawZSiJpZxD8jtrdOAe31ehsbGxsbG30+X2NjI/fe0zTN5/N5vV6/38//y5mv9YNLIs4k+vfon2RZLZfnbcnLyxs8eDARrV69midzsS5q0qkvEwAAAPRMiRf7iEhRlPXr1586dUpV1dtvv73ZiBYj3lELKSrixpaqg9Z/cl86IlJVlX9RFEWU8cT/Ru88xhlGbBz9e4wHYt3DnXfe6XQ66+rqnn32WbGldTMAAABIKokU+yictAKBwIYNG4goLy+P195tU7yjFlJUa6p9MXZihIdWkGVOwZZ2HuMM21HtizgKEQUCgYyMjP79+xPR1q1bvV6vWFQNAAAAklMi5QCOVrIsV1ZWHjhwgIh4UAVZmjib/dlJ1T5xIw/y4JXQxFR5LdXhmv0Z92ofN0PffvvtkiSdPHly3759kiRZuxh2zksEAAAAPVciXf6l8LQsa9euJaK8vLwf//jH1rXCqOVxstSZ1T7ua/iLX/yitLT0nnvusS7O1i3VPiM88CUrK6ugoICIuDgqxW/eZgAAAEg4iRT7iEhV1XPnzpWXlxNRfn6+zWazzs9H3VTtIyJd11NTU3Nycvr06RO7Dtfsz7hX+ziJ2u32/Px8Ijp8+PDZs2e5EtlZrw0AAAD0bAkW+yRJ2rNnT3V1taIoP/3pT8UcxbHLaV3Qt4+IeKgsDzSOPkQXV/sMw1BVNRgM/uQnP3G73Y2Njbt27eKT5Cetk14gAAAA6LESKfYZhqHr+rZt24ioX79+qamp3JwqVkij7qv2WXvL9YRqn2h6TklJyc7OJqKtW7fyKsbo2AcAAJCcEikB8Lq3R48eJaK8vDxVVXmC4p5Q7Wsp1XVXtU88J7quc/e+48eP19XV8QzSSH4AAABJKGEu/1zSe/fddxsbG+12+49+9CMxejd28OrKal9r6nDN/uyMap/43+9///sejycYDB4+fLhTXhsAAABIBAkT+9jBgwd58ERaWlooFJKuX76MUO27fmNesS0tLS09PZ2I/vrXvxIR+vYBAAAkp8SIfUZ4zdlTp04RUU5OjqIorS+nJWG1T3Tv4yEmOTk5RFRVVeX3+9HCCwAAkJwSKQHU1dVVVFQQUXZ2tlhzojXltOSs9pGlk98PfvADIqqsrDxz5gxPKw0AAADJJpFi37lz57hj37e+9a2IBSdQ7Yu4o+j4yPMaulwup9MZCoXOnTtHllwIAAAAyaNHxz5OJzzVHBGdOXPGMAyPx5OSkiK69KHa1+xRrC25mqa53e6MjAwiqqqqiutLBAAAAAmjR8c+uj7BvPXWW0TkdrtVVeUua9HRB9W+iI25T6Tdbne73eI5BAAAgCTUo2OfdP0astXV1UTkdDptNhtFhTBU+2LcUVEUl8tFRHV1deK/AAAAIKn09Ms/ZztFUTRNCwaDROTxeCI2oKhCF6p9Ef+l63pKSgoRBYNBHsyL7n0AAADJpkfHPmuyCQQCPp+PiDIyMowwaqHQhWpfxN5CodC3vvUtIvJ6vV6vN+6vFAAAAPR8PTr2SeHJ54iovr6e88o3vvENwzB4kTFCta8V1T5+umw2m6IowWCwoaEh3i8UAAAAJIAeHfuM8CzNRBQKhbiRlzv2WbchVPtuVO0zDMNutyuKIoqmaOQFAABINj069jEOKOfOnQsGg4qi2O120cIbHX1Q7Wv2jrquK4rCJdL6+vq4v0YAAADQ8/Xo2GcNLoFAgIhkWVZVtdniGap9se8oYh8XTQEAACDZ9OjYJ0mSmKtZURS+0TAMXdejExiqfTe8IwAAACSzHh37iEiSJK5RiQn8pDD+J/r2tXSUiN8lTNoCAACQ3Hp67KPmUg4HwdaX01Dts/7OEAEBAACSTY+OfdYalfgZUXJDta+lo7TUvBsdAQEAACAZ9OhrvzWgpKWl8WQumqa1tZyGap9hGMFgMBQKEVFGRka8XygAAABIAD069hGRJEmaphERT92iaVooFOKaH2+Aal9LR7H+zomZp3GJmPgQAAAAkkRPj30iyng8HrvdTkQ82zC3/xKqfa2o9hmGIcuy1+sNhUJ2uz01NVVsAwAAAMmjp1/7dV3nSpXL5XK73UR04cIFRVFEwQ/VvpaOEvH7hQsXiMhutzscjvi/TgAAANDj9ejYJ0mSLMs8Y5/IK7W1tbIst1RpQ7Wv2TvKssxL8drtdo/HI24HAACA5NGjr/2GBRE5nU4iamhoEHP4RUcfVPuavSOF12RzuVximWMAAABIKj069nG1T3Tjy8nJISK/3x8MBnnqPlT7WlPtkyTJ7/f7/X4iys3NFRsAAECi49ktNE3jcXsR/+RFrawFFEhyiXH555jyX//1X0RUV1fn9/u5nRfVvtZU+2RZDoVCNTU1RHTzzTeLDQAAINFxAw7/wbcmPxH+DMMQ+a+7Txa6X2LEPpaWlkZEjY2N1dXVqqqKKiCqfTGqfRz76uvr6+rqCJP2AQD0OvzHn38qiqKqqqqqsizbbDYukYjLJYDc3SfQBhkZGXl5eZWVlV988YW1Xm1NSy1V+5r92exmMe51w53E+N8Ypxdxx4iNo39vzVGs/0tE58+fJ6K0tLQ+ffoQGnkBAHoR0apjs9mCwWBlZWVdXZ2maTabLScnh7/th0Ih7hzV7kOImiJ1fpMRPyLRDZ1/6eJe6dzHrCuP2DUSI/ZxfHE4HPn5+ZWVlcePHx81apR4PSKqYs0GI7pR2LKWylq6V4wbW0p1MXYeOztSc4GvNQ8k+jxlWT527BgR5efnp6ena5rGg6MBAKB3MAxDVdXnn3/+qaeeqqysFLe7XK7BgwdPnz590KBBvPZB+0iS1JUXDk54IqfyL12fw4xw16neJDFiH4Wf/R/84AdEVFtb29jYyPO5tKacloTVPuvGfr+/traWiDIzM8URAQCgF9A0jfPQ7Nmz//jHP6akpDz66KM333xzampqXV3d9u3bN27c+Nprr/31r38tLCzkqXDbtH++jni93s2bN3P4C4VCnR2GdF232+3vvfceEUmStG7dOofDYS03dipJkgKBwJAhQ/Ly8vjpNQyjI7XSHuVrpml29zm0Cr/zqqqqbr75Zp/P9/jjj992222BQECWZfGqUMxqX7TWVPuit4+xk9iHaOXpRRftWjp0jKPw7VzkP3ny5Lx58yRJ2r9/f0FBAap9AAC9Bv9Jf/LJJ+fNm1dQULBly5b09HRRQZAkadKkSX/6059yc3Pfeecdu93e1gqWuPjedNNNnfcoWiLLMl/lu7Jgwe3LTz311IwZM/x+v6IoiqL0mrJfwqRXSZI0TcvMzExPT/f5fGfPnr3tttu4ZC1ZBjSg2if2wN/qVFU9ceKEpmlpaWlZWVld/bIBAEBnUhTl3LlzK1askGW5rKwsh+VNKQAAFClJREFUPT3d6/XKYYqiLFmyJC0t7Xvf+55kGUfYjqN4PJ6uDGGcWXVdV1WVRyJ39hEFXuCA16/nwNfWrNyTJUzso3Cs+eUvf1lZWfnuu++OGjXK4XDwFx1N06zhr9lyWuyw1VK1L3r7GDuJ/b8xTq/Zo7QU/lpzFB6rL8uy3+/njn0jRoxwuVxcGe2qVwwAADoRf73fvXt3fX398OHD+/fvr2matT00FAq5XK758+e3+y8/11xcLtfp06el6yfT7Tx8LeN8yUfs4iuXmPWQT0NV1a48eqdKvARQWFioqmpdXV1VVVVBQUEoFKJwf09U+yLaglVVPX78eFVVlSRJP//5zymcCNHICwDQC/Af/E8//ZTC07JaRz8YhiGm6xNdANtxFJ4Lhn/vgsxH4cclLlVdX60QF1YO1r2pXJJIj4QHqBcWFubn5x85cuStt94qKCiw5h5CtS98o+h1+8477+i6npeXN2jQIDFde9e8XgAA0Kk4gX39618nIrfbTeGpT0QyUxRFhL92J7aIO3bNRaRbDmrFUc9ut3fxcTtbIsU+8Q4YP378kSNHKioq6uvrPR4Pt/MaYZTE1T6xDQ/mqKurO3LkCBGNGjVKVVVuCu9N31oAAJKZ9Y8/t31ZoxK3z1rXZ4vLQbug2tdDDtorJdLzKN61Q4cOTUlJ8Xq9+/fv58qzeDdLyb1Kh/WpkGX5nXfeOXfunM1mKy4upnD6xIcHAKB34L/nPA//O++8Q9dXxcTvNpvN6XTiOz9QYsU+IuIxRBkZGSUlJUR04MCBhoYGRVFE94WWqn10o7AlNotxr5ZupBZyZIydx7hjxMbRv7fyHLxe74EDB4ho5MiRYvKhLh4PBQAAnYf/4BcWFjqdzn379tXW1vLfeXFR4OEImzdvfvXVV/HHHyjhYp+oVE2ePNnhcNTW1h48eJAXH7TWscTvrQ9b7a72WVlv5w9YF1f7pPAYXrvd/sEHH5w5c0aW5SlTpvDp9dalZgAAkhM346anp0+dOtXr9S5dupTC1wJu83U4HMeOHZs8efL48ePPnTtH3dFJDnqURAoBYhYiwzByc3O54XLXrl319fUcd8gS+GIX4VpT7WvpjoLcMp7d0Waz8ZZdU+2j8GAOSZJ8Pt+uXbuIqKioqKCggG8Xz2FnvkoAANClDMOYPHlyamrqM888M378+LNnz4ZCIe7PfejQofHjx4dCoaVLl/I0zvjyn+QSZpUOK37jHjt27NZbbw0EAmPGjJk8eXIgECAiXq4jegBEs/uRosZGxL6X+C/+guX3+1vaCQ86VlWVC29tWkQk4kwibozxQMS9bDbb9u3bn376aUVRtm/fPmzYMHzUAQB6JTF58tGjR2fNmlVRUaGqal5ensPhqK+vP3XqFBEtX778kUce4atSd58vdLOEjH0UnkpnwoQJL774Ympq6uLFi1NTU63jmKwhqTVhi6KiVbP34kMrilJfXz9z5kwxTXQE3lhRlGAw+Pjjj99yyy18bi1pNnpGn1XsB8JhlKdumTVrVl1d3ciRI7dt29aR6ZoAAKAn49WqgsGgzWYLBoPPPvvsO++8c/bs2WAwmJWVlZOTc8899/Tr1y8YDHJLVPuOIioLScK4fh6c3iRR2/v4xZgzZw438m7ZsmXmzJlSeHZKbseMCEYt9dWLXe1rtiFYCk+SEruHLH8arfdtKbe11LcvonIZ44GIM1FVdcOGDXV1dTabbd68eXR9AgYAgN6Ev/DbbDZd1+12++OPP24YRjAY5LYmvnb4/X5VVTsSYkQHKkh0iVrtIyKuV8+fP/9//ud/bDbbnDlzBgwYEAwGW2o27Xi1T/yXLMvBYPDDDz+M3fDKaeymm25yu92xA2LHq32SJIVCIbvdfurUqQULFgQCgRkzZjz11FNcZexNy0gDAIAQcTngwodo9eJV2qx9wdu3/7q6upkzZxIRr4Ya34fQLGvxpYuvX5Ik+f3+WbNmDRs2LBQK9bILaALHPm7Q9Pv9t956a0VFRUZGxrJly2w2W7Pr8za7h7b27Yu4F08Z2FIUE3vQNI0/JDfc0rp/ajn8xTglSZLmzJlz8uTJPn36vP322x6Phz/26M8BAJA84hiVeFdnz5793ve+F5cd9nw8CU5ZWdnDDz/MjeNSL1rpIIEfBg+bcDgcZWVld9xxR01Nzdq1a7m/HW9g/aJww6bV6BtveC8e0nFD4rPXUhNt9P5bat6NfUo2m23lypVnzpxRFKW0tNTlcnEyFlvG89kHAICeKu5/8FVVLSoqiricdSruQ3/s2DGn09m/f38xMrILyLLs9XrT0tLIMn1H1xy6CyRwtU/MSKkoyrx585588klFUR555JE77rjD6/WKhag7r9rXprdgK0t91PZqHzcl2+32I0eOLF++3OfzTZ06deXKlX6/X5ZlrvP1prcsAAB0JcMwQqEQN3B1DW6qfuWVV375y1+6XK6PP/7Y7XZ3cf2Cu0hx3OxNwzsSuNonMpOmafPnzz9w4MCRI0eeeeaZ73znO1lZWTyfC3VmtY9uFOZiHIuixmS0o9pH4UnYefndsrIyn8+Xk5OzaNEiwzB4+hgKj8DqNQVqAADoYtyjnVs/RVWlk44lSRJPQGGEO0pxAuN+il1Q8xMXWX68vSbwsQSOApxj+FVRFGXVqlU/+9nPGhoaSktLlyxZYrfbjXDnVv4ZO2y1VO27YURrdpvWHCt2lKTmAl+zOVVRlEAgUFZW5vV6HQ7H6tWreQQJz2stdaAnLwAAAIWn+uck1GUXFFHdEMsNdOW1zAjPwku96xqawI9ENLdzsMvNzS0rK5Nlubq6evny5daSWMTvZHkz0fUpKvqfse/V0jY3PFaM/UScSfTv1gfFVb21a9ceP36ciJYuXSqGM0dsDwAA0A7W/m1deUHp3ouXZNGNpxF3veTB8PCOMWPGPPHEE0T07rvvlpWV8WgGMbA3dtiy1tis/7xhRGvlz9aHwogzif5dlLh1XXe5XC+88AKvwzZjxoypU6cGAgFRFwQAAAAQekns4/bcQCCwcOHCBx98kIh27969ZcsWVVVlWbaupZG41b6Ib1qaprlcri1btmzcuJGISkpKli1bFgwG+SH3sm8nAAAA0HG9JxxwJVbX9eXLlw8dOpSIXnzxxbVr14olcW8Y2npmtU8QBTz+xe12b9q06bnnniOigQMHrl69mntd8PI7iH0AAAAQoZeEA0mSVFW12WySJCmKsmnTJk5+GzduXLVqFSdC0S2UEqfaJ263xjhFUWw229q1a5977jnDMAoKCjZt2uRwOMR6i8h8AAAAEK335ANrlc7lcm3atGnw4MGGYbz88ssi+UXM5JwQ1T7uqGc9K0mS1qxZ8+KLLxJRYWHhn//857S0tEAggLQHAAAAMfTCoMDxzul0btq0afjw4US0a9euxYsXBwIBbu0VNb+eX+0zDIPHKYuldQ3DKC0tfeWVVyRJKiws3LRpU0pKiq7rXTmRJgAAACSiXhj7KDyxpMvl2rZt28MPP0xER44cmTdv3tmzZ51OZzAY5M16crVPNEzz74qiqKpaV1c3Z86c8vJyXddLSkp27tzp8XiCwaCu67qud8lTCwAAAImqd8Y+SZJsNhvP0lxWVrZkyRJJkqqrqxcuXLht2zYe5CFyUg+s9vHpiSmXeY21gwcPzpkzp6qqiogeeeSRDRs28GPk5dewCAcAAADE1jtjH4UHeXDB7PHHH9+yZUtqaqrX633mmWeWLFni8/nsdjtdH+/EPC+xg1oXVPs4sBKRpmmqqmqatnr16t///veNjY0ul2v16tXLly/nFWP4MfLPLntuAQAAIBH18qzATaWBQGD06NEHDx4cNGgQER04cOCxxx579913iUhRFFH249Ia3SiodWq1T6Q3LuM5HI6jR48+9thjL7/8sqZp+fn5Bw8evP/++3kdDkQ9AAAAaL2kyA02m83v92dkZOzdu3fBggWKotTX1y9evLi0tLSuro6nPhGDfKlbq33ctivLssvlqq2tXbp06ZIlS6qrqyVJevjhhw8ePJibm4t1OAAAAKAdvmaaZnefQ6cLhUKiMKYoytGjRx966KGjR48SkcvlKiws/MUvfpGWlsbrfIhOcmJoRcRP655b2ib2vSJYh4+oqsqp9M0339yzZ09DQwMR9evXr7S0tLCwMKLIJ4YkAwAA9Bpc/nj11VdHjRpls9k+/fRTj8cjOmVBRyTFOABuyeU2XF3X+/fvf/DgwWeeeaa0tLS+vv611147evTo0KFDf/rTn2ZkZGiapuu6dWCH6GxnTXK85zZV+/gcuE+euF3sh2dgaWho2L9/f3l5eW1tLRE5HI65c+dOnTrV6XRqmiaW38C7HwAAANoqKap9EbgznyzLdXV1paWl69at83q9ROR0OgsLC2+99dacnByOdzzVi5hLha6vzInbb/iTAx8PGZFlORQKcf4zDEOMLDl79uxbb7114MCBxsZGwzAcDsfYsWNnzZqVlZXFW3ItsDufOAAAgM6Hal/nSd7Yx8UzWZarqqpWrFixfv16Dn8ulyszM7OwsPAHP/hBamoqj/Dl4MVdAMXIj9YTEZB3wnmRp2Wpra09ceLEu+++W1lZ6fP5iMjpdBYVFT322GN5eXl8F1EgRKsuAAD0eoh9nScZY5+maTyAg1MUd+arrq5+4YUXNm7cWFNTw5u5XK68vLycnJwf//jHLpeLF/zVdd2aAlvZsY/n4eN+e3x0n8934sSJkydPHjt2rLGxkYgkSUpNTR07duz48eNzcnIMwwiFQrz8htgDR8bue+YAAAA6HWJf50nG2Ce67lG40VbTNE51Xq/3jTfe2Lp166FDh7j2RkSqqvbp0ycvL8/j8Xz/+993OBxut5tzWHTjr7XznziKYRiBQKCxsfHjjz9ubGw8c+bMqVOnQqEQb2Cz2QYPHnz33XcPGzbM5XJZz1CMLxGZD296AADo3RD7Ok8yxj6yBDLrPHlGeLlewzCqqqp27dq1c+fO6urquro6cUdVVVNSUmw2W0pKSlpamtvt/uY3vynLss1mU1WVR9pyjtR1/dKlS16vt76+vq6uzu/3NzY2inXhiMjtdufm5t52220jRozIzs7mhCf6HUafJ97xAACQDBD7Ok+Sxr6WaJrGLaoieNXV1R06dOj06dPl5eXV1dVer7el1W/FmN+Wds7r6ubl5RUUFNx0001DhgzJyMjg/+J7WWfyAwAASE6IfZ0nKSZwaT2xaIcexv3tiGj+/Pl+v7+2tvbQoUOffPKJN8zn8zU2Nnq9Xm6E5YG6TqfT5XI5HA6Px+NyuVwu13e+852BAwdmZGS4XC4ekMtFQTG8g08AkzADAABAJ0Hsu05E46+YdYX/y+l0ut3u/Px83kbXdZ/Pp2ma1+tVVXX27Nk7duwYMmTIihUrNE1zOp12u93hcFgn+eO22lAoRJaZ/KxfX/BVBgAAADoJYl8k0VDLE7WIplsuBHIrMIW73zmdTlmW3W63oihOp5Nv55n2eAOegYXvJWZ+ET0IuTU5uqMhAAAAQNwh9l0nYno8kcO4AVcEQb7RuggHhfvniRutYU5VVevKvBTOfBFHAQAAAOg8iH2tIpJZKxtko2daif1PAAAAgM6G8AEAAACQFBD7AAAAAJICYh8AAABAUkDsAwAAAEgKiH0AAAAASQGxDwAAACApIPYBAAAAJAXEvjjgSfh4+mUx1TMAAABAj4LYFzdpaWnp6empqalkWboDAAAAoIdA7Iub2tra2tra+vr67j4RAAAAgGYg9sVZKBTq7lMAAAAAaAZiX9zout7dpwAAAADQIsS+OOCefDywg38CAAAA9DTIKJ0C4Q8AAAB6GqQTAAAAgKSA2AcAAACQFBD7AAAAAJICYh8AAABAUkDsAwAAAEgKiH0AAAAASQGxDwAAACApIPYBAAAAJAXEPgAAAICkgNgHAAAAkBQQ+wAAAACSAmIfAAAAQFJA7AMAAABICoh9AAAAAEkBsQ8AAAAgKSD2AQAAACQFxD4AAACApIDYBwAAAJAUEPsAAAAAkgJiHwAAAEBSQOwDAAAASAqIfQAAAABJAbEPAAAAICkg9gEAAAAkBcQ+AAAAgKSA2AcAAACQFBD7AAAAAJICYh8AAABAUkDsAwAAgP/Xrh2jNgyDYRhOjTA5QE7gITfMVTOEjDlEMELpYOo9rYqJv+cZPP8YgV7LIoLsAwCIIPsAACLIPgCACLIPACCC7AMAiCD7AAAiyD4AgAiyDwAgguwDAIgg+wAAIsg+AIAIsg8AIILsAwCIIPsAACLIPgCACLIPACCC7AMAiCD7AAAiyD4AgAiyDwAgguwDAIgg+wAAIsg+AIAIsg8AIILsAwCIIPsAACLIPgCACLIPACCC7AMAiFC2HmCf5nlurW09BQB8nlprKaXWuvUgOyT7/sU4jqV4twDwtmEY1id9SZMOlqW5HO89Ho/L5fJ8PrceCgA+1fF4vN/vh8OhtebvWUeyr4NlRS7P2+12vV63nggA9qDW6tivI9nXwbIip2k6n8+n06n9sFIB4C3r7jkMwzzPLk319fV6vbaeYQ+WzrM0AaAj22tf3mM3tdZa6/KZYoECwK+t+2lrbRzHrcfZD6d93aw3/Eop/vACwF+s16Xspx3JPgCACAoaACCC7AMAiCD7AAAiyD4AgAiyDwAgguwDAIgg+wAAIsg+AIAIsg8AIILsAwCIIPsAACLIPgCACLIPACCC7AMAiCD7AAAiyD4AgAiyDwAgguwDAIgg+wAAIsg+AIAIsg8AIILsAwCIIPsAACLIPgCACLIPACCC7AMAiCD7AAAiyD4AgAiyDwAgguwDAIgg+wAAIsg+AIAIsg8AIILsAwCIIPsAACLIPgCACLIPACCC7AMAiCD7AAAiyD4AgAjfp31le69FS4EAAAAASUVORK5CYII=)"
      ]
    },
    {
      "cell_type": "code",
      "execution_count": null,
      "metadata": {
        "id": "SMB1CXWBzVXc"
      },
      "outputs": [],
      "source": [
        "# Definir simbolos y funciones\n",
        "t, vi, L, R, C = symbols(\"t vi L R C\")\n",
        "C1,C2 = symbols(\"C1 C2\")\n",
        "v = Function(\"v\")(t)\n",
        "i = Function(\"i\")(t)\n",
        "didt=i.diff(t)\n",
        "dvdt=v.diff(t)"
      ]
    },
    {
      "cell_type": "code",
      "execution_count": null,
      "metadata": {
        "colab": {
          "base_uri": "https://localhost:8080/",
          "height": 53
        },
        "id": "A5iMGkVvbEI-",
        "outputId": "48bd1245-4a41-4d55-fea7-d4c4f4450aaf"
      },
      "outputs": [
        {
          "data": {
            "image/png": "[encoded data removed]",
            "text/latex": [
              "$\\displaystyle \\frac{d}{d t} i{\\left(t \\right)} = - \\frac{R i{\\left(t \\right)}}{L} + \\frac{vi}{L} - \\frac{v{\\left(t \\right)}}{L}$"
            ],
            "text/plain": [
              "d            R⋅i(t)   vi   v(t)\n",
              "──(i(t)) = - ────── + ── - ────\n",
              "dt             L      L     L  "
            ]
          },
          "execution_count": 96,
          "metadata": {},
          "output_type": "execute_result"
        }
      ],
      "source": [
        "# Primera expresión\n",
        "expr1 = Eq(didt, (1/L)*vi-(R/L)*i-(1/L)*v)\n",
        "expr1"
      ]
    },
    {
      "cell_type": "code",
      "execution_count": null,
      "metadata": {
        "colab": {
          "base_uri": "https://localhost:8080/",
          "height": 53
        },
        "id": "5kmFRgp-bEI-",
        "outputId": "a7d32e68-8513-42f6-ca06-55c1b5abacfa"
      },
      "outputs": [
        {
          "data": {
            "image/png": "[encoded data removed]",
            "text/latex": [
              "$\\displaystyle \\frac{d}{d t} v{\\left(t \\right)} = \\frac{i{\\left(t \\right)}}{C}$"
            ],
            "text/plain": [
              "d          i(t)\n",
              "──(v(t)) = ────\n",
              "dt          C  "
            ]
          },
          "execution_count": 97,
          "metadata": {},
          "output_type": "execute_result"
        }
      ],
      "source": [
        "# Segunda expresión\n",
        "expr2 = Eq(dvdt, (1/C)*i)\n",
        "expr2"
      ]
    },
    {
      "cell_type": "code",
      "execution_count": null,
      "metadata": {
        "colab": {
          "base_uri": "https://localhost:8080/",
          "height": 52
        },
        "id": "DJ2sEISwzVXe",
        "outputId": "765ea68e-3ba6-4408-9309-1b57e7efb8d3"
      },
      "outputs": [
        {
          "data": {
            "image/png": "[encoded data removed]",
            "text/latex": [
              "$\\displaystyle \\frac{d}{d t} i{\\left(t \\right)} = - i{\\left(t \\right)} - v{\\left(t \\right)} + 1$"
            ],
            "text/plain": [
              "d                          \n",
              "──(i(t)) = -i(t) - v(t) + 1\n",
              "dt                         "
            ]
          },
          "execution_count": 98,
          "metadata": {},
          "output_type": "execute_result"
        }
      ],
      "source": [
        "# Sustitución, suponiendo valores conocidos\n",
        "expr1=expr1.subs(L, 1).subs(R,1).subs(C,1).subs(vi,1)\n",
        "expr1"
      ]
    },
    {
      "cell_type": "code",
      "execution_count": null,
      "metadata": {
        "colab": {
          "base_uri": "https://localhost:8080/",
          "height": 52
        },
        "id": "bnmuv-4gzVXi",
        "outputId": "9dfa48ce-13be-496d-9f5d-4649c023079a"
      },
      "outputs": [
        {
          "data": {
            "image/png": "[encoded data removed]",
            "text/latex": [
              "$\\displaystyle \\frac{d}{d t} v{\\left(t \\right)} = i{\\left(t \\right)}$"
            ],
            "text/plain": [
              "d              \n",
              "──(v(t)) = i(t)\n",
              "dt             "
            ]
          },
          "execution_count": 99,
          "metadata": {},
          "output_type": "execute_result"
        }
      ],
      "source": [
        "# Sustitución, suponiendo valores conocidos\n",
        "expr2=expr2.subs(C,1)\n",
        "expr2"
      ]
    },
    {
      "cell_type": "code",
      "execution_count": null,
      "metadata": {
        "colab": {
          "base_uri": "https://localhost:8080/",
          "height": 68
        },
        "id": "gS_kf6wJzVXk",
        "outputId": "97bc0d53-4451-4a77-c5d3-f72ced07cd63",
        "scrolled": true
      },
      "outputs": [
        {
          "data": {
            "image/png": "[encoded data removed]",
            "text/latex": [
              "$\\displaystyle \\left[ i{\\left(t \\right)} = - \\left(\\frac{C_{1}}{2} + \\frac{\\sqrt{3} C_{2}}{2}\\right) e^{- \\frac{t}{2}} \\cos{\\left(\\frac{\\sqrt{3} t}{2} \\right)} - \\left(\\frac{\\sqrt{3} C_{1}}{2} - \\frac{C_{2}}{2}\\right) e^{- \\frac{t}{2}} \\sin{\\left(\\frac{\\sqrt{3} t}{2} \\right)}, \\  v{\\left(t \\right)} = C_{1} e^{- \\frac{t}{2}} \\cos{\\left(\\frac{\\sqrt{3} t}{2} \\right)} - C_{2} e^{- \\frac{t}{2}} \\sin{\\left(\\frac{\\sqrt{3} t}{2} \\right)} + \\sin^{2}{\\left(\\frac{\\sqrt{3} t}{2} \\right)} + \\cos^{2}{\\left(\\frac{\\sqrt{3} t}{2} \\right)}\\right]$"
            ],
            "text/plain": [
              "⎡                       -t                            -t                      \n",
              "⎢                       ───                           ───                     \n",
              "⎢         ⎛C₁   √3⋅C₂⎞   2     ⎛√3⋅t⎞   ⎛√3⋅C₁   C₂⎞   2     ⎛√3⋅t⎞           \n",
              "⎢i(t) = - ⎜── + ─────⎟⋅ℯ   ⋅cos⎜────⎟ - ⎜───── - ──⎟⋅ℯ   ⋅sin⎜────⎟, v(t) = C₁\n",
              "⎣         ⎝2      2  ⎠         ⎝ 2  ⎠   ⎝  2     2 ⎠         ⎝ 2  ⎠           \n",
              "\n",
              "  -t                  -t                                     ⎤\n",
              "  ───                 ───                                    ⎥\n",
              "   2     ⎛√3⋅t⎞        2     ⎛√3⋅t⎞      2⎛√3⋅t⎞      2⎛√3⋅t⎞⎥\n",
              "⋅ℯ   ⋅cos⎜────⎟ - C₂⋅ℯ   ⋅sin⎜────⎟ + sin ⎜────⎟ + cos ⎜────⎟⎥\n",
              "         ⎝ 2  ⎠              ⎝ 2  ⎠       ⎝ 2  ⎠       ⎝ 2  ⎠⎦"
            ]
          },
          "execution_count": 100,
          "metadata": {},
          "output_type": "execute_result"
        }
      ],
      "source": [
        "# Resolver usando dsolve. Se encontrará i(t) y v(t)\n",
        "s=dsolve([expr1,expr2])\n",
        "s"
      ]
    },
    {
      "cell_type": "code",
      "execution_count": null,
      "metadata": {
        "colab": {
          "base_uri": "https://localhost:8080/",
          "height": 73
        },
        "id": "3yTCPuP5zVXl",
        "outputId": "27f2db1d-4a64-4b40-8ffe-e8dd63bafe03"
      },
      "outputs": [
        {
          "name": "stdout",
          "output_type": "stream",
          "text": [
            "Eq(-0.5*C1 - 0.866025403784439*C2, 0.1)\n",
            "Eq(C1 + 1.0, 0.1)\n"
          ]
        },
        {
          "data": {
            "image/png": "[encoded data removed]",
            "text/latex": [
              "$\\displaystyle \\left\\{ C_{1} : -0.9, \\  C_{2} : 0.404145188432738\\right\\}$"
            ],
            "text/plain": [
              "{C₁: -0.9, C₂: 0.404145188432738}"
            ]
          },
          "execution_count": 101,
          "metadata": {},
          "output_type": "execute_result"
        }
      ],
      "source": [
        "# Sustituir para un i(0)=0.1 y v(0)=0.1\n",
        "eq1 = Eq(s[0].rhs.subs({t:0}).evalf(), 0.1) #i corriente\n",
        "print(eq1)\n",
        "eq2 = Eq(s[1].rhs.subs({t:0}).evalf(), 0.1) #v voltaje\n",
        "print(eq2)\n",
        "sol = solve([eq1,eq2], [C1,C2])\n",
        "sol"
      ]
    },
    {
      "cell_type": "code",
      "execution_count": null,
      "metadata": {
        "id": "2UqzbDyszVXr"
      },
      "outputs": [],
      "source": [
        "# Ecuación corriente\n",
        "e1 = lambdify(t,s[0].rhs.subs(sol),'numpy')\n",
        "# Ecuación voltaje\n",
        "e2 = lambdify(t,s[1].rhs.subs(sol),'numpy')"
      ]
    },
    {
      "cell_type": "code",
      "execution_count": null,
      "metadata": {
        "colab": {
          "base_uri": "https://localhost:8080/",
          "height": 295
        },
        "id": "RdhccyUmzVXs",
        "outputId": "ac02b4e9-6f20-4db8-e7c6-5fa5cb7decc1"
      },
      "outputs": [
        {
          "data": {
            "image/png": "[encoded data removed]",
            "text/plain": [
              "<Figure size 432x288 with 1 Axes>"
            ]
          },
          "metadata": {
            "needs_background": "light"
          },
          "output_type": "display_data"
        }
      ],
      "source": [
        "# Vector de valores en el tiempo\n",
        "t_vals = np.linspace(0,15,100)\n",
        "\n",
        "# Graficar\n",
        "plt.figure()\n",
        "plt.plot(t_vals, e1(t_vals))\n",
        "plt.xlabel('tiempo')\n",
        "plt.ylabel('i(t)')\n",
        "plt.grid(True)\n",
        "plt.title(\"Corriente en el tiempo\")\n",
        "plt.show()"
      ]
    },
    {
      "cell_type": "code",
      "execution_count": null,
      "metadata": {
        "colab": {
          "base_uri": "https://localhost:8080/",
          "height": 295
        },
        "id": "fn5Ugvz6zVXt",
        "outputId": "97529761-9376-4afb-e581-2b08d9c40960"
      },
      "outputs": [
        {
          "data": {
            "image/png": "[encoded data removed]",
            "text/plain": [
              "<Figure size 432x288 with 1 Axes>"
            ]
          },
          "metadata": {
            "needs_background": "light"
          },
          "output_type": "display_data"
        }
      ],
      "source": [
        "# Graficar\n",
        "plt.plot(t_vals, e2(t_vals))\n",
        "plt.xlabel('tiempo')\n",
        "plt.ylabel('v(t)')\n",
        "plt.grid(True)\n",
        "plt.title(\"Voltaje en el tiempo\")\n",
        "plt.show()"
      ]
    },
    {
      "cell_type": "markdown",
      "metadata": {
        "id": "Mu36wcI3zVX1"
      },
      "source": [
        "### Oscilador armónico amortiguado"
      ]
    },
    {
      "cell_type": "code",
      "execution_count": null,
      "metadata": {
        "colab": {
          "base_uri": "https://localhost:8080/",
          "height": 54
        },
        "id": "NQ58J6NSzVX2",
        "outputId": "1ce0d0ba-952c-43cb-c77a-dec558b2bb38"
      },
      "outputs": [
        {
          "data": {
            "image/png": "[encoded data removed]",
            "text/latex": [
              "$\\displaystyle \\omega_{0}^{2} x{\\left(t \\right)} + 2 \\omega_{0} \\xi \\frac{d}{d t} x{\\left(t \\right)} + \\frac{d^{2}}{d t^{2}} x{\\left(t \\right)}$"
            ],
            "text/plain": [
              "                                           2      \n",
              "       2                      d           d       \n",
              "\\omega₀ ⋅x(t) + 2⋅\\omega₀⋅\\xi⋅──(x(t)) + ───(x(t))\n",
              "                              dt           2      \n",
              "                                         dt       "
            ]
          },
          "execution_count": 110,
          "metadata": {},
          "output_type": "execute_result"
        }
      ],
      "source": [
        "# Crear la ecuación del oscilador\n",
        "t, w = symbols(\"t \\\\omega_0\", positive=True)\n",
        "d = symbols(\"\\\\xi\", real=True)\n",
        "x = Function(\"x\", real=True)\n",
        "eq = w**2*x(t) + 2*w*d*x(t).diff(t) + x(t).diff(t,t)\n",
        "eq"
      ]
    },
    {
      "cell_type": "markdown",
      "metadata": {
        "id": "rOZtntYKzVX4"
      },
      "source": [
        "Evaluar y resolver para cuando $\\omega=0$ y $\\xi=1/10$"
      ]
    },
    {
      "cell_type": "code",
      "execution_count": null,
      "metadata": {
        "colab": {
          "base_uri": "https://localhost:8080/",
          "height": 68
        },
        "id": "NY6RjqPTzVX4",
        "outputId": "807475e1-b9c8-4f73-bcdc-b57dc3b2db6a"
      },
      "outputs": [
        {
          "data": {
            "image/png": "[encoded data removed]",
            "text/latex": [
              "$\\displaystyle x{\\left(t \\right)} = \\left(C_{1} \\sin{\\left(\\frac{3 \\sqrt{11} t}{10} \\right)} + C_{2} \\cos{\\left(\\frac{3 \\sqrt{11} t}{10} \\right)}\\right) e^{- \\frac{t}{10}}$"
            ],
            "text/plain": [
              "                                            -t \n",
              "                                            ───\n",
              "       ⎛      ⎛3⋅√11⋅t⎞         ⎛3⋅√11⋅t⎞⎞   10\n",
              "x(t) = ⎜C₁⋅sin⎜───────⎟ + C₂⋅cos⎜───────⎟⎟⋅ℯ   \n",
              "       ⎝      ⎝   10  ⎠         ⎝   10  ⎠⎠     "
            ]
          },
          "execution_count": 111,
          "metadata": {},
          "output_type": "execute_result"
        }
      ],
      "source": [
        "# Evaluar para las condiciones iniciales\n",
        "eq = eq.subs(w, 1).subs(d, Rational(1,10))\n",
        "\n",
        "# Resolver la ecuación diferencial\n",
        "sol = dsolve(eq,x(t))\n",
        "sol"
      ]
    },
    {
      "cell_type": "code",
      "execution_count": null,
      "metadata": {
        "colab": {
          "base_uri": "https://localhost:8080/",
          "height": 133
        },
        "id": "nDwsZTrezVX6",
        "outputId": "d4690eed-7dec-4e21-8ba9-d39f39add639"
      },
      "outputs": [
        {
          "name": "stdout",
          "output_type": "stream",
          "text": [
            "const = {C1: sqrt(11)/33, C2: 1}\n",
            "Aplicando las condiciones iniciales \n",
            "x(t) = \n"
          ]
        },
        {
          "data": {
            "image/png": "[encoded data removed]",
            "text/latex": [
              "$\\displaystyle \\left(\\frac{\\sqrt{11} \\sin{\\left(\\frac{3 \\sqrt{11} t}{10} \\right)}}{33} + \\cos{\\left(\\frac{3 \\sqrt{11} t}{10} \\right)}\\right) e^{- \\frac{t}{10}}$"
            ],
            "text/plain": [
              "⎛       ⎛3⋅√11⋅t⎞               ⎞  -t \n",
              "⎜√11⋅sin⎜───────⎟               ⎟  ───\n",
              "⎜       ⎝   10  ⎠      ⎛3⋅√11⋅t⎞⎟   10\n",
              "⎜──────────────── + cos⎜───────⎟⎟⋅ℯ   \n",
              "⎝       33             ⎝   10  ⎠⎠     "
            ]
          },
          "execution_count": 112,
          "metadata": {},
          "output_type": "execute_result"
        }
      ],
      "source": [
        "# Usando estas condiciones iniciales x(0) = 1, y para dx(0)/dt = 0\n",
        "C1, C2 = symbols(\"C1, C2\")\n",
        "const = solve([sol.rhs.subs(t,0) - 1, sol.rhs.diff(t).subs(t, 0)], [C1,C2])\n",
        "print (\"const =\", const)\n",
        "\n",
        "# Reemplazar C1 y C2 en la solución\n",
        "initvalue_solution = sol.rhs.subs(C1, const[C1]).subs(C2, const[C2])\n",
        "print (\"Aplicando las condiciones iniciales \\nx(t) = \")\n",
        "initvalue_solution"
      ]
    },
    {
      "cell_type": "code",
      "execution_count": null,
      "metadata": {
        "colab": {
          "base_uri": "https://localhost:8080/",
          "height": 279
        },
        "id": "Jzl8tw58zVX-",
        "outputId": "e5ff7de0-095c-459b-889e-020a8d033b0c"
      },
      "outputs": [
        {
          "data": {
            "image/png": "[encoded data removed]",
            "text/plain": [
              "<Figure size 432x288 with 1 Axes>"
            ]
          },
          "metadata": {
            "needs_background": "light"
          },
          "output_type": "display_data"
        }
      ],
      "source": [
        "# Graficar\n",
        "T = np.linspace(0, 10)\n",
        "F = lambdify(t, initvalue_solution, \"numpy\")\n",
        "dFdT = lambdify(t, initvalue_solution.diff(), \"numpy\")\n",
        "plt.plot(T, F(T))\n",
        "plt.plot(T, dFdT(T))\n",
        "plt.legend((\"f(t)\", \"df(t)/dt\"))\n",
        "plt.xlabel(\"t\")\n",
        "plt.show()"
      ]
    },
    {
      "cell_type": "markdown",
      "metadata": {
        "id": "Y1IJiYMo1xSG"
      },
      "source": [
        "### Gráfico en 3D"
      ]
    },
    {
      "cell_type": "code",
      "execution_count": null,
      "metadata": {
        "id": "KWh6OQZZ2YAT"
      },
      "outputs": [],
      "source": [
        "from sympy import symbols\n",
        "from sympy.plotting import plot3d\n",
        "x, y = symbols('x y')"
      ]
    },
    {
      "cell_type": "code",
      "execution_count": null,
      "metadata": {
        "colab": {
          "base_uri": "https://localhost:8080/",
          "height": 674
        },
        "id": "VMbBxq7Z1w2Y",
        "outputId": "adebb71e-aecc-45ce-ca05-0b42cdaaee54"
      },
      "outputs": [
        {
          "data": {
            "image/png": "[encoded data removed]",
            "text/plain": [
              "<Figure size 1152x648 with 1 Axes>"
            ]
          },
          "metadata": {},
          "output_type": "display_data"
        },
        {
          "data": {
            "text/plain": [
              "<sympy.plotting.plot.Plot at 0x7f0ced2dd760>"
            ]
          },
          "execution_count": 37,
          "metadata": {},
          "output_type": "execute_result"
        }
      ],
      "source": [
        "plot3d(x**2+y**2, (x, -5, 5), (y, -5, 5))"
      ]
    },
    {
      "cell_type": "markdown",
      "metadata": {
        "id": "28oLj_MTxIkv"
      },
      "source": [
        "### Calculo del mínimo en una variable de forma analítica"
      ]
    },
    {
      "cell_type": "code",
      "execution_count": null,
      "metadata": {
        "id": "dyl312OUt-a8"
      },
      "outputs": [],
      "source": [
        "x,y =symbols(\"x,y\")\n",
        "y=x**2+5*x+6\n",
        "fp = lambdify(x, y,   \"numpy\")"
      ]
    },
    {
      "cell_type": "code",
      "execution_count": 1,
      "metadata": {
        "colab": {
          "base_uri": "https://localhost:8080/",
          "height": 144
        },
        "id": "tKZzhCTIuGi1",
        "outputId": "bc864e56-05e1-4505-f26d-882975751b7f"
      },
      "outputs": [
        {
          "output_type": "error",
          "ename": "NameError",
          "evalue": "name 'y' is not defined",
          "traceback": [
            "\u001b[0;31m---------------------------------------------------------------------------\u001b[0m",
            "\u001b[0;31mNameError\u001b[0m                                 Traceback (most recent call last)",
            "\u001b[0;32m/tmp/ipython-input-3563912222.py\u001b[0m in \u001b[0;36m<cell line: 0>\u001b[0;34m()\u001b[0m\n\u001b[0;32m----> 1\u001b[0;31m \u001b[0my\u001b[0m\u001b[0;34m\u001b[0m\u001b[0;34m\u001b[0m\u001b[0m\n\u001b[0m",
            "\u001b[0;31mNameError\u001b[0m: name 'y' is not defined"
          ]
        }
      ],
      "source": [
        "y"
      ]
    },
    {
      "cell_type": "code",
      "execution_count": 2,
      "metadata": {
        "id": "X4cCd9oPuH57",
        "colab": {
          "base_uri": "https://localhost:8080/",
          "height": 144
        },
        "outputId": "9322d86f-af66-4ba3-e1ff-ee139ced002d"
      },
      "outputs": [
        {
          "output_type": "error",
          "ename": "NameError",
          "evalue": "name 'diff' is not defined",
          "traceback": [
            "\u001b[0;31m---------------------------------------------------------------------------\u001b[0m",
            "\u001b[0;31mNameError\u001b[0m                                 Traceback (most recent call last)",
            "\u001b[0;32m/tmp/ipython-input-4244488367.py\u001b[0m in \u001b[0;36m<cell line: 0>\u001b[0;34m()\u001b[0m\n\u001b[0;32m----> 1\u001b[0;31m \u001b[0mdf\u001b[0m\u001b[0;34m=\u001b[0m\u001b[0mdiff\u001b[0m\u001b[0;34m(\u001b[0m\u001b[0my\u001b[0m\u001b[0;34m)\u001b[0m\u001b[0;34m\u001b[0m\u001b[0;34m\u001b[0m\u001b[0m\n\u001b[0m",
            "\u001b[0;31mNameError\u001b[0m: name 'diff' is not defined"
          ]
        }
      ],
      "source": [
        "df=diff(y)"
      ]
    },
    {
      "cell_type": "code",
      "execution_count": null,
      "metadata": {
        "colab": {
          "base_uri": "https://localhost:8080/",
          "height": 38
        },
        "id": "pDIsUBf5uIVO",
        "outputId": "5a8824e9-66cf-4483-f88e-8e9169335b8d"
      },
      "outputs": [
        {
          "data": {
            "image/png": "[encoded data removed]",
            "text/latex": [
              "$\\displaystyle 2 x + 5$"
            ],
            "text/plain": [
              "2⋅x + 5"
            ]
          },
          "execution_count": 211,
          "metadata": {},
          "output_type": "execute_result"
        }
      ],
      "source": [
        "df"
      ]
    },
    {
      "cell_type": "code",
      "execution_count": null,
      "metadata": {
        "id": "FY8BGMXvuMq_"
      },
      "outputs": [],
      "source": [
        "pc=solve(df)"
      ]
    },
    {
      "cell_type": "code",
      "execution_count": null,
      "metadata": {
        "colab": {
          "base_uri": "https://localhost:8080/",
          "height": 37
        },
        "id": "DA80Ji_iuO-_",
        "outputId": "56395c22-909b-4baf-cc59-6082936a7524"
      },
      "outputs": [
        {
          "data": {
            "image/png": "[encoded data removed]",
            "text/latex": [
              "$\\displaystyle -2.5$"
            ],
            "text/plain": [
              "-2.50000000000000"
            ]
          },
          "execution_count": 213,
          "metadata": {},
          "output_type": "execute_result"
        }
      ],
      "source": [
        "N(pc[0])"
      ]
    },
    {
      "cell_type": "code",
      "execution_count": null,
      "metadata": {
        "id": "qa2XOS4puPl_"
      },
      "outputs": [],
      "source": [
        "d2f=diff(df)"
      ]
    },
    {
      "cell_type": "code",
      "execution_count": null,
      "metadata": {
        "colab": {
          "base_uri": "https://localhost:8080/",
          "height": 37
        },
        "id": "3AjlFZRnuyBu",
        "outputId": "28c71335-3fb2-4833-f980-56f4b3d7656b"
      },
      "outputs": [
        {
          "data": {
            "image/png": "[encoded data removed]",
            "text/latex": [
              "$\\displaystyle 2$"
            ],
            "text/plain": [
              "2"
            ]
          },
          "execution_count": 215,
          "metadata": {},
          "output_type": "execute_result"
        }
      ],
      "source": [
        "d2f"
      ]
    },
    {
      "cell_type": "code",
      "execution_count": null,
      "metadata": {
        "id": "c-6slUDOuy94"
      },
      "outputs": [],
      "source": [
        "cy=y.subs({x:N(pc[0])})"
      ]
    },
    {
      "cell_type": "code",
      "execution_count": null,
      "metadata": {
        "colab": {
          "base_uri": "https://localhost:8080/",
          "height": 37
        },
        "id": "q9o8SHUuu961",
        "outputId": "55bd5542-2314-42ea-d3de-d68c761e41c2"
      },
      "outputs": [
        {
          "data": {
            "image/png": "[encoded data removed]",
            "text/latex": [
              "$\\displaystyle -0.25$"
            ],
            "text/plain": [
              "-0.250000000000000"
            ]
          },
          "execution_count": 217,
          "metadata": {},
          "output_type": "execute_result"
        }
      ],
      "source": [
        "cy"
      ]
    },
    {
      "cell_type": "code",
      "execution_count": null,
      "metadata": {
        "id": "KpoJN6YHvLVE"
      },
      "outputs": [],
      "source": [
        "z=np.linspace(-5,2,100)"
      ]
    },
    {
      "cell_type": "code",
      "execution_count": null,
      "metadata": {
        "colab": {
          "base_uri": "https://localhost:8080/",
          "height": 283
        },
        "id": "w94AJ39RvRrr",
        "outputId": "bf1a8852-efa7-418e-c895-058d2166c5c8"
      },
      "outputs": [
        {
          "data": {
            "text/plain": [
              "Text(-5/2, -1/4, 'minimo')"
            ]
          },
          "execution_count": 219,
          "metadata": {},
          "output_type": "execute_result"
        },
        {
          "data": {
            "image/png": "[encoded data removed]",
            "text/plain": [
              "<Figure size 432x288 with 1 Axes>"
            ]
          },
          "metadata": {
            "needs_background": "light"
          },
          "output_type": "display_data"
        }
      ],
      "source": [
        "plt.plot(z,fp(z))\n",
        "plt.scatter(pc[0],fp(pc[0]))\n",
        "plt.text(pc[0],fp(pc[0]),'minimo')"
      ]
    },
    {
      "cell_type": "code",
      "source": [
        "import numpy as np\n",
        "import matplotlib.pyplot as plt\n",
        "from sympy import symbols, diff, solve, lambdify, N\n",
        "\n",
        "x,y = symbols(\"x,y\")\n",
        "y=x**3-x\n",
        "fp = lambdify(x, y,   \"numpy\")\n",
        "\n",
        "df=diff(y)\n",
        "pc=solve(df)\n",
        "d2f=diff(df)\n",
        "cy=y.subs({x:N(pc[0])})\n",
        "\n",
        "z=np.linspace(-5,2,100)\n",
        "\n",
        "plt.plot(z,fp(z))\n",
        "plt.scatter(pc[0],fp(pc[0]))\n",
        "plt.text(pc[0],fp(pc[0]),'minimo')"
      ],
      "metadata": {
        "id": "o9U2-f2EBpyo"
      },
      "execution_count": 6,
      "outputs": []
    },
    {
      "cell_type": "code",
      "source": [],
      "metadata": {
        "id": "y2DlV119CmOY"
      },
      "execution_count": null,
      "outputs": []
    },
    {
      "cell_type": "code",
      "source": [],
      "metadata": {
        "id": "h1t9CH0nCXxn"
      },
      "execution_count": null,
      "outputs": []
    },
    {
      "cell_type": "markdown",
      "metadata": {
        "id": "F4_AJ369lixQ"
      },
      "source": [
        "## Graficas dinámicas"
      ]
    },
    {
      "cell_type": "code",
      "execution_count": null,
      "metadata": {
        "id": "eR3rRJxRUYp3"
      },
      "outputs": [],
      "source": [
        "# Librerias necesarias para realizar el gráfico\n",
        "import numpy as np\n",
        "import matplotlib.pylab as plt\n",
        "from matplotlib import animation, rc\n",
        "from IPython.display import HTML;\n",
        "rc('animation', html='html5');"
      ]
    },
    {
      "cell_type": "code",
      "execution_count": null,
      "metadata": {
        "colab": {
          "base_uri": "https://localhost:8080/",
          "height": 455
        },
        "id": "c8JSO3Z6UOXw",
        "outputId": "fb8a2454-0337-437f-e6fa-c90e6bc5bdea"
      },
      "outputs": [
        {
          "data": {
            "image/png": "[encoded data removed]",
            "text/plain": [
              "<Figure size 640x480 with 1 Axes>"
            ]
          },
          "metadata": {},
          "output_type": "display_data"
        }
      ],
      "source": [
        "# Plantilla sobre la cual se realiza el gráfico\n",
        "x = np.linspace(0, 2 * np.pi, 100)\n",
        "y = np.sin(x)\n",
        "\n",
        "fig, ax = plt.subplots()\n",
        "ax.set_xlabel('$X$')\n",
        "ax.set_xlim(0, 2 * np.pi)\n",
        "ax.set_ylim(-1.5, 1.5)\n",
        "ax.grid(True)\n",
        "plt.plot([0,2*np.pi], [0, 0], '--', color='green')\n",
        "plt.plot(x,y)\n",
        "\n",
        "# Se definen los atributos que debe tener la linea o en este caso el punto que se va a pintar en cada iteracion\n",
        "linea, = ax.plot([],[],'o',color = 'r', label = 'Curva sin(x)')"
      ]
    },
    {
      "cell_type": "code",
      "execution_count": null,
      "metadata": {
        "id": "q8fd602jg-pw"
      },
      "outputs": [],
      "source": [
        "# Realizamos una función que grafique el punto especifico uno a uno\n",
        "\n",
        "frames = 100;\n",
        "def graficar(i):\n",
        "\n",
        "  x = np.linspace(0, 2 * np.pi, 100)\n",
        "  y = np.sin(x)\n",
        "\n",
        "  linea.set_data(x[i],y[i])\n",
        "  return (linea,)"
      ]
    },
    {
      "cell_type": "code",
      "execution_count": null,
      "metadata": {
        "colab": {
          "base_uri": "https://localhost:8080/",
          "height": 537
        },
        "id": "JQeggku5hq5d",
        "outputId": "3b482adb-99f8-4f84-e616-73761a2ed0c1"
      },
      "outputs": [
        {
          "name": "stderr",
          "output_type": "stream",
          "text": [
            "<ipython-input-56-d6bd03730612>:7: MatplotlibDeprecationWarning: Setting data with a non sequence type is deprecated since 3.7 and will be remove two minor releases later\n",
            "  linea.set_data(x[i],y[i])\n"
          ]
        },
        {
          "data": {
            "text/html": [
              "<video width=\"640\" height=\"480\" controls autoplay loop>\n",
              "  <source type=\"video/mp4\" src=\"data:video/mp4;base64,AAAAIGZ0eXBNNFYgAAACAE00ViBpc29taXNvMmF2YzEAAAAIZnJlZQAAW55tZGF0AAACrgYF//+q\n",
              "3EXpvebZSLeWLNgg2SPu73gyNjQgLSBjb3JlIDE2MyByMzA2MCA1ZGI2YWE2IC0gSC4yNjQvTVBF\n",
              "Ry00IEFWQyBjb2RlYyAtIENvcHlsZWZ0IDIwMDMtMjAyMSAtIGh0dHA6Ly93d3cudmlkZW9sYW4u\n",
              "b3JnL3gyNjQuaHRtbCAtIG9wdGlvbnM6IGNhYmFjPTEgcmVmPTMgZGVibG9jaz0xOjA6MCBhbmFs\n",
              "eXNlPTB4MzoweDExMyBtZT1oZXggc3VibWU9NyBwc3k9MSBwc3lfcmQ9MS4wMDowLjAwIG1peGVk\n",
              "X3JlZj0xIG1lX3JhbmdlPTE2IGNocm9tYV9tZT0xIHRyZWxsaXM9MSA4eDhkY3Q9MSBjcW09MCBk\n",
              "ZWFkem9uZT0yMSwxMSBmYXN0X3Bza2lwPTEgY2hyb21hX3FwX29mZnNldD0tMiB0aHJlYWRzPTMg\n",
              "bG9va2FoZWFkX3RocmVhZHM9MSBzbGljZWRfdGhyZWFkcz0wIG5yPTAgZGVjaW1hdGU9MSBpbnRl\n",
              "cmxhY2VkPTAgYmx1cmF5X2NvbXBhdD0wIGNvbnN0cmFpbmVkX2ludHJhPTAgYmZyYW1lcz0zIGJf\n",
              "cHlyYW1pZD0yIGJfYWRhcHQ9MSBiX2JpYXM9MCBkaXJlY3Q9MSB3ZWlnaHRiPTEgb3Blbl9nb3A9\n",
              "MCB3ZWlnaHRwPTIga2V5aW50PTI1MCBrZXlpbnRfbWluPTEwIHNjZW5lY3V0PTQwIGludHJhX3Jl\n",
              "ZnJlc2g9MCByY19sb29rYWhlYWQ9NDAgcmM9Y3JmIG1idHJlZT0xIGNyZj0yMy4wIHFjb21wPTAu\n",
              "NjAgcXBtaW49MCBxcG1heD02OSBxcHN0ZXA9NCBpcF9yYXRpbz0xLjQwIGFxPTE6MS4wMACAAAAo\n",
              "SGWIhAAQ//73gb8yy18iuslx+ed9LKzPPOQ8cl2JrrjQAAADAAADAAA/yP425VR62BLgAAAE7ADh\n",
              "h6XlwX4fswCcmVOkkGDhzD/BeanJyCZwcaOq6BVmX9s/o31R08M1ZoYagvadpHUSowP/wMY5puXn\n",
              "2kB+40GVDRLOFtfmK7ULBWp2CwnfwAk84OL2HmCmTJiv/BX5ghIKznRZxS4Zuo4eDbQsnpmnhebq\n",
              "SzXAj2rTJnPkmVmdIDC67YdyhN4dppHAwW7W5PA8BIIgb1h/82Qr/LNtlXQjuOMJg1xAxyh/F6it\n",
              "Ba4vQtD1aZxqjWjqZH7E/oIWyU2RcLYGpq/HVMAhUjJhvGj2O0957G5S8a7wfwx//5gjvMuKThQ9\n",
              "Ep3tURq1tZJZvEccBrVm1mYUGp0avnGWwu5CqPRSFD153fLliN0MmPcttaGqe3W5it6hGFv7Y/9z\n",
              "iSJ8x/Gj5rjg4WlQw33lvZtkTz3k/klf+HyNVoEQCuB43GqPjzgdUhZMM4S2woun/CWCuFopVz7F\n",
              "KeGZlL5E6xfOmaBwwr6j9j7nDlRt3L97GIwWUQfCucRFZlpDHfxuY3BQU3t1DzcRe0rF6AA7YAV6\n",
              "ABJ8S/brgBNvz//XDVAT2NOxzn5rFLWymRmRaOjs1Ip6LJHvrBqIFYlKPKJkN6Q9R54blW85whXV\n",
              "u3XBdkmuCGgXS2yaKOuY2fvak/wIicKoPL4QlBAj5GjvHP/YwR1sJrs+BoTa5DqCXFc/q2waPn33\n",
              "G0CdB0boX15ddVNSEGI/mG+fr+IFmoZozm9UWH3U25zGJiW32Cqx0apND2aXa6RNFzUXNaTUu40t\n",
              "RfY+VQbiq2ndZicmdxP1JH8J7H4kvZNsTrW2yRsJywi+JjTj7M6EeIqrxv8SG89BsqRtQArvAWPS\n",
              "LeHFO/IcfwncMCDQXnyWSJ6uNXRKY/ETSG50VT6TGygQ/XM1XonES6pes25F4D9ymiWwNfNFUNYL\n",
              "99+NrMpzykvIRpYD/vNktiemdsH1n2JfVcpydXx9uPZLHHCtBZ0as04s0dj+jLvv5V46r+9JD3mI\n",
              "C3g+u2n0ELzev1HErJqn2gFtBZjiA2bPEDLwyWV9af+WhSEWkqWWAoc8DDu82/mcFiN0YXxVz01j\n",
              "wCoKm9AbXSgtENKcfQRiwZ1wcBWlch5H17ddRx/hrhmfyG4RdwUBTJUXuJgAHKub84Uy3scuAuJh\n",
              "oYF+Yef/X9buXg/0x2rJ7o6gHo4ppUDm5YjrIWvkXuNZjZ+7A+gDhFZTshLlGcyEEjNqVIry3liR\n",
              "wfozYpdgaxyp7aBEUf7HwpHT2AHp6LtwDDJPGxLa8CVdk97m7gbAEKlmsqllOa3+8ZvS9dK0qHS6\n",
              "TIJe68zefv3MiiQ3L3WnPrAgrps2X0lCWb41fQinCg7W4vdEncYNMJrR3AZWfo4CxBjdMFGNEOzY\n",
              "ZYaY0PLiW5dfXLT3RJqtLbt9Bxuciv+gcW/qQ29thoxeZzJV96m6wJyTNoMVobaKdBqcD6zkJI0t\n",
              "XGtZAfJwJh09XztDoxwdiWjvlJN4guj6o8ZrD0Mflu9hSP0fdb+HsupiBgNx1uhSk8k2hYqyGA4Y\n",
              "D9nI6bnmMdtjWJ31+uujxa0IgENFd3SEdS1WORz7308mQgSnak6GZXh8wyb/ZQo0Yu8PuRG05HZg\n",
              "w/Xn3Xwo1N1z9gJpVRl6Fu8Kgrh8xmekkROVwBv7j9HbYyIGX8WiCHBC3PaqvQz0BIoJG6yqJtKJ\n",
              "N/N+pNTXDFgYBPxglwp9/SCgjMuJTWfjZCAs9rQqbX365e/yeYVaaC+gpN9JucEPX81m3S3thCnd\n",
              "SJe5uFFT7U771uPq7X7Q1ZozhArN0NFkMtUgEWg0wzldRUUYE4bRuIdxGMdvKwD7kY/Z9A5vcysI\n",
              "dEF6sAAe+HzJQuecRqWPX8DRWoMpcZawZlkpu6UZL+jrc07G6AjLOJ7WISkg8d8PamTLzcb+vKVw\n",
              "Z1grEbwVYIhjBoLxV/I7oegce5HuS4AxkXai7MBzg3spBAgq+D4s+3VXH5qoM3SsN6XZ9/WaNPCa\n",
              "B+WJ7odowK1Ih2e2UN334+7PBbSr6T0FRL731/qE7QoN1SPXku2PlJHeZ8BVja2L+6wlDFLGBfBm\n",
              "gYv0Zh39TPqCXFj7nTQN7Sf/Z4rRd+YCxJeenfSwLQWnRcz8+iuyxe6j+eIn22gyonGph9bZZqsZ\n",
              "C+0lbmcLGxzoC5DIU6uy1MJfv65N72su7GPR43RxfIwC2lSjFOna9WIWyjAWexvEVh+t4OxH32fx\n",
              "klYUGp37EeRB5DFvoMTGH8ub0gAe13LLR1vSp45KhCmP4/vqWH75jXh9XHN9bF2wv/ZHu09tjjcn\n",
              "PDYQUtItAMpz89fVYwX1v7cIzFo6TD4maJWcT22HUOLaJHKkow53X8qEgTP7R8LvqxuWS/SZ8to/\n",
              "Tn1LlQ/FXmZAB+AEyMAyNWcCm02dhWsQ3emN1HH/MTnVaocNLB7vmmWdi4HDHq63zxbTX09quK9Z\n",
              "FtO8z0NawneYNxnqJyJeA4y3kMKu+oDGveUGi4I5j3viy0zytpp8w/jiljOnMqhEkfF2rlA/uR/l\n",
              "A/cjUCV6SBdH9Dj8iok9ECvLF7qi1CUC2ipb1uzDq6qzgCBL47z7E4kwYl3QSh9Bo5Ihz3FVy0qu\n",
              "XMY10kvbZ6qWaTWJfVEz+hzjvNEQov3kEtu5dUfD1YvWwFtG+D0Nx1y4uX0jadomGZNkb1vF+wO9\n",
              "q3ymIVATHd/SnJxNSsOiuYTaQKP2T7RuH5t/zpEhTVDVy3n0/XneoyU9dQcUwppBL2VBeA0uA1T8\n",
              "zqLUApSU8iy6DVP31d9lwkUENH+rQWCNOBnmpJIkmRDOVtPowWJIvWgrcFskrTldBgLJ3V8CmZrJ\n",
              "xcAdos8FwCww6o1cknw1sJ563YqMtmTq1MhAP7aU5MvpGyjrFQHsLcKPGszwSgYWYGd8l89RKUqE\n",
              "kBVD6HoyUqgx0vMejzI/+C3qdMLDO/1g0A93Vy+T1c2PRIYqsXrgNNooX3SM0WaO9GMSO8aXDfHv\n",
              "9LzFEqVRwwEijZgS7kDyuA3AILfviMx2CKvAwyj7VNVrVCLfkuy2Dug6Xr5Pdw+h/xjiH4kVaUHB\n",
              "9Ay1fqDQRmcy7CJ4gGmBQCcSVkoGtxlmUrn9dAn/eI37qQ1ddBbFokE7rY058P1BQOzvi1uWtwqm\n",
              "xV6dbWCKRADbCWgn4sXzdAkeRewXjVtfFRnrb51moULY4pQbhmv//ykYVVInwv3q0xg0DCsn74e/\n",
              "7IAZEuNZVSw6oXluEfHjnMT1Lz/SfqDzJ9TZMkfH9f88cwuY8Spo/ZSAPW2+fIwrNOHQHxn7sP/t\n",
              "eVlzkc98/r1l6uA5OywffhgQPSlRKgAAM18933bGS2Ij87J2hZi74v3WgVdLCrs6jrPRP2dKwddb\n",
              "cqJ4nNEE4AHJBV1NtrcligAS+yLUVIbMiLwRi2OEQZA1bIdmp8MxPrebidHj4d6uGhEq6mdxkQvZ\n",
              "6EjpfyxhCr2ffIgYKAT+Dc6sPCi9A5Ye9wGcP76LmcL8k3UC8V/dtqkn56qnxunexD1og4Q0rOAn\n",
              "qy38LqkPOiP4JgrbEcoxmZPKPndtBslp+rBd5ACJKCUPCclSuu5kSNIh/Iom9oztdsMyFXpoFivO\n",
              "aeqoR9bNU9bqYZBmDAABb5ZKcvSTYeWs63vCEtseYEz+LbAyDE/WZchH/0ZizOnWzRgCbQ1izeY3\n",
              "0rja1J+lv1sI6TXw82sdxvpr4tzUTfw9IFLWjhWHewXp8EQlmX6Z2SROE+q3cR65kF3VNgcYowMr\n",
              "rc9gAenu8j5QbDgjMpPtvSUiNwnfoE2fCX2pAcMzMDgDr9AUcjSXnu6feCB3KMM9zFUDoy9gZPg3\n",
              "/00xsx2EdQPRRNAIMsI4iHTUv+80AYEo75bcZ6tzNRyc5LzMTPy+TDy3CQSAiHrRrFmJn6ppPQK9\n",
              "cSqnABmmz25ZoaDWjxU7UPEQJnbh9CTzrlEqu28lm8God3tyOB4ukHS7NUHAJ8zpi2YflQyVWYu4\n",
              "a23eXtqSfGu8LVk+R50DT/BuOnI+BdAyNcFWPU81uD5rKOKjgc/bsic6dmhonsaAM/KbQIQJCbhk\n",
              "C7N9Seu7USraE1xQ2Wf91hCLGevgFVRljLmF1eeE0MB3SL9XZenjc9SNCruRfrIL0yAU3RTzBXwZ\n",
              "ouAPnNqFbeLD+GjL0JRw2lUWQXi/xQplAiZxWEJT0xR46w7yJsDmDIM/LhA3sRbwBBvMda21eZWE\n",
              "C4UfzuQVMSCMH83s7XbkwZOeFV12gqf/M9mfhcsQCNXQYnM7wtDMWCFLscjtuZG9MQEY6HQQuL7B\n",
              "PHsbqEpcB77ZRzOtoh2ULN408PfaikwKI+c96c3fLorqcCo5Y4Nh5RgdOr0+y7GsbXDNdbwsTilt\n",
              "Zhu95IoYdq+QsncEh8NhiVTWnNtKeklpgI1WQvDSTmZvevWW8vRIH28D2n4coGE84l1VIB/8ic+7\n",
              "NO7KKOv7WwWqJuB7xt/p19Jyy4MvSvX0h5gKwNb6kLsGDXStkuLny5QpNZX6829oAjvVfGluj8zC\n",
              "NzHbhQ0G+XeFKkmvNg4VpWfk2OYx/U7DyHSiYzESVsnWbNwcgPjfc4WxgPv8O0cL5J1YDFmnF3cL\n",
              "M8YKv18GBfIXfAmzjNVrMDmiZJs3jfWJY3O5s0jd+si0k39UolTL/x/2TyIDIyW03enicoJ9wYdP\n",
              "3T2q1cwjNWAAAOulqQxFNpfgdl9ykRW6+uoIybou3Vj0kdZQVEnqgDC/CmcBIBve+NUvqSJ/bx27\n",
              "cUJLazgfuzlMYUjGsdqJYj8BUtAy2fQmEH7xj1R8gajFmXKgFgomafe3//tkX7Qky5C0HD//loqw\n",
              "OfNkn2J/17lbZ3yvlkVeF71BzrIBgzHkwqbFlzQ8pefFh9ZqZ7XKdBiAOzeIqRkjzifCa/2S7GXL\n",
              "lQh1tudYd7Q98u3Ie3isxn0aECNNbgx31yjqCkDrj78ADDGZ/QGA6UmXlTChlGOEVBwJjRBdOGBe\n",
              "OPCnu2m8oTFb0bCkicEcngKQA10/1gs4H6Zn1bKGvw0PIszgibyC1ewh5KPv2/BCVWgyvQbXlTVr\n",
              "CW9xeEAePAO0RQ7jXbWQiukcJeweCDbYghDae4Co3cswQDwRTexKi0SqoJDPI3BpVzUsLbtJK7Yu\n",
              "XN/QHPygodO28acMN353dyf5/T77d00AblLckllIE+ktGJfX+af9ggpNCzvzvCoY0e0uyF3G4YT1\n",
              "/nTv41NLrkEWyNBGR0ks1dU9vpkdfGIlglJGGvqaiv+Vd8Ay5Wi9WlvrL13xn6EAuK4rnHGWijc/\n",
              "42Qzz1t1ehCt6OziIjzUSZkpowJ6kcjEavRydF9DJGCZ160f7qXQ4uxY1Xa6GpqK64ikluwB92ju\n",
              "fknZFA97F6EKEDLJDuVhF1EKVzpC+89rBgcQGV8LJs/y5TLu9//YnkFg51R9K5qNfoOGb9s6mhma\n",
              "OwheVx60g1y8LXKI20ro5hUFKIf7SKlvjtRBeWnT5n/yRnBWenMf9AF4FpDlGwshuIEymX3vDoeu\n",
              "bOqctipEcuNCZmicB8vZnzzzBO7dHtPIq8xnx+On+OcWOyDM8GHzWFsJ0sEw/saSJtdb5XdNuFGT\n",
              "geK+5Pie8cY1kBTs4AQHKDRJSIfRM4YW//+73xailHGBeSLJJiDZPtoC+0j2FeNxeUkxr7tuJW5x\n",
              "vK4ZN62CVbqYCXsBPxn5jAu85c0KkfrA7CCns6pLbCQMWwJ6Yo+25f28z0o1tvSd8qlcmcZKNSPg\n",
              "hxU527s1uA0TP11YUOOiA0c4/rfTodju2bZGuv4wF7LtrLi2jrAZc0uZKJPs9JQ0UM35H+tGLpgW\n",
              "JLji7H/mXAzs0n4lVUU/Yd/1nTG+Q9NZ7nw6K+2fuztcCDTWBpDZ/iHAD3U1yEEZ+I6Vtq+Qc82O\n",
              "PSe/+FBj5odWEMgUhj3J/hzlqtJM2viXzCkmszrD7O26rw+sInhd3vy5kKHlPd6XUX5R6JFan9Ev\n",
              "6IlS3gDVS6sDTLX02hthNh7xkr3znr252XJA/LMIFMY1/jh+YcJPzAacEVfvm9Dk02XcA1Lh5Nja\n",
              "/JFWYD/AOH+KGRBThM6JgI37vEJdqWvVvo/vmP514BpK1GGAYKkmCkEPwY3ge4pC65P4lKESSqFu\n",
              "v0/6R5EDWtMqU/PRtqyzcIfoJMVVKJ3A5cXN7VC3ZpPlupBgV2ZiTI+3u0sN9Ax6ZL1S7kJDPMtu\n",
              "i1tQSmkr4cPpR3r72//bhRpd37npy4ni6V+Z+H7rdq2uUA9/BsI++sKvEbEwZ3Zd964Uaa/nuLOS\n",
              "PWH4jC6VhCxcYgnqjm6YlLgwtp/i5u32pvNxL4+bIu6N9cezIcevg12HuL6JAmb7Y73nJJyobQlq\n",
              "uvL+pHElEpyXg25gWupYxZaJSINug0IzjmdZDnC5xBTW6vEEN5MR8/epjUwlq6ihicGVsd83Qagr\n",
              "gCqhlGI6ivONZKRYdbH8bP8lp5SZxJy8segjWVxewSC46L6UOVnu4qqUU5zBU3a9QcSGXWrG+fZ0\n",
              "H7/vwgo/XghZPqdliwPuIpTsrufchqDh4ABNTzhwPv6RYOv65KX7yagWMFKo3d+QOOEBypoxECCD\n",
              "9m9PEENPfyyyWt53UJwUwl8pQGywxdGgLgCpEk2Yq1pfajvhtCUv5KdCspNYj5C49ul+pL9/s45h\n",
              "JVbKmzOqt+iEJAErVomeKnWaeBn2SD9lduLq0XHMC6xOyfuzREORJna+vBRNEiXBNao2PXWYNgYv\n",
              "qysd7CzxmaashxaUEC+PVeUlMc94w9skZvi0ROH2wzpOmZvBbKHul4sOjjYcc/SxPPSU3A2J1vzc\n",
              "gpSyEugQsmi4ZNJZaebDsSnLAv+z1bwuG8JewNjZ/4qFahfRGVL/qrAoqKKncPFQWiyqfT8q8TLT\n",
              "gotDMEoNUeW+TqXK3gtBR7Zk7+x+ax+NJHIKiJuryNXPGXYuvNOkJSJZ/wNDCEHw8cgXEvm3Tkp1\n",
              "LrS6K3tfcmzUgxWlSYG0mhbtHI9621y1czl26PYiE3mUM4D4er+LNJB5giuOoiQ90TTbQGxUG9Lg\n",
              "mUQ+3/v63MKQBoqtWCmqhZ2nq//CZovlt7mNxLSLG8nG8nSXgyWa9bjpLaEaR6nGVrLsrSgmHV06\n",
              "HxsozXyJNx/CPUDwVA2wwl95+lzv3fLEW9DFeEYsjb1prxdCP/PmWJlVIQngPzBH8Yn5caMDS3K/\n",
              "ijMkmI2t1j27BZoqmBnrVENsgcnKds14r5ceYaxr3PkE9VtiC+u/6BUHsJHgxDVAKQ9ZjM64F6/j\n",
              "e677Ne5SOvNKsA1Slma7VnmlglUZP36nFqGthwRvGT54+SqCtDv8LE1CX6HKX99210wMoDokIYGx\n",
              "AqNUoG4GhwzznAkYsbys0PdfmVr1ZHhGkzn5P2QD0RLLmdb3JZpNiEOiT386DXDuLk5BuwTyPmFF\n",
              "EeEK+b2Bxn/7KUShdX50jfwUDmkSnABttSgK7/ImuOZz6kZu9La830q5uHD7h7c0jTSwv0adDOyv\n",
              "Yc4ZrbfmrxXe/8UX/wr5ofqBOyGHGOBl2TLNxqFmVQwJQcvCVH3GCpn4WpYAHNt1+/OFlaYtoOex\n",
              "qvdMDW+OwKZy7vALyvqEFE0gO7JT5cediuoCRPZNBzbqTvZAt8wP9QAW69Xr09fSR2BdQU6PgJcA\n",
              "Q07H2hD+w14+b3oJ1uh6eE8ULodmTUj7wyPtpd6q/TEsVxnnYpUyCakGg6oP2NxXR4dfCv1V883V\n",
              "QHtH/Kpfk4yYSEDfLyyjNqZNdas846HuFXQfqc8kvdepuHcUcwxfw+wjEJUXlcNM5SunTfNBkrcf\n",
              "NnJthU9us+sQttEJO0IEomUO++B2G3CY/8sffQ/lF5vXJEIE9yUSy1DErKPc+am41XHL4olz39zs\n",
              "+a3cUEFsk3OKUbsYyTt1mQu0bUS086Wn1sXAUJP4Jv3Vj78kApcKcL8JAqMKugAzZ8hsOj5c8UYK\n",
              "JmmFUcEYfr+ZIVMn4SFmVbpN3W9wgvgdh1KsH4QsjqTl/Nmrd0NmfFv29Pdv+1F33joIWoHy+VlC\n",
              "nzVh/epaIqHPfDGGGHImP5rgrNKu3tXwV8MMc3BmmJSLGyPouXYMyDI3wrE7c5agrPHkswze/prS\n",
              "Itn7z8EVtlE2fOGRiGE03agXC6dKFpJM4XUwFrvs2PTFzkbGJml5LSZh8aLo2SDJ/+oX0/rCIiCe\n",
              "OxGUgQCa7kD06T5EAdQE2sPJ9m3MY+dCfmbqMQxiBQY1issjs5/6mDpxA/s3+boL9WB+HMzqIZY5\n",
              "h8dRqoqNLCKwlndgluwOkotD7/q5LcbGcKFX715pZ4VAly1YOAOWdsnJbMiTtkgNvxNu6P4ejfh/\n",
              "wWOTZMlFabb6TDDQ6pZM9uuTgNL7yP7/AMzVzxWEelqZO7TEBFE++xLK/Vy+o7QreoGXMo+GP5pA\n",
              "8qD68VusAlXU9aOR+Q2ed6v/T+/k2/fllMcGVHqDwnM6+zcW7tm/jJlFbx1UlFwBVPWNaGPERDL3\n",
              "c4EKfWLnFanV1wHZn1yTMPv3YgBRRCj9MAOteBh8OPatHNqf4Xrgmpc4a7wsys8ACOAdJ6HObIQ9\n",
              "IsS6tuo/XeROUT069//19+qvxzP6uBvsYZ1nVq/igeEiz8wmFrCB0+qIn4VnFWC+G+Ub/gppSl9R\n",
              "LpUqjp9iwvZ0WiIshVmLKFVsxCSwmPqK0a6k2pbr6w12OjPbfeLgdeVS6H2Ig11HVJozrAK+hVS5\n",
              "zAqK7xEjymkKu9dtZM31DyHf8HTx6X6bD+dERyhI688+zj3fZ9OdrQEx5qN/k3wUpm93TCJwG3h0\n",
              "UJ1rXMIzgDgWcWjb2DWtM7lG0cTtDS+eHDCNUQHmjF514U96pwucWxFq1+YE0NckeEbXaVwiaX/b\n",
              "a261+CbIVSdnEyvvU8fU7+Bf6k+t08x0ltGrVmy2i58wS+QoKMYYST4bvyuMj/EuRV2tSr75WiKY\n",
              "Fw6UogI965YgLJk2etKHV8EZk59dMRn+QHidso4nFvXU0+1D6PAqpScVDPXb0/8lR5r924kPqSrm\n",
              "2+AfFEbc7RyA2IJJkCo+uowUxIDmcM0Y4jGDtCOF1LwM/k+Xe/iFTPqj6NGxhN0S3bn4azpGYbqV\n",
              "v0geWgx0ODfRa6hv6Li0CL9jaPyuftrwDr1KigDCSaT8FbIP+AqWrFz39PRKy1cDmhneQ50rbFSr\n",
              "1OZoQ83zWzxTzU5Yc+euvX4jNXBFWavJi4a1yv6U++diJASJ4jgeMRumENZNj0CO3ivbp1u5osET\n",
              "S12Rghf0wgAilvZvP91v0oTfUZq0BvVUe8bed9Noiftdr2sXuKjxYM8hJIJt4GUItAQOIuLIMJZu\n",
              "VticzIzEOmGYGkzNWFmwUSO8aZd+Zhc1oaf/46JpLXIJug3cpZ+Py8+T+4rTi9yOC+zy0/H6kDl8\n",
              "hW6b4V9AfUEjudvJsFJ6ABWdq7WBtYRluebVJ+LS7MzC39B5ak8GxqI6LcjURiaR4WZHmTebSITH\n",
              "InPRZBkjv9Y76lsjVnBmWU88YhfbXMdnzMzNpFGpSFieEIFQNaxdl+hPGuDGd3HirM45XblFmXeh\n",
              "Y3M9R8d0Zix1/JANjP9LZtXKpd8Gvy2ktCe+pm+YLW5xTwpH4ghXkMnG7YgXDuOPmgqmolM4rhpK\n",
              "gg9GGLH4QPBTQfTrivOV5e1JlT7ADhT/6ReVy/L3g/LGJMt3laNp7vmNLAuCSsMsns1luRXvZy8W\n",
              "134Bw95zlN/atBC293wL030V56zNoflGiS9bQRwIaS0yQQ7e5kjQV173+dd3218ND9p/3JbZDVV6\n",
              "OKp8SWylnkounvQgmaSjA4s3fC7yTi5IBX/DOxNAHSbF6GMMHnl3PIezLbAdaShj+l1h3FRSFOuh\n",
              "CvPeR8BlILImgGgLGO5yUHtmjTDK3EkPAI4GU1uJOGUxgw5pRARA+r8F+AEPK2UNJMqLaEpIIHSf\n",
              "REK/TluuO5qkmSxOjFoy6eaG9jEn1QhTh8SWb4Qqs8G4pBR90+KANCaiMj3AcPezFAMvNUffmAS6\n",
              "Q/YAyIan8drW7i5TNRDKEVri5dWlthXPs8aVYMC4TgqRxr553U3tS/+TiALmomBytbH61orUZ9VV\n",
              "rxKBSrukND7FN6Sk65R8VC93rOUjWzqpM0N+SziBPxO8ntBcsG0mSC9IYG/1snkXIyxZ7+AwtzdX\n",
              "toRs+L2bpQt79WnDr3kDrBDXUFuLiZjK+zPar64E7SAASiXYIc69UOTwuxHh1KZv4IT+gOQiiz1g\n",
              "ZjJoRnDWZ3ZXIp2tQckiruHBj2LpHFHWqPvF7PPTrFAtUoBnaJKstizsd2n0woIAQRay7TpEy/II\n",
              "0l41Kdey+xNpUrEt1uIvK3E551Ka1F/5AizngZh5PtAXY9ATUWgmewZiOlDKuHBk1iUaS0PoMQ9i\n",
              "36Xmi5qrEUEAhbOZ2Up7SEfvwDvGkATUAImpaqTMkJgvqwAsCJx8Z8cnwZJNRRT9ee9Ce+f3og/9\n",
              "aQ4uJLQ58QW4yNuCCKjgBhU71Bg1QeYROvJqpsUpQhp5WfJXabxvYJyewF1qxWjqrrgB7wP2sDs9\n",
              "jAdsJuIdlvHUno71Gm/KigWfrhYtAs/cUe9Bx4vCm/ejF13IbXu/0MKJtjpJJj5pvyO+NjC0QrhZ\n",
              "dq5H6mmFA9BcdbDC/vKDhXZ7WXqPxzARwgucCCBP0BemwsAPHv/aL+uCppVPt5/8NngVz+CoZmj3\n",
              "dNNzMCnc/tdd1LyVOUFJsyflNxfIwGlCs0e/aF2RaW4He1/MFV6ptcVIomqyrlaGIYLgM1ExcYNC\n",
              "RYq2yDkZHScJbKUDbc4kODLQG6rDftXNIwb2AqDMzdTVT48WQAPzKyV+ixGryA62WM2IAU8TTIvL\n",
              "d85oTu2UWWBi678//ZGZxxQuQkWbeBTLzMQIIlOiivGJuMOyBNiEqeayCmcw4z4wEScXL382iWdG\n",
              "ABydsBEZg2x09vflHe7PFaRyEq2H5+GHFvbgPCnvaUSav8E9J2a5nVp9CDMA4obhyEU6Twp8E0GI\n",
              "eRdM1d0IFeB9OBv6ItgZxyTJq6O/SFforJa8dnGrwp/7XG5PE3Jjo/n5m52vNGDkbJPMFe7Y11El\n",
              "WJTiUORgI3C+U8SR3maJxL4a4JCK3dg/0cMqqIr1E5J+fWKC6lxE5qI/frCBTSz+29d3Ule2RbTc\n",
              "rJ1dDIfG0WabR/CLSopg/g41D8DW/IZb3xHVHHdc2xUD032eT/VS0qYW6nNDPG/y4NKx4Fs2fU1j\n",
              "M8tP/sk5Gqu5OxbiNnZUwy+tnldfINYXoN7hwoy6PLzZt85FIPCBN+IvpYJOBrrVOF9Z9ZWE97A0\n",
              "cKVvolaInHV4hHGdh4uusKRhXYKGNTxcMpUqmQJi19U0Kya7LOwV/5V+cJTX/zRLBP0E8+us0yvC\n",
              "6ea/xjc0Opq2poRTA3xnCD4XiSclGRtEKjvZmKFf5U9f3TfWQHQke/ag3gaAzmuNLNqMciE7fuLC\n",
              "5nLoKao+0YOOMpm3PuvUHxHgsDUUjDoPOHKxpsfJrGgyBIMZN193ZY4EYApwzAYpQWh3uVU6cnZw\n",
              "KWPDWxgkdj6qsXtSRoW45FYAnzsKc4145mjUOx1CWXKbNb97DRRcQxkNlGWb6Vj7tFOuEK6t/3lG\n",
              "WpvW6HhRF7Ft3C4ZblFw0aWd/PDcCkQrhAHWePCUJ+AeiGZTqpWP0l1AYSY5mzNV9vuiZEB22JTh\n",
              "mKJq4afASzdeaZR+UKZrNZ5rSpxOMZmRzG8Kwimf5PqEISjJCO2gLqAlkoxbfNSz+TZLQPydJBiY\n",
              "JCN0VfR0wXNf+kyujxEQS6gkI1oxHkixJQkoBjfPqLvzo3vI+izL/OeDqstdI8Rqq5lNJ0rCTNSx\n",
              "IUUpb4RtTONJFgwgI4Zyol7KtI8ufqZA3R3pPf0+61shw/cq/vgpfaWRNGR9yosPrwtnvbcqFKEO\n",
              "mrWIMUu7yBIVsZiclAw9jptrDQuXvgjm8B3U1+clLW2vK5CJDxQ2+l3afDSyS5oZY4oaWlOU4HKo\n",
              "3ruC4AAAAwAB47YxzABsxom+7//MNVsKIhNryreVtU2z848r5gLr/vKe9sMONmDnOv4UYKfnZFkh\n",
              "vqsOOmjR9grV+sZ870zzObQYUDqgO9QXn64vLfxSHsvLvMpimIM09KsEsHUX090vQGO5Zup7GY8B\n",
              "VBw4J02WNGo8zZO6qDTsQJquDwuzedc5Lp8T+E4ojZKDgZwdjk1MQGtCjwAot7VlEoOhO0mULuiK\n",
              "GtdeeumQRE1dGV9ldroZsjr0L5htpY6lD9BUN6k5/3pVIJ1w0qafP3jU3nErh4rDcGZH+QMZXdnc\n",
              "aQSsX8XoWGgvLUTWQ3QnplsDAx31NfZgLNixFo/Uo7/0iAvtXlEoa8LF19N/dsXKszYPCxEj01CG\n",
              "Oqf122F3spZIOVzteUakH+bbbLIP1iQGtLkqjuRCyyv0+G34nCf8N7Qw4vpMp+GqVqlqyLEXBui5\n",
              "+y2QXvfmsXH9jfi/bQRF6eX4+l3ulX657xS2TFEogAXYV+oST5URHxSmaRb5dN1xHzZ8lhRcggSI\n",
              "pIxxDjp3MkQdxXdvMqh0ZcPffjf9r0yiBkWyrIeylDDO3pdfEFFKT6CQ2smWECn8e99twJDsWvJ2\n",
              "637Kdk5SgMQoyzIiefy6worSs/BsQ6pvVPKi8R/4YVk88QqeSIvZoX7iOh60jAkCD7UBogqq4QyG\n",
              "DAi7dTE5hXNiBsInQRhaUIFnVl27b+CLKMskPUTnAtBp2m0QyqGwjbES1Fzz2QJMUx9NoNoiYlvw\n",
              "cQtKTL1dgGJFj42yceCdzXQTJJ/l637HQBGEUDXqPpQ2gghchxHoa3tqlkqWTGswjmUpOOzTAzqv\n",
              "Tt/AxU4032/1dfHajGwuXJJjcu32nPjK0oebQXFQcF2NxcE+WckVvnlaIlSTej032TMoVAf+pan2\n",
              "cjDDtqd7zth5oxIsHDvI346dDHYMICVzzwAq/vHi6Zb72ax9OXOc64rUfMkFdZ5kiLCnKLMmMZOF\n",
              "VN/C+gUUL0avFMW1C4Ck/V5fSujMIRNP31S9zlKvMfAhcM0HrX+ZYCoOIc0e4BIqGDTgKu0PE+iG\n",
              "uP5c2kZI6b4lcY21KEwchujFr7gWsgGfqwHF9lVQqIPl45pyFYPOh8luurJOxXgklG2Fx9PxEBOY\n",
              "dXuW9mQ6cUdLG0CaLpbzGlazLTFglZkVjdMjlS1umCbw7Y2RQlvyCKlgIL7w7Lzfrdk6MkiJVFlP\n",
              "wlo5SMT946oAc7S+Kf+gN4Y9PpW37Br//mHcFx2MSU8gVLEKVRCLARTKoG9a2VlgQxwxCynhezzL\n",
              "cLWfMKYrgGGBGpFjJJkNkv35uMbiuheyhWv2Bvnbnye2txd+cpJuZuNp+4o9PibPtoCi6VlBAraK\n",
              "GMf8mE3MtHC41+xerNCqLm3MqNclL1jfT1J5nM2ehu6fmH83r7iz/xsZi8ZrIq2wK112fyg4hDV7\n",
              "TSA8yYI70CzetERQXUjzbtJvwvNRqU51ty2og/mWJl/L7ycCQqwMW9vbJ+byH/kZdBry5PgrUDFm\n",
              "xpcmOD95Ie+Xr1WHaXPoQLnF3xM7jlB3Vdn2i/PSphKe8TdyUV1j960uza9OucGNnlFlm/gvoX0Z\n",
              "R8MoJasZy2Sp1sgK1f55HlKi23TwXqg0IZDlqiKMzUwblDMrCmxlkhqcyAOpVUTLOo7xXNesBaZ1\n",
              "V1YCNAAFBorfBW+k3QaupetxDdbnz+W0c+W6gnvs5oqu1Ry0tZypKrGvwS/d9PPwXcTh8hcAAAG3\n",
              "QZokbEP//qmWAB3WQUAFJsNe+LueAXAlXuljc4p9NB+goTgFGRYOmNwUAWGiz7cddFT+w5cOE0UY\n",
              "BAotAbuN0RYOUivX4CXlXyAbmrKYqBMsd63apZZl4aDVRxfOJMMlwc+OX7udDk4+f0Gg8nyTHJ2N\n",
              "YLRLdmfaHHpns8B1JemqaQZq+W6s53mS7iJZSsKrcDHUvcrmJO0o6KrSF8QfBrO42mC7Ik8XCLtX\n",
              "F+r4o8LtPUSybyQu3sfY6auBS6vNgNeJgAAEp1HNcWn54r/iUhamoI0jN6LIIIVTvPkLWRpMfdDC\n",
              "wIi+qUHoFkHHgdjY/Wl7mE4pQaN0VGBSyJC6sFrLzFJ9oCC2JaALzyupWu7+fQZAbe9Ee9jSyQqF\n",
              "xvtOHQi0RRBUkR+a0wKyi6LNtZMytafspGlPf2Jb4WEDmEtqq7SXT3oAaszHMAAnbH7+BBhI8Zq2\n",
              "v+vfqa4i9f8FkeVj7KwM7AIq8MMLUBtPiloMLRAKqL9rxIwGm/FRV/gp0T7zLX3DcTRSWygmcyM9\n",
              "vhWLxYeM/QyQ2kE62SCsyCzJVvoYLkUns4i94LOpgSOeH5HdmbHmcAAAAJlBnkJ4h38ABEHJ+c9j\n",
              "VOpsa7pWpmr6owAIghFqOMeRe0D+BLZ78sFfI1t2cjWRw5Tywop+ty3JtEzsewj9FGFvhchqw29c\n",
              "xaF13H5ijpWEYqY25qX4lPY0L75wjusZesZtkEZ4bHLIapNw2FJEjb2MMJcdePL//RaDJyUanQ/Y\n",
              "PGF/2IbUODQD6cGhABpGBPOcJ4J9+lQqQ8EAAABaAZ5hdEN/AAYfq+ja+3M+GHWpTA5wcKFb3xXg\n",
              "AvmtCTW9YO06c11NN2uj4iQ/5ub3zk/xSwk3ET7s7OK3Mzt7gfJlwOOcpyuhlnCSbSdet4Bz2Mb2\n",
              "fwW9sAqYAAAANQGeY2pDfwAAAwILXsCYrcyJPD/tvIR7pAAQd5eKM1h+isDy4NWqR7vhR1LOiwAV\n",
              "V/ezVNF5AAAAe0GaZUmoQWiZTAh///6plgAAAwKpwdnART0ushF1cNEZrJRgOEzeBjIZLCr5u1N3\n",
              "fGAQy171Nd00ZfXxcKe9VSqd+jxw7KrMPzjOUM+JcxsxezON1qwLvipWMlQSaZp0BwK0rOCAO+5Y\n",
              "p3rWvk0X24ONLNrMdvyeXsBH3QAAAH1BmoZJ4QpSZTAh//6plgAAAwKlznBinQt8Nj1knI8ZEPdA\n",
              "HqttmpQ45DEpjR/KNn/g9+r4N5ex64BNidri+GVA0XrIMnzCv6O9Z7l403tXsJMkZPrX8EZyoVzb\n",
              "JV8o3x9SX67fA6wt8hTyfo50WKKOMD+Qf0wANefGTyenoQAAAHtBmqdJ4Q6JlMCH//6plgAAAwKp\n",
              "wdn4UeBwBV1CV1Buerl7oDR542j7k3C2XA1sbzGVf+LNLU4b4tFmiNJK1RxxbaQAHG5LVF6oEHdY\n",
              "YJ2N0zx7JR4I8Hm68MOGms71gqrytPpDq6+ECnJ/gN/rakxkjUGym6shZYAACtkAAABWQZrISeEP\n",
              "JlMCH//+qZYAAAbKXvgBzyeTXdHUVf0gTQJH+hjRgfcqnp3T0fHDJ7p+igh6XjCr5lgmbR29gJoB\n",
              "/LtRb3mPz51ohtMPWsV6G9X/UmAAArYAAAC6QZrpSeEPJlMCH//+qZYAAAcfD9nSX6QBU4CqJPRv\n",
              "hfmmoKNcxxEfU+va3pk8IYG/GskS5T8lt5zkqqyN5HMdNZZQRF2eePmmVS+B1xZw/lSDzTWLHH/v\n",
              "u+vl/+UDiu66iytohiAS+Uy6Hq/V4LQotl9llwKyHoegIHa5AegXcSXE2HhYkgANcBgrmaxYOm2q\n",
              "H8ruqj2Y4FdTPR5SGE3q+xlz/NIIv4kJXcWJVpLHpjJr4Py5FIYAAAl4AAAAuEGbCknhDyZTAh//\n",
              "/qmWAAAHG5xDWSo3WWTEgEsCuKlv/LH4vruQmc4HHKZufArkwy6kzHOd4RjxPMB2nb84Bv9K2Mew\n",
              "mVhaXnMxfJCJ50mWKllMucQPayuysDODHVS4AyUb4H13WJx2xsO5T//Eic2iVMagkJdpxJDqw40k\n",
              "9kfcHjaAQk6j0H53MK/DnP0xO+rwBEuCzwmKtPnPLK9jy4Mwht1LjyVMofgxufP4FUlfcRIsWAAA\n",
              "UEEAAABiQZsrSeEPJlMCH//+qZYAABODEs5uHUAIyue4dfMiB+Y0wcSfAB3l5wDP1iTxZUFcsKWb\n",
              "reDqKtxMwkiZrwJf8K8GY8KNR3q/fTdDg1rwf5IwwO89fKWSkYPaSpj5SgAABHwAAABUQZtMSeEP\n",
              "JlMCH//+qZYAABOXqARs1wgOAEQjTJLr0kmonBgKtzKdHqEuHiOZv0qWQgMfkGbTaHvKgZGnqYzS\n",
              "EJSJetiz4K8/lolV9ySzhKMAAARMAAAAf0GbbUnhDyZTAh///qmWAAATmarfBtbEsegMAXlznsuU\n",
              "UGi5AzNpqj0Td9Ocpz3LmFBbEiqgKYYQGNq8mJtpnSnCw9LGMdssBgHKItXKLaJ79WqfZvfQIyb0\n",
              "nBxDyfWR2CNbYoc0ejjDya1ca6s6/5oSzk3we5uSFUF2LAAADpkAAACPQZuOSeEPJlMCH//+qZYA\n",
              "ADUTZLACWUO3QvOl/J7hly4E47MJXCuy9dtPaseZPwfSD3iMRW7VMX6W9taiDxVMDVpvuHgkjYCo\n",
              "ZX//xvNtH03Xz5DzCS4FZ3SQy7j8Vxankl9lloquszSIFCOi+ZAPsirf/U3spoxxqKk/CLIFsLnZ\n",
              "v7sVF1wFsZ8VGAAACDkAAABxQZuvSeEPJlMCH//+qZYAADVF7GBd6+aAC47pxc0LlWDWbw27XH9Y\n",
              "pM51RZ3HAmCKEjJSbs0lEbzyd1xByFq8Lyj05o6Q2KVv183I7V7A/X/CayIf0PeuFfLkoWTgSReX\n",
              "H+bxQPKjFkyBhl+SIAAAF3EAAACxQZvQSeEPJlMCH//+qZYAADVA7GAd5h1YuAKtLh83DSp+Yrmh\n",
              "7IyR3m48bmmzoWquc08+VkANqo1CEbvMMHvK3G3PzknnUc/4Ha8SuGtYady1/xcTxJmFt4ensrlT\n",
              "JGkAbjm1p4HBPw1BCrvy2EPRmHw91KSBvIRQaH656weQGMQKq1UEvUMTdNVfwy43UbZ8CdH2h2FV\n",
              "zTO07iTRfIBwV8vQ+jRaCkgyo+KWKqAAAAx4AAAAjEGb8UnhDyZTAh///qmWAAA1EXlT+8AGJLh/\n",
              "zGCuhbrU3BtG1dbsiqQ2fOUfbso51vsUYa2HWwV2fPl6X5V6Jcaz4SuvOukQ50xFZ1EePViz5kBC\n",
              "j0RPg3tbso5CpVFlf5GqUUkPgI6b8WLAbTTe/MDSN1y67YQ5XExZM+nuT2MYeuQOp48eYYAAAOqA\n",
              "AAAAjkGaEknhDyZTAh///qmWAACQMgAIAce7K9JO/E5+9fr6M1aRz4XQ/zTaFyJHRFs2vasoQZjK\n",
              "vrOXXF8f7SO32DKCIjT6DZ9LH/jU+IxJQ6UHcKwH2wLoyLa+FTnt+Jx34fSyMUJ4r9X3cgWHFrlI\n",
              "9U318eerDQkc9YfJM/49cuybYfeXAAE1IRXqBfwfPVEAAAC0QZozSeEPJlMCH//+qZYAAJAE/a/W\n",
              "XuMAM4FrnzXXT0vfwOFFrhcntSKwugUckQmipB2CKTb03fPZ0roxE2C+2RjALxZ3OjZJfTzs1ad1\n",
              "gF+v/Z5HNz6ZoaHoS20vexJD+2hqVcj8XL8Iv4aOu98T1cNP5Rk7yJgsMdtJ/Zj2adq7chANjJxf\n",
              "BxLaRA4IFGgWEtI0DKs3x4WOwHlfCyMajiQKk7/lp62L6bwwJpG9BtkwAAFFAAAAg0GaVEnhDyZT\n",
              "Ah///qmWAACQMe0EFR8iVvwtto+49M+5QwmEje3EBXk317ZbXCtIA9ytJnwNfq/K69l9qWh+Jb6r\n",
              "Nm+IfKGGLMxoYHyx8xEBs28KspPyMAfxrOwnCxu9IyLuu4xFMt6Y9c+Bg8k/bMVz2ygqW2pIjAC+\n",
              "cpLY6XMAABRQAAAAikGadUnhDyZTAgh//qpVAAAlB/9QGN7HhpqvT4ctfz3cBrx//je6SSwYjugR\n",
              "dkISucK4k4G29Ddm5X8koDBbt6FOnw/FH4GNE71GD+xtk3BCyvpuL20VVm5XvETYLaJzuYHDA3fc\n",
              "z3jNVA5YjrU7fxyhr2p+/Ilcf9NkaF5Go3VN+PKSU6EmAAAooQAAAK9BmpdJ4Q8mUwURPD///qmW\n",
              "AACMCuSFiVX3KaoJ1AUdfz/FmCbNL1vuYDP65J3SHlat9u4Vewg2+ZgCI1sF5Mff2I8eZlv46r0L\n",
              "HlSh1lgI00dPJqstHW+e3haXfNImFeSkEWOJ89/N6LQ3WafnOeiuM5THAKk6KWSjhK0RpSBFMGRf\n",
              "Wjs/cZyltNf3G9Gtp0xVXB2OKwPUk26guwnt716dXU67R5IRzCrqFhKQAAFXAAAAMQGetmpDfwAA\n",
              "Y0rUKG4BABD9V04CIYWMug0GbpL+sPoI5UWJF6eT/pJWuv4AAAMA1IEAAACPQZq4SeEPJlMCH//+\n",
              "qZYAAIwEYdkb9vgM3483OtIZqnj5oiT3htAw5U/ZVKFTMOB47XPg12bXz2Stk7SX9Npan07U+rTo\n",
              "Ab44ZSkoZ3WAB1oMJEK4hJCjVYgo9oPwTmk/6YU1xPSbcv/7RbyuH+SzrRuoekcn5fuFInbU04AA\n",
              "EVHfNGyoys9c93NwnAAAJeEAAACBQZrZSeEPJlMCH//+qZYAAIhIEftWOvgCJUDBx5Lh6EvXTdhy\n",
              "GH1Jv54X0Mp9yiBhpmVuA6AXzAJt87wwpUwfdZrxH0/krwH7XyV0xASPagx3ynOsjAgVIhbZz1jc\n",
              "ujXWc9UnMegNfM7LP/SoyZsH0gq6pIko5wEPHuB1LgbAAMqAAAAAkUGa+knhDyZTAgh//qpVAAAj\n",
              "AvEeQvBLS+AIO+0F67H3j0c9YO8NfgASzCEI2GNKcb9/HiZqE/OmuZ32iXuGf1/V33f+V9PW0mZc\n",
              "Ni4U7RAELrqav1LR9UqZIZPdeBXTvGWdaEjAF63yDTB3NiT8WhOKFI93IjHrYoorJyzOsodH6DrR\n",
              "eF/Ju6UraCfHXzqAHdEAAAB8QZsbSeEPJlMCCH/+qlUAACMCyuIT0uQBSX9ACaWPMTZCzvqF2yz2\n",
              "FgX5N1U7NZZi9efGPFeOpPsoZSBMj880lfffCWsxP5TyKn5NZQ5VGpv4jkeuDB139kY5A3GLXQqe\n",
              "4FfhAwWzdlEUxRqianEiXltGHAo0YMAAAAMC9gAAAN1Bmz9J4Q8mUwIf//6plgAAhIENxZg4DLhI\n",
              "YeOaS7vhJoYjIHMRPnt5onTFiGFONpmhGS5y1xfCX3/GFWBi+oBSYMNWnN1JfWnfLdJIejC6rBq9\n",
              "wBiOtvDyqLCoQKP9hd6VTq9rAUoi56onrxRj2J2YYdwXt3jz6P2gezMQIZR0+Szb4iadd/VkJXlu\n",
              "sksImXtetzJMHGRNv1eD/8p33v5ofNzFqGwoI2eIB/tGRUdfrWJ/wwmhk+4hDbHrNZTZnrzCmVPl\n",
              "XqK14beQs2y7wai3KmDvoQDgQXeFAAAMCQAAAJxBn11FETw7/wAAQhzIoAIcSDDpttUjIoTVcMbO\n",
              "IVvduFwpHrU1XWhLYPeUw31M0QTN0w9KkimhlhJYZzyBHTrN9Xd5IrAhlvaR5VaO82aqXSNcGUb1\n",
              "o8K27gUdtLpd3kt3pRJi95rBV/GsRFmHVH9CuWwea1VZ5VWgDaCq/zyqUzfG66EgSjlCbJNjBtjc\n",
              "pN5u2sqkZsL4BVaT/j0AAABHAZ98dEN/AABeStQpvRBQAhOs+Jx4qSza/LnaO0cA5x/EQdbpHQST\n",
              "reYdfoqbIRYbCDe2q2Q8NfK/6GPlZvd/M0gCG3rMXpAAAABZAZ9+akN/AABff/ZiwhmuojP2AAhd\n",
              "QiP8tFiIOqA1oTp+25QQOPn6nHVfd5NzwYL28Bggxxi2aLcX7JjasQDJcfC7ZIqA6JEJugZaQ961\n",
              "0b8U/HADL9xm1IAAAACZQZtgSahBaJlMCH///qmWAACILM3gRAfVSFSdr+0XxNZo55RYedUn54Q8\n",
              "6DXZVliRGplX4fq8fmtwAuX1o3P/LwvZ1deq5uDLFD7JSyurr58okpMP3678ssNj+UYm1QuqYd4R\n",
              "NkKx0EthfiZLamNB85Pt5urLDnIxOLAPASersmrkNwxNrrdG6TC+BCs7/xpx26iCEcAAAK2BAAAA\n",
              "ZEGbgUnhClJlMCH//qmWAACAHzVAPn5ErsiG27o/DRllIn4X7Fsq3KI2kT1gAvrGwmF3LZte5+w1\n",
              "fTNDPN03sa1OjRr/DGe9mTtumUxsH5zL7AngY3SiG3dWskhnIuWLQAAAl4AAAACaQZuiSeEOiZTA\n",
              "h//+qZYAAC21vydkNVfL+xoAQHqzancm1cJOXCbaCxRQimvPblpPmglK12f8PSlk4g6cepTKLMSH\n",
              "gWdbv+K/L21Mq8w51hBT5mzsTgfuatf1nWNs8lrqUCw/eJPQB05J6AnBkP4T33FW4mvCYyDZ3ibI\n",
              "/x5NzD4d/36MIZxYIMfKCJnOcL0JmQXBXgAAAwAZUQAAAJ5Bm8NJ4Q8mUwIf//6plgAALbZ6uWwF\n",
              "Igfu3RAHl9C+f4/6Po69oFQsW4rbq2bQ1xeYzQMep1DIL3hZCYdu3o5wafILx+ZJqq7/tUAkzvQT\n",
              "ovu4fvH6HFRdLPlR6Do1S6oj1Tg+Yy8WZQxXi0vNOo3eY4FNvhL8qFnRud7HrSfSa+1fAScCxP+t\n",
              "FLGgn2cKqu+5e5mUotWx5/FmAAARMAAAAJtBm+RJ4Q8mUwIf//6plgAALcxCIdWAoCopVch1ole/\n",
              "xS1oUnvDBYmvpG60MD4vfQ9VLQvqc4OZbRDK1pXwuYo93Lob0L4VjwU7wJHjCwtX97JRDacdGlXw\n",
              "MurGOaky9Nhv6KuLvg4LeEIrWlrnVxRolJquX7PKdKz6gY8JczEwvzDjuV7zls2+K4mjPZU4L/2e\n",
              "pC6xKaRTIACNgQAAAHBBmgVJ4Q8mUwIf//6plgAALJzngfavGQabFxBC8tkAFhoU92VAJlUXQcz5\n",
              "zojefhbFq2UV5pjPk8k1z2PQOe9JatGiUnK/Q96ZnWz6UXgqfZNkfXSn3L1ycw17/5beUhKnWR5C\n",
              "pUnqO+NGzYqAAAG9AAAAbEGaJknhDyZTAh///qmWAAATA7vgB01cu2cPO5CErsn2RP4O/3hLJHK4\n",
              "3TDW6UZr1vBWPHHNI2op1m6Ec/stt0cWYgSjw4f9kP+dtEvyWCS4hjVmVMZTUQBP9KQtz2FWrI00\n",
              "16XS0o9gAAAwIQAAAIxBmkdJ4Q8mUwIIf/6qVQAABOD65QD23HoNbxl1yTSDefeofkHfnRG8U88P\n",
              "x9rAsng7PhIzNufu6pz2HCWe5oxbi5CJkhdIhP4wrG2VLFqXIeZTsvJq5EL+qSxcM/Y+jkqvuT3K\n",
              "bRLxrAx/TZ5jJzV2wnr3ed626/txCCKql2wrA2TUU8jn02TAAADjgQAAAHxBmmhJ4Q8mUwIIf/6q\n",
              "VQAABOD65QD3b09wRMsxeB9LM5yT4A8voujkZFfNSKmlKPWemMMB69JVqjxpuNPBr2v4fWiKpf9I\n",
              "FSDH1UmkN8Qf+HXjqoc/GO6XHwRU7zzSGZqnoTQf/Szw05qQR7TxrzPlqxuOsM2DgsSAAAoIAAAA\n",
              "i0GaiUnhDyZTAgj//rUqgAACcNuIADPRF6Gbq6Mq+RS664bQw1vpDmLihiGJc6Ggnq7ms5TvfaUb\n",
              "H8ihVlQktXWOc6s3FWdSHwcO4rrM72E3wb8DGIkKHec2eG+H2TictmGildOrFOdUlm9bckplYzmu\n",
              "hGNj98j/AIP/j+eEg1sHIOeQBYSre+Kw1ZwAAADCQZqtSeEPJlMCCH/+qlUAAATg+uUA9293cTuZ\n",
              "LXqZ8I3Qvi9YoTWDhDxyL+C8oonMyKYz9eeUip6k/x+tX3f/CA69J/SH5s7DzSZs5yJgpzf3RIo6\n",
              "pHCGD5N9VQ+SkpYq5YUB8bdOvkwlxkse4q218dNzW+5EKb6DBQJ92glE90+zO5hlulYVGoLJ+z//\n",
              "ZrBS0cDLYdO+ffNXnK4J1R4+XOlJcwSZvJuxE7FOpzcBbOAh4q1Ln6MEqfMZIrG0E4AAwIEAAABI\n",
              "QZ7LRRE8O/8AABir3J6N3iW2esYR7bGIrf8/W8j2dunsAIRFjit5VFolOnIVlNylGDz4/7Db6gFn\n",
              "oCg/v5diP68AAgR70zpgAAAATAGe6nRDfwAACxHe5dtOeJDWqv2JNZB4AP6QKgtGp6fSXrENcpjW\n",
              "kNKXm67PZ1QC/Xi9Y6k/8qhOxPad+6JbaqrjLn+FzsgBthlqG9AAAABTAZ7sakN/AAALE9CHmQfB\n",
              "HR1VeCFUQDwAbVS9xx04ARWvqyBKaf9Oa+saNvknic5LC1TUZH2KWgeMbhLt3BZ+Rh8T0SnMCU5p\n",
              "Zv8uhlAEh6evTsEAAADNQZrvSahBaJlMFPBD//6qVQAABOD65QD23HW7+ilsHBnboKNDzeads05Q\n",
              "5s2KS85JIZY6Seivp90rMm5lfIbMhIm0I+FEYh+pz+/HYMBDf93V0ftYC40RC6d3/07pKZoruH8K\n",
              "26qzwVrUv2SLxjBkbXzV6WN+V7toT60wv6H+4GmluXMJa6hWQXAvaYzffU0jvjh0F27ZKhwAbwls\n",
              "0lK3lX4Uhj4Hz2DlhyF3ILdIA9YD20ySEx3n+Wc3Gxeh2/PVknGP0U0bkQ2mAABQQQAAAEgBnw5q\n",
              "Q38AACK5GRsaljKMa10RbEThQrYN3AAapZqr1yzlZ19ekCBxheW4O/HR4vJOWEbzwKzqrPCv64Cu\n",
              "66Bp6sxMP3AALuEAAABUQZsQSeEKUmUwIIf//qpVAAAE4PrlAPdtECmaW6wNHWzj20/N0bLmouLk\n",
              "tqCjW1yK0KE2csh6Eq8GSYlK+QZQYf2+6nidohx7rT1njQERBOTEAAmYAAAA9UGbM0nhDomUwIf/\n",
              "/qmWAAATA7vgB0m9agOz0NyuP9GmxFYVCV3iBUSkMMxGLi3oIEMtxMukqlmRubjnQYtmMMXY2urH\n",
              "oqI8IRDF2CcclqFSlyzjcNRTPJhbRRvpCDNODLI5mjzDIRxZbywB+cO3nxVRj93aKpYxmqjE1uvS\n",
              "iSuK5qPeLVxhhyjgLIYZSY32SyD+NkD43vTeuV84tv/inDMo9CAke/1Kfr8TUGntfsLY4vmIuap8\n",
              "6pZeLkd7Gk29ZvVbXUL32GXg4vHkbMDKSOTFQgvAZqyW/+cILm6iEOR95MROTuUewsa1o4yxykqj\n",
              "qvBHoAGpAAAATUGfUUURPDf/AAAirsk9JJg5pjBoL0Z6O7XqGucPs+VmAB/gvEFpIJbWxB8YW1ge\n",
              "gA8g50vGOS6p4IPTxsXW7PeEZA+9g8FxRw2kABLxAAAAYAGfcmpDfwAACxPQh5kFbn4lc/Ymrr6t\n",
              "x7ngMmAEKe0Nq+ebzmGcirOrcSe1t3GTLQfCpOhUJXwnIi0vtmoxMAWd95Ig8nCp1B8bVDSWJMjZ\n",
              "0Z103oxqTNt+iU/Mv4ADlgAAAEVBm3RJqEFomUwIf//+qZYAABMDu+AHTUtqA7HmxN6otPhqv58C\n",
              "oN8/21xI6sSMTLPvQrkrs7fpACaPJzVvt+JmLqWAJOAAAABzQZuVSeEKUmUwIIf//qpVAAAE4Prl\n",
              "APbaECmauPfQFV4lGuVCzdM2jHOgW8u3ncnkPNTh+23Z7cOmOT99IxcOLK91cRc9yVk9pI6we4y9\n",
              "kOkC8wdOI0juRbamFrfDrLVC5ZG9YWN5sZs/xe3hyNUrpsgIWQAAAJBBm7dJ4Q6JlMFNEw///qmW\n",
              "AAATA7vgB01LagOx5rx54RhmVueU25zeA1yNE3FhHfVadxintt7d/vx5yASt0IW2wnKCCudMFlkk\n",
              "9BP+QSWXfCk7DJyT1QxgzNOmYCbaO0jRN2G4xkFBlZtPJdnQ7w8AGCRd9HZpKD/S72XF8531H5Eq\n",
              "nf742bwJIp+irAjsArYAAAAeAZ/WakN/AAAirsjpDn6CwhRRsbuOj0hgGG+wANCBAAAARkGb2Enh\n",
              "DyZTAgh//qpVAAAE4PrlAPbaECmauPdKHIMbrZYDykYxXYaWx8Drlx3Pb4rtZoadFwEiZj75oCov\n",
              "IhiY8OSATMEAAABsQZv6SeEPJlMFETw///6plgAAEwO74AdNS2oDsea5kdVPc6njzbIg47pVT5Wz\n",
              "M4Pp8RO07HW8NqpGpj0z57uMU4k3U6seWfZe6xwvpR7HQit1JKM6t23m/MAdPAengcrFbp4V3Ktb\n",
              "EBjrwLaAAAAAOAGeGWpDfwAAIq7I6QUc/VnDooCofMnflKiFcAHyjzyYibR01f85MtUEez9mXdOW\n",
              "pfjaF1q3mBixAAAAVUGaG0nhDyZTAgh//qpVAAAE4PrlAPbaECmauPcZ5yYPLBX2b+oxeRM8u781\n",
              "TXbWEV07qq4Yh8N6zAvVZvTlCxa3HyKcCzmDvytRAZn06k2zUHAAF3AAAADEQZo9SeEPJlMFETw/\n",
              "//6plgAAEwO74AdNS2oDsea4MjqpnJ8z2tFWCAN5RBp7VxFIzE5CYqZaTUP7bUy3FqVHfgrYQMNa\n",
              "erOR7hqXFdwN+Sb6koaRQMInS8FIz3d8jilb20A+i8qTGAbJ70XionVw3GdmoTo+wVUFEWYZt1yw\n",
              "DUPoOI/i/pi5kcdtBoELHGQKhVGM7bXCBvGOrDZh5jh1xe45C/m7UECpmDyKlAOmQyfiEsgKtxP0\n",
              "xzRgRUfiz3+nbIgCDwAAAFUBnlxqQ38AACKuyOkAoWKgxlVgSdezH4Y9YALpMpJIRtPHhfPycaK7\n",
              "Td7aBzu8Nk26GwWZCJLBVjmHPZRN+FCSLkd9J6o+94VUQo0R1lL1pMLt1gz5AAAAXkGaXknhDyZT\n",
              "Ah///qmWAAATA7vgB0m9agOz0LgR1x92rsV3LvyqdqT2zfPnGaBchto9hUdABC/LDClFHpM1ffFx\n",
              "/y+BIpTCSQewbtLzgAi/slL9vkalxTJA8XcYgd0AAAChQZp/SeEPJlMCH//+qZYAABMDu+AHTUtq\n",
              "A7HmuBFgYkrYN+Xh8B4oBmcFaLEVzV5ieftK6p/iP8phmKX2RCTsXb05lWG3i4QCUeYHqA8rf8I7\n",
              "1Naj/SnMKyHwbdf7O9nyg/zBtmXg+Hfrafh4UPj5cig1ed0kkdXfb/lKo4tG0P4xPHFfQ+p7Dk19\n",
              "HXRX+KpDvySHvxmnxeVzrWSMXNIADAgAAADMQZqASeEPJlMCH//+qZYAABMDu+AHSb1qA7PQuBFN\n",
              "QjNU5y/Nhlv6EFEnPOO+8PBIPA6k4kzSBYi/7/CQgpWQmsF1JD0kTjYInAy3ZZcOX+gJ+vvffJOQ\n",
              "irpCtsKrE8bcBn9BlZ2iCd0kuW/m5wZ82ra+dBan3DmCRYiFwFCCaA07VjenFXRHOb6Nmhyhxjya\n",
              "tTW9LphsckrjMyd/+PLVDQnJrjXaQPf84u5bjtDo6Zyt/ufzfvMG6w7NK/SO5dNmXhHhS2ASb7CR\n",
              "YI2BAAAAWUGaoUnhDyZTAh///qmWAAATA7vgB01LagOx5rgRUonSaSJ+OJwUt6Schk5gi9KeZbjX\n",
              "uW6xdkKY5gT6rIRJkvKndxs943MfyAzcOTubBKL1XizgbOQAmCNgAAAAa0GawknhDyZTAh///qmW\n",
              "AAADAAAKnA2Ff1SJTQcyQhAylDcVE1gANMhihRgX9Z+QTclK5IeE+Px2ll8UBiIfV2VsogsUKTR4\n",
              "TspDm6DqfWKNRwN/iA3gi3XR01L8kJDMF8beFIgIhskWfzGDAAAAfEGa40nhDyZTAh///qmWAAAD\n",
              "AAADA6PO2VARp2pjQBJyMapCN+fYMPMFwhI27cZ5ILqx+bxs0oWSA78DeV+fxdIb3oWVygImnyoe\n",
              "nKJgD+sml7YFbJo1T7geiYOYUe4g8eLWiyuAq5Ij+QM20z5uTksN8jjotfjaQ05YekAAAACYQZsE\n",
              "SeEPJlMCH//+qZYAAAMAAAMDpYqrY1ICMs8Uc7Jiq7yQvWSknYi5uRFmIcFbo82VqH9fGgq+H81e\n",
              "UdlBeWc000neBBia/SOVaMOKpY1YZ+ddVzHxhbljUnaGc+RDw6pIxk5rjhcCTi159Af2e/3VhF/C\n",
              "8NRcsNZI0Z6nj7VVKv1gNR2a1p8mndyZFmKX/lM7h0Cyw9MAAABdQZslSeEPJlMCH//+qZYAAAMA\n",
              "AAMDjq5GBL36iJXUkwtp6Qw9fbQ6qSWJgG+iUnaj1Pf/hx/xqcHgPHGaPJi42nPX/8sCJI2sqaJ3\n",
              "e0MZ6Ilv0SK2euJVJD8VPMIfAAAAnkGbRknhDyZTAh///qmWAAADAAADAUm4rEPTrNtaqmmUIgBW\n",
              "V9Plq0meY9RDgLs7znAzNqarnVR+I8WWOqO/i9NcHJP7nhnQpRHi5SdZTG0WaSEpheBpvczb/Gy3\n",
              "4ZYGnNvjMGkKWVc/IWJC9ZSkwX+JK412gYuipUZwiDl4PLkjZ/kEtjdmoZ7qp+rTnnOYDslLmiol\n",
              "iLNyIeEzAMWBAAAApUGbZ0nhDyZTAgh//qpVAAADAAADAFSwVm7IdCwlxYAZktuEVdIAEQzkNS6o\n",
              "wtxXrsfAlKyuuzvJvEYfBULYfZ/+fz6CjL0zB/jmvCRLTKc2DPh78QNwFUw2l2O2pwvQ/A215K4T\n",
              "OmBmTWqIhOAVrQL78GQRw4qoIpD0vcydR3U9+XYebJwc1lpnxhPYJtocyQuHZ0HlbFmKxRbM0a2u\n",
              "FRRpgLKZgQAAAGxBm4hJ4Q8mUwIIf/6qVQAAAwAAAwBVDj08AVhgb3c9pe3aUoFYHA8vF8fbuwwB\n",
              "wLg10Bg0+4v8DJSGdjdrMoBfh/8aQX8dML3Rlss1IgvLzGH02T+3cHI8AqLQzvpeOb+vqHe2QeJ8\n",
              "S9b8soAAAACSQZuqSeEPJlMFETwQ//6qVQAAAwAAAwBScOpqjyHSpuDcRAFqUGHsyJ3zJhGEJDCk\n",
              "//foiycRzdXJ9oa4QUIt/L6CaUs097aE7L2PlvNiTubOzy9rfS3LS6zggHhgBZAdu+99mbcoV3hy\n",
              "gPb2zcga+plJGDbkfFu1onVyAMHixVYGKfpX21ueP6/rtpbj/uUjmW0AAAA4AZ/JakN/AAAirsjp\n",
              "AAa9DaJHJPABtJcnVtbYzPQgp56cCHYC8vVC2cxCc9ObS0DO3E28/YB9fMEAAAB7QZvLSeEPJlMC\n",
              "CH/+qlUAAAMAAAMAUnBZ24ULIBEL+XbEsRfaAjkqGOLxfnAsbebLvO/41tusEmSSkjRr8lTM+spT\n",
              "olhWH5RsMWqxkeepEvf501q2iaCw/iEScMJTzHpYyiAfeVbArORBvF7Fnko6m5DOSRp48nQy6HkX\n",
              "AAAAc0Gb7UnhDyZTBRE8EP/+qlUAAAMAAAMAUHhobeKfABJPkJKvNhSFTTAZ39NQOaIwuBC5WQtS\n",
              "tazTK9ss/T/nlvEHkd9igjNkCfp122GEHc2LdK7GNHZREOCmNzeqw4lKxdmR0cCD46KQXTCOnB2u\n",
              "f3CEraAAAABCAZ4MakN/AAAirsjpAAaFKdNtsAuAD4ouUZi5OWbR2P7QPWhxO4IyYtX+NFdpvNPG\n",
              "HHfe8HegDUtZd+sIe6mxceu5AAAAf0GaDknhDyZTAgh//qpVAAADAAADANlS31WGwCF2bM707oAB\n",
              "Bf49pBhOilotHv9P2Ed2Ua+f3qJ85LnUaQH5H8NaU20SyrElkHBSFlaYdiuIS3cJECdwcBtCCV/M\n",
              "mT667tgePiv377Nj1VYeURciignxY+IuRtt7NkP+YYKWkakAAACwQZoySeEPJlMCH//+qZYAAAMA\n",
              "AAMDQbP/jnaCwAJ2+RBVIPJj5JYbM/tcusspyo7trIwg6YA7yn/m7IeMShRGXT5VBNQkVs/rEcn5\n",
              "T4gwaOu2iW/55VBMtH9PwncNg0m5QgcTdthRqSb4OorvXk+la7E8BJ3ZWMIClSmKF506aXx1f5EO\n",
              "nWIGFxI+vexoewqcP5NuuHvybvAUfJsni9kZenKsyBaqOv3JXMRG/F3gb0EAAABpQZ5QRRE8O/8A\n",
              "ABir3J4XGBOtZpgfREA9ZoUpK3x6wS61aF0XAAhC4EWbshOuO0q0/k5++wXW3YUcNzWOucf0+2QD\n",
              "p7KE+KpzIOmCEfIc6GaoV1x/nbf2qRoAj7W1WIvKWXCCyPvW/THdAAAAVwGeb3RDfwAACxHfDaHa\n",
              "0SwNbJpgI8hI9RAGnIsv8AEIURqV4T7VExX3XNJygyJppld5WpKf6Yc9OOEv4lhWVxKgtWOiw5C9\n",
              "BqwXvbXLgIa/yjwWkH0nvQAAAEQBnnFqQ38AAAsT0IeZBWiYPVau5UD71LcAH8HzOLxsBegKHhVx\n",
              "YeHVIsxusPxeyB/3UZ0eERVsXW7L7BVvlsAo2e3R8QAAAFRBmnNJqEFomUwIf//+qZYAAAMAAAMD\n",
              "Peog889igwA4yGxGul/B12JkhS4I/Fuz02wlb4x6H0+dJLkojxQAGrLd89iycHTqCK8+sUV39D0b\n",
              "xS3wwqYAAABAQZqUSeEKUmUwIf/+qZYAAAMAAAMDPNvjL2+Mbvo2v5W3/W+0AGZB3PPpb/mvnsxD\n",
              "mXGuJchvhutdnOopPhhUwAAAAEtBmrVJ4Q6JlMCH//6plgAAAwAACMGJGCQekALZKVuZ8Kd2woyB\n",
              "+Jh6reEaDOwEZchoDVNu5nBzd/YT3FLyDhmKw//2wjFWVudAoIEAAAB2QZrWSeEPJlMCH//+qZYA\n",
              "AAMAAAjLD8YI78ABW1QBa2xqXSFQVErq7w+rLXE+Rw+XOVDdk6go8ZudBw0GwM5UtbtyicY5OSEz\n",
              "zYdH4tyFOq1METTAfzXs1tIVDsrZyvSKW4l5rWvdMm2eR5/jJNGx5mDtLqQs4AAAAFlBmvdJ4Q8m\n",
              "UwIf//6plgAAAwAACMvkSDpFgFrtp3NX6wJ+LZs8HTuerM6CRTz9QSU0uvKvuSro85PAFtGrYMKJ\n",
              "pAy3IWIYYPwN56YtY9c7hRdcbu93JqQs4QAAAIhBmxhJ4Q8mUwIf//6plgAAAwAAQnu964cLZoJV\n",
              "G53a1AAuqVHtkzsJtmR+7rJ31Trc/GRFSdw3oe6pZsq5iZltvaZ50EXWkj0sQD86inL9lIA34/SF\n",
              "5RlSiYddz+kT0c8qQ+s0dJ0dBqUrUea0uqaK4DGm8S65IVtiHJ4u5sZIiavvu8nmyBMxAAAAZkGb\n",
              "OUnhDyZTAh///qmWAAADAAAYF79to5CXaAEyQ5zHV1Dvm1MDzhScCtJXhoxb9mx+kDRpZEvx3vPa\n",
              "LKtoSwIn/Auoy0M7nEZ6mX5c/mYd+oKlPkkSctsAcUyAa+i5VnBGJEBnwAAAAGJBm1pJ4Q8mUwII\n",
              "f/6qVQAAAwAABix39jIDPADWLd9ox8ghucBKgPuFICtBiM5rbXNLiUy1dL95HsolGPqV1MLf/2ww\n",
              "3FDjDaU2WwBRXdMtg54Kdx/mx7IfaC1AdXBqD8CtgQAAAGFBm3tJ4Q8mUwIIf/6qVQAAAwAAEJfX\n",
              "CIQylHABAbJxaPmeAboD3CM02UT/crlzw2zyQcAl+Uq1EHwdrbMbu3u8lOAFtEvnarOTobELh9T3\n",
              "0i8PTsCGzzGGiFsQjSjbrgakAAAAukGbnknhDyZTAh///qmWAAADAACzcJlu7Sotn1pQAOzREfec\n",
              "5QPNnu3B/VaacLtMIVwh4cectluCb3M990MPhTglaKKhsTs0wZeyvV6kLYXVUiOoDF9FQq73i8YA\n",
              "kd/Gjz40k22BwSpJv+hKywPdewESAkHRoOdEjZCrcIufls1Uma+PD+dNpJfAibiatJ54ASY6n8ff\n",
              "lyvgWT0UeX491YgwpajnKMBE9ea6fX12TLmyJcHc4eCbt0wB3QAAAE9Bn7xFETw3/wAAIq7I6QO2\n",
              "R9kcp7DIhut2sbgrdQAJFkkhD0+G8zKYC8mirIsiR9V2CGOyI7775yU5XhyGA3GTMpIy4EtG3VU/\n",
              "OwWUIAl5AAAAMQGf3WpDfwAAAwAAfwctNHSGAGYafRiFXMSOsy1uwy3pRbihTUv5OpUEB+kl/nsg\n",
              "HTAAAACOQZvfSahBaJlMCH///qmWAAADAAHn62mseWhIQAmZS/60W/63VHzXo+fBXLaqUPtw87oi\n",
              "3SjTyD2oS4BSZ4tXH2ju0wjA9zWAkouS62PJ9UNg3SWvZV5JT+bvmRh9//kxOcFfqNVIJoR1DjYx\n",
              "6akunaOf6MBOSHLe8CtL/LSb/3towPk0TrU6SVOxowAr4AAAAFlBm+BJ4QpSZTAh//6plgAAAwAB\n",
              "6CWERZE4ACCHtyUff7xGSVdAtZCRdzgWuu+mTH45feCDLokr3WH8RuHZScLv4xDsTamMBmuc/TFJ\n",
              "exvvfWBbwCjfhgAi4QAAAGlBmgFJ4Q6JlMCH//6plgAAAwAFS6yWAC+bVTJnj8qeCd27HrS2h1DM\n",
              "GeihSzPaSoZZ6ylxgRtMOFAGTU0M479g9Yn6PEd5IFBu7Pf2pAGIn80iF8fpBhXdTFCmlQ2/3acg\n",
              "PkQXD9uADLgAAABdQZojSeEPJlMFETw3//6nhAAAAwAc8e2oAbshGctFI3zgHiWsY79cWC/bewBv\n",
              "ZmP0W+6TaR+raq4VFCTnzEgB41ymECHrYQlvDZwyziRGXzw1U2/oyLxpUgq4AB6xAAAASAGeQmpD\n",
              "fwAAIq7I6U+frllhRLY3BABtJkBXi0qhXHfCM2nN5u1HMY+RwzXI2yKpZwYTUiZc/iTrK3WDXkZY\n",
              "zX4bw+P6tmAD/AAABkptb292AAAAbG12aGQAAAAAAAAAAAAAAAAAAAPoAAAnEAABAAABAAAAAAAA\n",
              "AAAAAAAAAQAAAAAAAAAAAAAAAAAAAAEAAAAAAAAAAAAAAAAAAEAAAAAAAAAAAAAAAAAAAAAAAAAA\n",
              "AAAAAAAAAAAAAAACAAAFdHRyYWsAAABcdGtoZAAAAAMAAAAAAAAAAAAAAAEAAAAAAAAnEAAAAAAA\n",
              "AAAAAAAAAAAAAAAAAQAAAAAAAAAAAAAAAAAAAAEAAAAAAAAAAAAAAAAAAEAAAAACgAAAAeAAAAAA\n",
              "ACRlZHRzAAAAHGVsc3QAAAAAAAAAAQAAJxAAAAgAAAEAAAAABOxtZGlhAAAAIG1kaGQAAAAAAAAA\n",
              "AAAAAAAAACgAAAGQAFXEAAAAAAAtaGRscgAAAAAAAAAAdmlkZQAAAAAAAAAAAAAAAFZpZGVvSGFu\n",
              "ZGxlcgAAAASXbWluZgAAABR2bWhkAAAAAQAAAAAAAAAAAAAAJGRpbmYAAAAcZHJlZgAAAAAAAAAB\n",
              "AAAADHVybCAAAAABAAAEV3N0YmwAAAC3c3RzZAAAAAAAAAABAAAAp2F2YzEAAAAAAAAAAQAAAAAA\n",
              "AAAAAAAAAAAAAAACgAHgAEgAAABIAAAAAAAAAAEAAAAAAAAAAAAAAAAAAAAAAAAAAAAAAAAAAAAA\n",
              "AAAAAAAY//8AAAA1YXZjQwFkABb/4QAYZ2QAFqzZQKA9oQAAAwABAAADABQPFi2WAQAGaOvjyyLA\n",
              "/fj4AAAAABx1dWlka2hA8l8kT8W6OaUbzwMj8wAAAAAAAAAYc3R0cwAAAAAAAAABAAAAZAAABAAA\n",
              "AAAUc3RzcwAAAAAAAAABAAAAAQAAAZhjdHRzAAAAAAAAADEAAAABAAAIAAAAAAEAABQAAAAAAQAA\n",
              "CAAAAAABAAAAAAAAAAEAAAQAAAAAEQAACAAAAAABAAAMAAAAAAEAAAQAAAAABAAACAAAAAABAAAU\n",
              "AAAAAAEAAAgAAAAAAQAAAAAAAAABAAAEAAAAAAoAAAgAAAAAAQAAFAAAAAABAAAIAAAAAAEAAAAA\n",
              "AAAAAQAABAAAAAABAAAMAAAAAAEAAAQAAAAAAQAACAAAAAABAAAQAAAAAAIAAAQAAAAAAgAACAAA\n",
              "AAABAAAMAAAAAAEAAAQAAAAAAQAACAAAAAABAAAMAAAAAAEAAAQAAAAAAQAACAAAAAABAAAMAAAA\n",
              "AAEAAAQAAAAACwAACAAAAAABAAAMAAAAAAEAAAQAAAAAAQAACAAAAAABAAAMAAAAAAEAAAQAAAAA\n",
              "AQAACAAAAAABAAAUAAAAAAEAAAgAAAAAAQAAAAAAAAABAAAEAAAAAAkAAAgAAAAAAQAAEAAAAAAC\n",
              "AAAEAAAAAAMAAAgAAAAAAQAADAAAAAABAAAEAAAAABxzdHNjAAAAAAAAAAEAAAABAAAAZAAAAAEA\n",
              "AAGkc3RzegAAAAAAAAAAAAAAZAAAKv4AAAG7AAAAnQAAAF4AAAA5AAAAfwAAAIEAAAB/AAAAWgAA\n",
              "AL4AAAC8AAAAZgAAAFgAAACDAAAAkwAAAHUAAAC1AAAAkAAAAJIAAAC4AAAAhwAAAI4AAACzAAAA\n",
              "NQAAAJMAAACFAAAAlQAAAIAAAADhAAAAoAAAAEsAAABdAAAAnQAAAGgAAACeAAAAogAAAJ8AAAB0\n",
              "AAAAcAAAAJAAAACAAAAAjwAAAMYAAABMAAAAUAAAAFcAAADRAAAATAAAAFgAAAD5AAAAUQAAAGQA\n",
              "AABJAAAAdwAAAJQAAAAiAAAASgAAAHAAAAA8AAAAWQAAAMgAAABZAAAAYgAAAKUAAADQAAAAXQAA\n",
              "AG8AAACAAAAAnAAAAGEAAACiAAAAqQAAAHAAAACWAAAAPAAAAH8AAAB3AAAARgAAAIMAAAC0AAAA\n",
              "bQAAAFsAAABIAAAAWAAAAEQAAABPAAAAegAAAF0AAACMAAAAagAAAGYAAABlAAAAvgAAAFMAAAA1\n",
              "AAAAkgAAAF0AAABtAAAAYQAAAEwAAAAUc3RjbwAAAAAAAAABAAAAMAAAAGJ1ZHRhAAAAWm1ldGEA\n",
              "AAAAAAAAIWhkbHIAAAAAAAAAAG1kaXJhcHBsAAAAAAAAAAAAAAAALWlsc3QAAAAlqXRvbwAAAB1k\n",
              "YXRhAAAAAQAAAABMYXZmNTguNzYuMTAw\n",
              "\">\n",
              "  Your browser does not support the video tag.\n",
              "</video>"
            ],
            "text/plain": [
              "<matplotlib.animation.FuncAnimation at 0x79078963fb20>"
            ]
          },
          "execution_count": 57,
          "metadata": {},
          "output_type": "execute_result"
        }
      ],
      "source": [
        "# Ejecutamos la animación para que se genere y quede en loop mostrando su resultado.\n",
        "anim = animation.FuncAnimation(fig, graficar, frames=frames, interval=100)\n",
        "anim"
      ]
    },
    {
      "cell_type": "markdown",
      "metadata": {
        "id": "Pv9Vr1DPnsFW"
      },
      "source": [
        "Enlace de interés para animación:\n",
        "\n",
        "[Más sobre animaciones](https://colab.research.google.com/drive/175OXd7JnYK26tG0-0ap4-_pZsPqyMIzX#scrollTo=aMZjV7zZv2pQ)"
      ]
    }
  ],
  "metadata": {
    "colab": {
      "provenance": []
    },
    "kernelspec": {
      "display_name": "Python 3 (ipykernel)",
      "language": "python",
      "name": "python3"
    },
    "language_info": {
      "codemirror_mode": {
        "name": "ipython",
        "version": 3
      },
      "file_extension": ".py",
      "mimetype": "text/x-python",
      "name": "python",
      "nbconvert_exporter": "python",
      "pygments_lexer": "ipython3",
      "version": "3.8.12"
    }
  },
  "nbformat": 4,
  "nbformat_minor": 0
}